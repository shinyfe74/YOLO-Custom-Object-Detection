{
 "cells": [
  {
   "cell_type": "code",
   "execution_count": 1,
   "id": "1fec1264-fb35-474c-9480-de5a8d195aa9",
   "metadata": {
    "scrolled": true
   },
   "outputs": [
    {
     "name": "stdout",
     "output_type": "stream",
     "text": [
      "Python 3.11.9\n"
     ]
    }
   ],
   "source": [
    "!python --version"
   ]
  },
  {
   "cell_type": "markdown",
   "id": "898d6d78-8c9d-48fb-9734-d9ac35f3b45e",
   "metadata": {},
   "source": [
    "### Download repo and installing required packages"
   ]
  },
  {
   "cell_type": "code",
   "execution_count": 2,
   "id": "543567b2-03c8-4f1a-8399-7a9f3301dd21",
   "metadata": {},
   "outputs": [],
   "source": [
    "!git clone https://github.com/shinyfe74/YOLOv10-Custom-Object-Detection.git"
   ]
  },
  {
   "cell_type": "markdown",
   "id": "5c339def-268e-4d43-b682-7017d9309f31",
   "metadata": {},
   "source": [
    "### Install Yolo and Downloading pretrained weights"
   ]
  },
  {
   "cell_type": "code",
   "execution_count": 2,
   "id": "9d90caa0",
   "metadata": {},
   "outputs": [
    {
     "name": "stdout",
     "output_type": "stream",
     "text": [
      "Requirement already satisfied: ultralytics in /opt/conda/lib/python3.11/site-packages (8.3.40)\n",
      "Requirement already satisfied: numpy>=1.23.0 in /opt/conda/lib/python3.11/site-packages (from ultralytics) (1.26.4)\n",
      "Requirement already satisfied: matplotlib>=3.3.0 in /opt/conda/lib/python3.11/site-packages (from ultralytics) (3.9.2)\n",
      "Requirement already satisfied: opencv-python>=4.6.0 in /opt/conda/lib/python3.11/site-packages (from ultralytics) (4.10.0)\n",
      "Requirement already satisfied: pillow>=7.1.2 in /opt/conda/lib/python3.11/site-packages (from ultralytics) (10.4.0)\n",
      "Requirement already satisfied: pyyaml>=5.3.1 in /opt/conda/lib/python3.11/site-packages (from ultralytics) (6.0.1)\n",
      "Requirement already satisfied: requests>=2.23.0 in /opt/conda/lib/python3.11/site-packages (from ultralytics) (2.32.3)\n",
      "Requirement already satisfied: scipy>=1.4.1 in /opt/conda/lib/python3.11/site-packages (from ultralytics) (1.14.1)\n",
      "Requirement already satisfied: torch>=1.8.0 in /opt/conda/lib/python3.11/site-packages (from ultralytics) (2.4.0)\n",
      "Requirement already satisfied: torchvision>=0.9.0 in /opt/conda/lib/python3.11/site-packages (from ultralytics) (0.19.0)\n",
      "Requirement already satisfied: tqdm>=4.64.0 in /opt/conda/lib/python3.11/site-packages (from ultralytics) (4.66.4)\n",
      "Requirement already satisfied: psutil in /opt/conda/lib/python3.11/site-packages (from ultralytics) (5.9.0)\n",
      "Requirement already satisfied: py-cpuinfo in /opt/conda/lib/python3.11/site-packages (from ultralytics) (9.0.0)\n",
      "Requirement already satisfied: pandas>=1.1.4 in /opt/conda/lib/python3.11/site-packages (from ultralytics) (2.2.3)\n",
      "Requirement already satisfied: seaborn>=0.11.0 in /opt/conda/lib/python3.11/site-packages (from ultralytics) (0.13.2)\n",
      "Collecting ultralytics-thop>=2.0.0 (from ultralytics)\n",
      "  Downloading ultralytics_thop-2.0.13-py3-none-any.whl.metadata (9.4 kB)\n",
      "Requirement already satisfied: contourpy>=1.0.1 in /opt/conda/lib/python3.11/site-packages (from matplotlib>=3.3.0->ultralytics) (1.3.1)\n",
      "Requirement already satisfied: cycler>=0.10 in /opt/conda/lib/python3.11/site-packages (from matplotlib>=3.3.0->ultralytics) (0.11.0)\n",
      "Requirement already satisfied: fonttools>=4.22.0 in /opt/conda/lib/python3.11/site-packages (from matplotlib>=3.3.0->ultralytics) (4.51.0)\n",
      "Requirement already satisfied: kiwisolver>=1.3.1 in /opt/conda/lib/python3.11/site-packages (from matplotlib>=3.3.0->ultralytics) (1.4.4)\n",
      "Requirement already satisfied: packaging>=20.0 in /opt/conda/lib/python3.11/site-packages (from matplotlib>=3.3.0->ultralytics) (24.1)\n",
      "Requirement already satisfied: pyparsing>=2.3.1 in /opt/conda/lib/python3.11/site-packages (from matplotlib>=3.3.0->ultralytics) (3.2.0)\n",
      "Requirement already satisfied: python-dateutil>=2.7 in /opt/conda/lib/python3.11/site-packages (from matplotlib>=3.3.0->ultralytics) (2.9.0.post0)\n",
      "Requirement already satisfied: pytz>=2020.1 in /opt/conda/lib/python3.11/site-packages (from pandas>=1.1.4->ultralytics) (2024.1)\n",
      "Requirement already satisfied: tzdata>=2022.7 in /opt/conda/lib/python3.11/site-packages (from pandas>=1.1.4->ultralytics) (2023.3)\n",
      "Requirement already satisfied: charset-normalizer<4,>=2 in /opt/conda/lib/python3.11/site-packages (from requests>=2.23.0->ultralytics) (2.0.4)\n",
      "Requirement already satisfied: idna<4,>=2.5 in /opt/conda/lib/python3.11/site-packages (from requests>=2.23.0->ultralytics) (3.7)\n",
      "Requirement already satisfied: urllib3<3,>=1.21.1 in /opt/conda/lib/python3.11/site-packages (from requests>=2.23.0->ultralytics) (2.2.2)\n",
      "Requirement already satisfied: certifi>=2017.4.17 in /opt/conda/lib/python3.11/site-packages (from requests>=2.23.0->ultralytics) (2024.12.14)\n",
      "Requirement already satisfied: filelock in /opt/conda/lib/python3.11/site-packages (from torch>=1.8.0->ultralytics) (3.13.1)\n",
      "Requirement already satisfied: typing-extensions>=4.8.0 in /opt/conda/lib/python3.11/site-packages (from torch>=1.8.0->ultralytics) (4.11.0)\n",
      "Requirement already satisfied: sympy in /opt/conda/lib/python3.11/site-packages (from torch>=1.8.0->ultralytics) (1.13.1)\n",
      "Requirement already satisfied: networkx in /opt/conda/lib/python3.11/site-packages (from torch>=1.8.0->ultralytics) (3.3)\n",
      "Requirement already satisfied: jinja2 in /opt/conda/lib/python3.11/site-packages (from torch>=1.8.0->ultralytics) (3.1.4)\n",
      "Requirement already satisfied: fsspec in /opt/conda/lib/python3.11/site-packages (from torch>=1.8.0->ultralytics) (2024.6.1)\n",
      "Requirement already satisfied: six>=1.5 in /opt/conda/lib/python3.11/site-packages (from python-dateutil>=2.7->matplotlib>=3.3.0->ultralytics) (1.16.0)\n",
      "Requirement already satisfied: MarkupSafe>=2.0 in /opt/conda/lib/python3.11/site-packages (from jinja2->torch>=1.8.0->ultralytics) (2.1.3)\n",
      "Requirement already satisfied: mpmath<1.4,>=1.1.0 in /opt/conda/lib/python3.11/site-packages (from sympy->torch>=1.8.0->ultralytics) (1.3.0)\n",
      "Downloading ultralytics_thop-2.0.13-py3-none-any.whl (26 kB)\n",
      "Installing collected packages: ultralytics-thop\n",
      "Successfully installed ultralytics-thop-2.0.13\n",
      "\u001b[33mWARNING: Running pip as the 'root' user can result in broken permissions and conflicting behaviour with the system package manager. It is recommended to use a virtual environment instead: https://pip.pypa.io/warnings/venv\u001b[0m\u001b[33m\n",
      "\u001b[0m"
     ]
    }
   ],
   "source": [
    "!pip install ultralytics"
   ]
  },
  {
   "cell_type": "code",
   "execution_count": null,
   "id": "726c496f",
   "metadata": {},
   "outputs": [],
   "source": [
    "import torch\n",
    "import cv2\n",
    "import os\n",
    "from PIL import Image\n",
    "import numpy as np\n",
    "import time\n",
    "import pandas as pd\n",
    "import numpy as np\n",
    "import matplotlib.pyplot as plt\n",
    "from sklearn.model_selection import train_test_split \n",
    "import glob"
   ]
  },
  {
   "cell_type": "code",
   "execution_count": 1,
   "id": "ff76e1fc-07c0-44b0-9548-c8c9c3d84caa",
   "metadata": {},
   "outputs": [],
   "source": [
    "from ultralytics import YOLO\n",
    "model = YOLO(\"yolo11x.pt\")  # load an official model\n",
    "### yolo11n.pt yolo11s.pt yolo11m.pt yolo11l.pt yolo11x.pt"
   ]
  },
  {
   "cell_type": "markdown",
   "id": "a6e89a42-0cd5-44ea-827c-91fec737c2c5",
   "metadata": {},
   "source": [
    "# Pre trained model로 검출해보기"
   ]
  },
  {
   "cell_type": "code",
   "execution_count": 2,
   "id": "004ddb6b-2a6b-480b-b3ab-6ad05e323227",
   "metadata": {},
   "outputs": [
    {
     "name": "stdout",
     "output_type": "stream",
     "text": [
      "\n",
      "image 1/1 /home/workspace/yolo/YOLOv10-Custom-Object-Detection/test_images/1.jpg: 448x640 4 horses, 50.8ms\n",
      "Speed: 3.8ms preprocess, 50.8ms inference, 98.0ms postprocess per image at shape (1, 3, 448, 640)\n",
      "Results saved to \u001b[1mruns/detect/predict3\u001b[0m\n"
     ]
    }
   ],
   "source": [
    "Inferencing_result = model.predict(source=\"./test_images/1.jpg\", conf=0.25, save=True)"
   ]
  },
  {
   "cell_type": "markdown",
   "id": "67a08c47-fe52-4fe7-bb62-9db0953a7584",
   "metadata": {},
   "source": [
    "# Train Custom Model"
   ]
  },
  {
   "cell_type": "code",
   "execution_count": 9,
   "id": "0fc5ab18",
   "metadata": {},
   "outputs": [
    {
     "name": "stdout",
     "output_type": "stream",
     "text": [
      "New https://pypi.org/project/ultralytics/8.3.57 available 😃 Update with 'pip install -U ultralytics'\n",
      "Ultralytics 8.3.40 🚀 Python-3.11.9 torch-2.4.0 CUDA:0 (NVIDIA RTX A6000, 48454MiB)\n",
      "\u001b[34m\u001b[1mengine/trainer: \u001b[0mtask=detect, mode=train, model=yolo11x.pt, data=custom_data.yaml, epochs=100, time=True, patience=100, batch=16, imgsz=640, save=True, save_period=-1, cache=False, device=None, workers=8, project=None, name=train21, exist_ok=False, pretrained=True, optimizer=auto, verbose=True, seed=0, deterministic=True, single_cls=False, rect=False, cos_lr=False, close_mosaic=10, resume=False, amp=True, fraction=1.0, profile=False, freeze=None, multi_scale=False, overlap_mask=True, mask_ratio=4, dropout=0.0, val=True, split=val, save_json=False, save_hybrid=False, conf=None, iou=0.7, max_det=300, half=False, dnn=False, plots=True, source=None, vid_stride=1, stream_buffer=False, visualize=False, augment=False, agnostic_nms=False, classes=None, retina_masks=False, embed=None, show=False, save_frames=False, save_txt=False, save_conf=False, save_crop=False, show_labels=True, show_conf=True, show_boxes=True, line_width=None, format=torchscript, keras=False, optimize=False, int8=False, dynamic=False, simplify=True, opset=None, workspace=None, nms=False, lr0=0.01, lrf=0.01, momentum=0.937, weight_decay=0.0005, warmup_epochs=3.0, warmup_momentum=0.8, warmup_bias_lr=0.1, box=7.5, cls=0.5, dfl=1.5, pose=12.0, kobj=1.0, nbs=64, hsv_h=0.015, hsv_s=0.7, hsv_v=0.4, degrees=0.0, translate=0.1, scale=0.5, shear=0.0, perspective=0.0, flipud=0.0, fliplr=0.5, bgr=0.0, mosaic=1.0, mixup=0.0, copy_paste=0.0, copy_paste_mode=flip, auto_augment=randaugment, erasing=0.4, crop_fraction=1.0, cfg=None, tracker=botsort.yaml, save_dir=runs/detect/train21\n",
      "Overriding model.yaml nc=80 with nc=1\n",
      "\n",
      "                   from  n    params  module                                       arguments                     \n",
      "  0                  -1  1      2784  ultralytics.nn.modules.conv.Conv             [3, 96, 3, 2]                 \n",
      "  1                  -1  1    166272  ultralytics.nn.modules.conv.Conv             [96, 192, 3, 2]               \n",
      "  2                  -1  2    389760  ultralytics.nn.modules.block.C3k2            [192, 384, 2, True, 0.25]     \n",
      "  3                  -1  1   1327872  ultralytics.nn.modules.conv.Conv             [384, 384, 3, 2]              \n"
     ]
    },
    {
     "name": "stdout",
     "output_type": "stream",
     "text": [
      "  4                  -1  2   1553664  ultralytics.nn.modules.block.C3k2            [384, 768, 2, True, 0.25]     \n",
      "  5                  -1  1   5309952  ultralytics.nn.modules.conv.Conv             [768, 768, 3, 2]              \n",
      "  6                  -1  2   5022720  ultralytics.nn.modules.block.C3k2            [768, 768, 2, True]           \n",
      "  7                  -1  1   5309952  ultralytics.nn.modules.conv.Conv             [768, 768, 3, 2]              \n",
      "  8                  -1  2   5022720  ultralytics.nn.modules.block.C3k2            [768, 768, 2, True]           \n",
      "  9                  -1  1   1476864  ultralytics.nn.modules.block.SPPF            [768, 768, 5]                 \n",
      " 10                  -1  2   3264768  ultralytics.nn.modules.block.C2PSA           [768, 768, 2]                 \n",
      " 11                  -1  1         0  torch.nn.modules.upsampling.Upsample         [None, 2, 'nearest']          \n",
      " 12             [-1, 6]  1         0  ultralytics.nn.modules.conv.Concat           [1]                           \n",
      " 13                  -1  2   5612544  ultralytics.nn.modules.block.C3k2            [1536, 768, 2, True]          \n",
      " 14                  -1  1         0  torch.nn.modules.upsampling.Upsample         [None, 2, 'nearest']          \n",
      " 15             [-1, 4]  1         0  ultralytics.nn.modules.conv.Concat           [1]                           \n",
      " 16                  -1  2   1700352  ultralytics.nn.modules.block.C3k2            [1536, 384, 2, True]          \n",
      " 17                  -1  1   1327872  ultralytics.nn.modules.conv.Conv             [384, 384, 3, 2]              \n",
      " 18            [-1, 13]  1         0  ultralytics.nn.modules.conv.Concat           [1]                           \n",
      " 19                  -1  2   5317632  ultralytics.nn.modules.block.C3k2            [1152, 768, 2, True]          \n",
      " 20                  -1  1   5309952  ultralytics.nn.modules.conv.Conv             [768, 768, 3, 2]              \n",
      " 21            [-1, 10]  1         0  ultralytics.nn.modules.conv.Concat           [1]                           \n",
      " 22                  -1  2   5612544  ultralytics.nn.modules.block.C3k2            [1536, 768, 2, True]          \n",
      " 23        [16, 19, 22]  1   3146707  ultralytics.nn.modules.head.Detect           [1, [384, 768, 768]]          \n",
      "YOLO11x summary: 631 layers, 56,874,931 parameters, 56,874,915 gradients, 195.4 GFLOPs\n",
      "\n",
      "Transferred 174/1015 items from pretrained weights\n",
      "Freezing layer 'model.23.dfl.conv.weight'\n",
      "\u001b[34m\u001b[1mAMP: \u001b[0mrunning Automatic Mixed Precision (AMP) checks...\n",
      "Downloading https://github.com/ultralytics/assets/releases/download/v8.3.0/yolo11n.pt to 'yolo11n.pt'...\n"
     ]
    },
    {
     "name": "stderr",
     "output_type": "stream",
     "text": [
      "100%|██████████| 5.35M/5.35M [00:00<00:00, 96.6MB/s]\n"
     ]
    },
    {
     "name": "stdout",
     "output_type": "stream",
     "text": [
      "\u001b[34m\u001b[1mAMP: \u001b[0mchecks passed ✅\n"
     ]
    },
    {
     "name": "stderr",
     "output_type": "stream",
     "text": [
      "\u001b[34m\u001b[1mtrain: \u001b[0mScanning /home/workspace/yolo/YOLOv10-Custom-Object-Detection/custom_dataset/dataset/train/labels... 210 images, 0 backgrounds, 0 corrupt: 100%|██████████| 210/210 [00:00<00:00, 3664.92it/s]"
     ]
    },
    {
     "name": "stdout",
     "output_type": "stream",
     "text": [
      "\u001b[34m\u001b[1mtrain: \u001b[0mNew cache created: /home/workspace/yolo/YOLOv10-Custom-Object-Detection/custom_dataset/dataset/train/labels.cache\n"
     ]
    },
    {
     "name": "stderr",
     "output_type": "stream",
     "text": [
      "\n",
      "\u001b[34m\u001b[1mval: \u001b[0mScanning /home/workspace/yolo/YOLOv10-Custom-Object-Detection/custom_dataset/dataset/valid/labels... 60 images, 0 backgrounds, 0 corrupt: 100%|██████████| 60/60 [00:00<00:00, 2882.32it/s]"
     ]
    },
    {
     "name": "stdout",
     "output_type": "stream",
     "text": [
      "\u001b[34m\u001b[1mval: \u001b[0mNew cache created: /home/workspace/yolo/YOLOv10-Custom-Object-Detection/custom_dataset/dataset/valid/labels.cache\n"
     ]
    },
    {
     "name": "stderr",
     "output_type": "stream",
     "text": [
      "\n"
     ]
    },
    {
     "name": "stdout",
     "output_type": "stream",
     "text": [
      "Plotting labels to runs/detect/train21/labels.jpg... \n",
      "\u001b[34m\u001b[1moptimizer:\u001b[0m 'optimizer=auto' found, ignoring 'lr0=0.01' and 'momentum=0.937' and determining best 'optimizer', 'lr0' and 'momentum' automatically... \n",
      "\u001b[34m\u001b[1moptimizer:\u001b[0m AdamW(lr=0.002, momentum=0.9) with parameter groups 167 weight(decay=0.0), 174 weight(decay=0.0005), 173 bias(decay=0.0)\n",
      "Image sizes 640 train, 640 val\n",
      "Using 8 dataloader workers\n",
      "Logging results to \u001b[1mruns/detect/train21\u001b[0m\n",
      "Starting training for True hours...\n",
      "\n",
      "      Epoch    GPU_mem   box_loss   cls_loss   dfl_loss  Instances       Size\n"
     ]
    },
    {
     "name": "stderr",
     "output_type": "stream",
     "text": [
      "      1/100      16.9G      2.922      3.974       2.35          7        640: 100%|██████████| 14/14 [00:05<00:00,  2.57it/s]\n",
      "                 Class     Images  Instances      Box(P          R      mAP50  mAP50-95): 100%|██████████| 2/2 [00:00<00:00,  4.13it/s]"
     ]
    },
    {
     "name": "stdout",
     "output_type": "stream",
     "text": [
      "                   all         60         64      0.442      0.406      0.378      0.214\n"
     ]
    },
    {
     "name": "stderr",
     "output_type": "stream",
     "text": [
      "\n"
     ]
    },
    {
     "name": "stdout",
     "output_type": "stream",
     "text": [
      "\n",
      "      Epoch    GPU_mem   box_loss   cls_loss   dfl_loss  Instances       Size\n"
     ]
    },
    {
     "name": "stderr",
     "output_type": "stream",
     "text": [
      "      2/508      17.3G      1.579      1.993      1.352          3        640: 100%|██████████| 14/14 [00:04<00:00,  2.98it/s]\n",
      "                 Class     Images  Instances      Box(P          R      mAP50  mAP50-95): 100%|██████████| 2/2 [00:00<00:00,  4.59it/s]"
     ]
    },
    {
     "name": "stdout",
     "output_type": "stream",
     "text": [
      "                   all         60         64      0.785       0.57      0.641      0.356\n"
     ]
    },
    {
     "name": "stderr",
     "output_type": "stream",
     "text": [
      "\n"
     ]
    },
    {
     "name": "stdout",
     "output_type": "stream",
     "text": [
      "\n",
      "      Epoch    GPU_mem   box_loss   cls_loss   dfl_loss  Instances       Size\n"
     ]
    },
    {
     "name": "stderr",
     "output_type": "stream",
     "text": [
      "      3/439      17.5G      1.646      1.781      1.406          3        640: 100%|██████████| 14/14 [00:04<00:00,  2.98it/s]\n",
      "                 Class     Images  Instances      Box(P          R      mAP50  mAP50-95): 100%|██████████| 2/2 [00:00<00:00,  4.71it/s]"
     ]
    },
    {
     "name": "stdout",
     "output_type": "stream",
     "text": [
      "                   all         60         64       0.85      0.621      0.717      0.406\n"
     ]
    },
    {
     "name": "stderr",
     "output_type": "stream",
     "text": [
      "\n"
     ]
    },
    {
     "name": "stdout",
     "output_type": "stream",
     "text": [
      "\n",
      "      Epoch    GPU_mem   box_loss   cls_loss   dfl_loss  Instances       Size\n"
     ]
    },
    {
     "name": "stderr",
     "output_type": "stream",
     "text": [
      "      4/422      17.6G      1.533       1.55      1.246          5        640: 100%|██████████| 14/14 [00:04<00:00,  2.99it/s]\n",
      "                 Class     Images  Instances      Box(P          R      mAP50  mAP50-95): 100%|██████████| 2/2 [00:00<00:00,  3.38it/s]"
     ]
    },
    {
     "name": "stdout",
     "output_type": "stream",
     "text": [
      "                   all         60         64      0.715      0.626      0.639      0.328\n"
     ]
    },
    {
     "name": "stderr",
     "output_type": "stream",
     "text": [
      "\n"
     ]
    },
    {
     "name": "stdout",
     "output_type": "stream",
     "text": [
      "\n",
      "      Epoch    GPU_mem   box_loss   cls_loss   dfl_loss  Instances       Size\n"
     ]
    },
    {
     "name": "stderr",
     "output_type": "stream",
     "text": [
      "      5/431      17.5G      1.611      1.401       1.35          7        640: 100%|██████████| 14/14 [00:04<00:00,  3.02it/s]\n",
      "                 Class     Images  Instances      Box(P          R      mAP50  mAP50-95): 100%|██████████| 2/2 [00:00<00:00,  4.73it/s]"
     ]
    },
    {
     "name": "stdout",
     "output_type": "stream",
     "text": [
      "                   all         60         64      0.799      0.747      0.794      0.388\n"
     ]
    },
    {
     "name": "stderr",
     "output_type": "stream",
     "text": [
      "\n"
     ]
    },
    {
     "name": "stdout",
     "output_type": "stream",
     "text": [
      "\n",
      "      Epoch    GPU_mem   box_loss   cls_loss   dfl_loss  Instances       Size\n"
     ]
    },
    {
     "name": "stderr",
     "output_type": "stream",
     "text": [
      "      6/441      17.6G      1.634      1.363      1.328          4        640: 100%|██████████| 14/14 [00:04<00:00,  3.03it/s]\n",
      "                 Class     Images  Instances      Box(P          R      mAP50  mAP50-95): 100%|██████████| 2/2 [00:00<00:00,  4.75it/s]"
     ]
    },
    {
     "name": "stdout",
     "output_type": "stream",
     "text": [
      "                   all         60         64      0.724      0.614      0.695      0.385\n"
     ]
    },
    {
     "name": "stderr",
     "output_type": "stream",
     "text": [
      "\n"
     ]
    },
    {
     "name": "stdout",
     "output_type": "stream",
     "text": [
      "\n",
      "      Epoch    GPU_mem   box_loss   cls_loss   dfl_loss  Instances       Size\n"
     ]
    },
    {
     "name": "stderr",
     "output_type": "stream",
     "text": [
      "      7/445      17.3G       1.56      1.297      1.298          3        640: 100%|██████████| 14/14 [00:04<00:00,  2.97it/s]\n",
      "                 Class     Images  Instances      Box(P          R      mAP50  mAP50-95): 100%|██████████| 2/2 [00:00<00:00,  4.76it/s]"
     ]
    },
    {
     "name": "stdout",
     "output_type": "stream",
     "text": [
      "                   all         60         64      0.796      0.703      0.756      0.415\n"
     ]
    },
    {
     "name": "stderr",
     "output_type": "stream",
     "text": [
      "\n"
     ]
    },
    {
     "name": "stdout",
     "output_type": "stream",
     "text": [
      "\n",
      "      Epoch    GPU_mem   box_loss   cls_loss   dfl_loss  Instances       Size\n"
     ]
    },
    {
     "name": "stderr",
     "output_type": "stream",
     "text": [
      "      8/437      17.5G      1.533      1.217      1.297          9        640: 100%|██████████| 14/14 [00:04<00:00,  3.05it/s]\n",
      "                 Class     Images  Instances      Box(P          R      mAP50  mAP50-95): 100%|██████████| 2/2 [00:00<00:00,  4.77it/s]"
     ]
    },
    {
     "name": "stdout",
     "output_type": "stream",
     "text": [
      "                   all         60         64      0.848      0.734      0.776       0.43\n"
     ]
    },
    {
     "name": "stderr",
     "output_type": "stream",
     "text": [
      "\n"
     ]
    },
    {
     "name": "stdout",
     "output_type": "stream",
     "text": [
      "\n",
      "      Epoch    GPU_mem   box_loss   cls_loss   dfl_loss  Instances       Size\n"
     ]
    },
    {
     "name": "stderr",
     "output_type": "stream",
     "text": [
      "      9/431      17.3G      1.424      1.113      1.263          5        640: 100%|██████████| 14/14 [00:04<00:00,  3.04it/s]\n",
      "                 Class     Images  Instances      Box(P          R      mAP50  mAP50-95): 100%|██████████| 2/2 [00:00<00:00,  4.77it/s]"
     ]
    },
    {
     "name": "stdout",
     "output_type": "stream",
     "text": [
      "                   all         60         64      0.845      0.682      0.749      0.415\n"
     ]
    },
    {
     "name": "stderr",
     "output_type": "stream",
     "text": [
      "\n"
     ]
    },
    {
     "name": "stdout",
     "output_type": "stream",
     "text": [
      "\n",
      "      Epoch    GPU_mem   box_loss   cls_loss   dfl_loss  Instances       Size\n"
     ]
    },
    {
     "name": "stderr",
     "output_type": "stream",
     "text": [
      "     10/434      17.5G      1.546      1.002       1.36          4        640: 100%|██████████| 14/14 [00:04<00:00,  3.04it/s]\n",
      "                 Class     Images  Instances      Box(P          R      mAP50  mAP50-95): 100%|██████████| 2/2 [00:00<00:00,  4.78it/s]"
     ]
    },
    {
     "name": "stdout",
     "output_type": "stream",
     "text": [
      "                   all         60         64      0.699      0.703      0.727      0.413\n"
     ]
    },
    {
     "name": "stderr",
     "output_type": "stream",
     "text": [
      "\n"
     ]
    },
    {
     "name": "stdout",
     "output_type": "stream",
     "text": [
      "\n",
      "      Epoch    GPU_mem   box_loss   cls_loss   dfl_loss  Instances       Size\n"
     ]
    },
    {
     "name": "stderr",
     "output_type": "stream",
     "text": [
      "     11/437      17.3G      1.455      1.034      1.265          5        640: 100%|██████████| 14/14 [00:04<00:00,  3.07it/s]\n",
      "                 Class     Images  Instances      Box(P          R      mAP50  mAP50-95): 100%|██████████| 2/2 [00:00<00:00,  4.76it/s]"
     ]
    },
    {
     "name": "stdout",
     "output_type": "stream",
     "text": [
      "                   all         60         64      0.606      0.624      0.562      0.265\n"
     ]
    },
    {
     "name": "stderr",
     "output_type": "stream",
     "text": [
      "\n"
     ]
    },
    {
     "name": "stdout",
     "output_type": "stream",
     "text": [
      "\n",
      "      Epoch    GPU_mem   box_loss   cls_loss   dfl_loss  Instances       Size\n"
     ]
    },
    {
     "name": "stderr",
     "output_type": "stream",
     "text": [
      "     12/441      17.5G      1.431     0.9734      1.254          2        640: 100%|██████████| 14/14 [00:04<00:00,  2.94it/s]\n",
      "                 Class     Images  Instances      Box(P          R      mAP50  mAP50-95): 100%|██████████| 2/2 [00:00<00:00,  4.77it/s]"
     ]
    },
    {
     "name": "stdout",
     "output_type": "stream",
     "text": [
      "                   all         60         64      0.812      0.672      0.702      0.397\n"
     ]
    },
    {
     "name": "stderr",
     "output_type": "stream",
     "text": [
      "\n"
     ]
    },
    {
     "name": "stdout",
     "output_type": "stream",
     "text": [
      "\n",
      "      Epoch    GPU_mem   box_loss   cls_loss   dfl_loss  Instances       Size\n"
     ]
    },
    {
     "name": "stderr",
     "output_type": "stream",
     "text": [
      "     13/443      17.3G      1.481       1.01      1.284          6        640: 100%|██████████| 14/14 [00:04<00:00,  2.90it/s]\n",
      "                 Class     Images  Instances      Box(P          R      mAP50  mAP50-95): 100%|██████████| 2/2 [00:00<00:00,  4.79it/s]"
     ]
    },
    {
     "name": "stdout",
     "output_type": "stream",
     "text": [
      "                   all         60         64      0.625      0.766      0.711      0.399\n"
     ]
    },
    {
     "name": "stderr",
     "output_type": "stream",
     "text": [
      "\n"
     ]
    },
    {
     "name": "stdout",
     "output_type": "stream",
     "text": [
      "\n",
      "      Epoch    GPU_mem   box_loss   cls_loss   dfl_loss  Instances       Size\n"
     ]
    },
    {
     "name": "stderr",
     "output_type": "stream",
     "text": [
      "     14/445      17.5G      1.435     0.9472      1.241          5        640: 100%|██████████| 14/14 [00:04<00:00,  3.00it/s]\n",
      "                 Class     Images  Instances      Box(P          R      mAP50  mAP50-95): 100%|██████████| 2/2 [00:00<00:00,  3.97it/s]"
     ]
    },
    {
     "name": "stdout",
     "output_type": "stream",
     "text": [
      "                   all         60         64      0.705      0.709      0.744      0.424\n"
     ]
    },
    {
     "name": "stderr",
     "output_type": "stream",
     "text": [
      "\n"
     ]
    },
    {
     "name": "stdout",
     "output_type": "stream",
     "text": [
      "\n",
      "      Epoch    GPU_mem   box_loss   cls_loss   dfl_loss  Instances       Size\n"
     ]
    },
    {
     "name": "stderr",
     "output_type": "stream",
     "text": [
      "     15/446      17.3G      1.456      1.051      1.226          3        640: 100%|██████████| 14/14 [00:04<00:00,  2.89it/s]\n",
      "                 Class     Images  Instances      Box(P          R      mAP50  mAP50-95): 100%|██████████| 2/2 [00:00<00:00,  4.77it/s]"
     ]
    },
    {
     "name": "stdout",
     "output_type": "stream",
     "text": [
      "                   all         60         64      0.708      0.641      0.718       0.37\n"
     ]
    },
    {
     "name": "stderr",
     "output_type": "stream",
     "text": [
      "\n"
     ]
    },
    {
     "name": "stdout",
     "output_type": "stream",
     "text": [
      "\n",
      "      Epoch    GPU_mem   box_loss   cls_loss   dfl_loss  Instances       Size\n"
     ]
    },
    {
     "name": "stderr",
     "output_type": "stream",
     "text": [
      "     16/448      17.5G      1.357     0.8884      1.234          2        640: 100%|██████████| 14/14 [00:04<00:00,  3.00it/s]\n",
      "                 Class     Images  Instances      Box(P          R      mAP50  mAP50-95): 100%|██████████| 2/2 [00:00<00:00,  4.00it/s]"
     ]
    },
    {
     "name": "stdout",
     "output_type": "stream",
     "text": [
      "                   all         60         64      0.697      0.719      0.731      0.427\n"
     ]
    },
    {
     "name": "stderr",
     "output_type": "stream",
     "text": [
      "\n"
     ]
    },
    {
     "name": "stdout",
     "output_type": "stream",
     "text": [
      "\n",
      "      Epoch    GPU_mem   box_loss   cls_loss   dfl_loss  Instances       Size\n"
     ]
    },
    {
     "name": "stderr",
     "output_type": "stream",
     "text": [
      "     17/449      17.3G      1.363     0.8785      1.229          4        640: 100%|██████████| 14/14 [00:04<00:00,  2.93it/s]\n",
      "                 Class     Images  Instances      Box(P          R      mAP50  mAP50-95): 100%|██████████| 2/2 [00:00<00:00,  4.08it/s]"
     ]
    },
    {
     "name": "stdout",
     "output_type": "stream",
     "text": [
      "                   all         60         64      0.553      0.715      0.706      0.363\n"
     ]
    },
    {
     "name": "stderr",
     "output_type": "stream",
     "text": [
      "\n"
     ]
    },
    {
     "name": "stdout",
     "output_type": "stream",
     "text": [
      "\n",
      "      Epoch    GPU_mem   box_loss   cls_loss   dfl_loss  Instances       Size\n"
     ]
    },
    {
     "name": "stderr",
     "output_type": "stream",
     "text": [
      "     18/450      17.5G      1.354     0.8012      1.183          6        640: 100%|██████████| 14/14 [00:04<00:00,  2.99it/s]\n",
      "                 Class     Images  Instances      Box(P          R      mAP50  mAP50-95): 100%|██████████| 2/2 [00:00<00:00,  4.76it/s]"
     ]
    },
    {
     "name": "stdout",
     "output_type": "stream",
     "text": [
      "                   all         60         64      0.796      0.641      0.759      0.422\n"
     ]
    },
    {
     "name": "stderr",
     "output_type": "stream",
     "text": [
      "\n"
     ]
    },
    {
     "name": "stdout",
     "output_type": "stream",
     "text": [
      "\n",
      "      Epoch    GPU_mem   box_loss   cls_loss   dfl_loss  Instances       Size\n"
     ]
    },
    {
     "name": "stderr",
     "output_type": "stream",
     "text": [
      "     19/451      17.3G      1.357     0.8577      1.189          2        640: 100%|██████████| 14/14 [00:04<00:00,  3.00it/s]\n",
      "                 Class     Images  Instances      Box(P          R      mAP50  mAP50-95): 100%|██████████| 2/2 [00:00<00:00,  4.75it/s]"
     ]
    },
    {
     "name": "stdout",
     "output_type": "stream",
     "text": [
      "                   all         60         64      0.751      0.719      0.739      0.382\n"
     ]
    },
    {
     "name": "stderr",
     "output_type": "stream",
     "text": [
      "\n"
     ]
    },
    {
     "name": "stdout",
     "output_type": "stream",
     "text": [
      "\n",
      "      Epoch    GPU_mem   box_loss   cls_loss   dfl_loss  Instances       Size\n"
     ]
    },
    {
     "name": "stderr",
     "output_type": "stream",
     "text": [
      "     20/451      17.5G       1.37     0.8224      1.218          2        640: 100%|██████████| 14/14 [00:04<00:00,  3.00it/s]\n",
      "                 Class     Images  Instances      Box(P          R      mAP50  mAP50-95): 100%|██████████| 2/2 [00:00<00:00,  4.77it/s]"
     ]
    },
    {
     "name": "stdout",
     "output_type": "stream",
     "text": [
      "                   all         60         64      0.903      0.723      0.809      0.452\n"
     ]
    },
    {
     "name": "stderr",
     "output_type": "stream",
     "text": [
      "\n"
     ]
    },
    {
     "name": "stdout",
     "output_type": "stream",
     "text": [
      "\n",
      "      Epoch    GPU_mem   box_loss   cls_loss   dfl_loss  Instances       Size\n"
     ]
    },
    {
     "name": "stderr",
     "output_type": "stream",
     "text": [
      "     21/448      17.3G      1.327     0.7651      1.218          3        640: 100%|██████████| 14/14 [00:04<00:00,  3.01it/s]\n",
      "                 Class     Images  Instances      Box(P          R      mAP50  mAP50-95): 100%|██████████| 2/2 [00:00<00:00,  4.76it/s]"
     ]
    },
    {
     "name": "stdout",
     "output_type": "stream",
     "text": [
      "                   all         60         64      0.825      0.781      0.814      0.461\n"
     ]
    },
    {
     "name": "stderr",
     "output_type": "stream",
     "text": [
      "\n"
     ]
    },
    {
     "name": "stdout",
     "output_type": "stream",
     "text": [
      "\n",
      "      Epoch    GPU_mem   box_loss   cls_loss   dfl_loss  Instances       Size\n"
     ]
    },
    {
     "name": "stderr",
     "output_type": "stream",
     "text": [
      "     22/445      17.5G       1.28     0.8043      1.198          3        640: 100%|██████████| 14/14 [00:04<00:00,  3.00it/s]\n",
      "                 Class     Images  Instances      Box(P          R      mAP50  mAP50-95): 100%|██████████| 2/2 [00:00<00:00,  4.78it/s]"
     ]
    },
    {
     "name": "stdout",
     "output_type": "stream",
     "text": [
      "                   all         60         64      0.843      0.781      0.802      0.429\n"
     ]
    },
    {
     "name": "stderr",
     "output_type": "stream",
     "text": [
      "\n"
     ]
    },
    {
     "name": "stdout",
     "output_type": "stream",
     "text": [
      "\n",
      "      Epoch    GPU_mem   box_loss   cls_loss   dfl_loss  Instances       Size\n"
     ]
    },
    {
     "name": "stderr",
     "output_type": "stream",
     "text": [
      "     23/446      17.3G       1.35     0.8092      1.247          3        640: 100%|██████████| 14/14 [00:04<00:00,  3.01it/s]\n",
      "                 Class     Images  Instances      Box(P          R      mAP50  mAP50-95): 100%|██████████| 2/2 [00:00<00:00,  4.78it/s]"
     ]
    },
    {
     "name": "stdout",
     "output_type": "stream",
     "text": [
      "                   all         60         64      0.841      0.742      0.818      0.445\n"
     ]
    },
    {
     "name": "stderr",
     "output_type": "stream",
     "text": [
      "\n"
     ]
    },
    {
     "name": "stdout",
     "output_type": "stream",
     "text": [
      "\n",
      "      Epoch    GPU_mem   box_loss   cls_loss   dfl_loss  Instances       Size\n"
     ]
    },
    {
     "name": "stderr",
     "output_type": "stream",
     "text": [
      "     24/447      17.6G      1.478     0.9677      1.286          3        640: 100%|██████████| 14/14 [00:04<00:00,  2.98it/s]\n",
      "                 Class     Images  Instances      Box(P          R      mAP50  mAP50-95): 100%|██████████| 2/2 [00:00<00:00,  4.76it/s]"
     ]
    },
    {
     "name": "stdout",
     "output_type": "stream",
     "text": [
      "                   all         60         64      0.794      0.656      0.749      0.375\n"
     ]
    },
    {
     "name": "stderr",
     "output_type": "stream",
     "text": [
      "\n"
     ]
    },
    {
     "name": "stdout",
     "output_type": "stream",
     "text": [
      "\n",
      "      Epoch    GPU_mem   box_loss   cls_loss   dfl_loss  Instances       Size\n"
     ]
    },
    {
     "name": "stderr",
     "output_type": "stream",
     "text": [
      "     25/447      17.3G      1.446     0.8977       1.24          7        640: 100%|██████████| 14/14 [00:04<00:00,  3.02it/s]\n",
      "                 Class     Images  Instances      Box(P          R      mAP50  mAP50-95): 100%|██████████| 2/2 [00:00<00:00,  4.76it/s]"
     ]
    },
    {
     "name": "stdout",
     "output_type": "stream",
     "text": [
      "                   all         60         64      0.819       0.75      0.847      0.397\n"
     ]
    },
    {
     "name": "stderr",
     "output_type": "stream",
     "text": [
      "\n"
     ]
    },
    {
     "name": "stdout",
     "output_type": "stream",
     "text": [
      "\n",
      "      Epoch    GPU_mem   box_loss   cls_loss   dfl_loss  Instances       Size\n"
     ]
    },
    {
     "name": "stderr",
     "output_type": "stream",
     "text": [
      "     26/448      17.6G      1.326     0.8384      1.209          3        640: 100%|██████████| 14/14 [00:04<00:00,  2.91it/s]\n",
      "                 Class     Images  Instances      Box(P          R      mAP50  mAP50-95): 100%|██████████| 2/2 [00:00<00:00,  4.77it/s]"
     ]
    },
    {
     "name": "stdout",
     "output_type": "stream",
     "text": [
      "                   all         60         64      0.742      0.688       0.74      0.415\n"
     ]
    },
    {
     "name": "stderr",
     "output_type": "stream",
     "text": [
      "\n"
     ]
    },
    {
     "name": "stdout",
     "output_type": "stream",
     "text": [
      "\n",
      "      Epoch    GPU_mem   box_loss   cls_loss   dfl_loss  Instances       Size\n"
     ]
    },
    {
     "name": "stderr",
     "output_type": "stream",
     "text": [
      "     27/449      17.3G       1.35      0.865      1.223          8        640: 100%|██████████| 14/14 [00:04<00:00,  2.94it/s]\n",
      "                 Class     Images  Instances      Box(P          R      mAP50  mAP50-95): 100%|██████████| 2/2 [00:00<00:00,  4.76it/s]"
     ]
    },
    {
     "name": "stdout",
     "output_type": "stream",
     "text": [
      "                   all         60         64      0.759      0.719      0.743      0.423\n"
     ]
    },
    {
     "name": "stderr",
     "output_type": "stream",
     "text": [
      "\n"
     ]
    },
    {
     "name": "stdout",
     "output_type": "stream",
     "text": [
      "\n",
      "      Epoch    GPU_mem   box_loss   cls_loss   dfl_loss  Instances       Size\n"
     ]
    },
    {
     "name": "stderr",
     "output_type": "stream",
     "text": [
      "     28/450      17.5G       1.31     0.8495      1.222          3        640: 100%|██████████| 14/14 [00:04<00:00,  2.90it/s]\n",
      "                 Class     Images  Instances      Box(P          R      mAP50  mAP50-95): 100%|██████████| 2/2 [00:00<00:00,  4.78it/s]"
     ]
    },
    {
     "name": "stdout",
     "output_type": "stream",
     "text": [
      "                   all         60         64      0.756      0.734      0.809      0.444\n"
     ]
    },
    {
     "name": "stderr",
     "output_type": "stream",
     "text": [
      "\n"
     ]
    },
    {
     "name": "stdout",
     "output_type": "stream",
     "text": [
      "\n",
      "      Epoch    GPU_mem   box_loss   cls_loss   dfl_loss  Instances       Size\n"
     ]
    },
    {
     "name": "stderr",
     "output_type": "stream",
     "text": [
      "     29/450      17.3G      1.366     0.9169      1.212          2        640: 100%|██████████| 14/14 [00:04<00:00,  2.89it/s]\n",
      "                 Class     Images  Instances      Box(P          R      mAP50  mAP50-95): 100%|██████████| 2/2 [00:00<00:00,  4.78it/s]"
     ]
    },
    {
     "name": "stdout",
     "output_type": "stream",
     "text": [
      "                   all         60         64      0.692      0.844      0.815       0.44\n"
     ]
    },
    {
     "name": "stderr",
     "output_type": "stream",
     "text": [
      "\n"
     ]
    },
    {
     "name": "stdout",
     "output_type": "stream",
     "text": [
      "\n",
      "      Epoch    GPU_mem   box_loss   cls_loss   dfl_loss  Instances       Size\n"
     ]
    },
    {
     "name": "stderr",
     "output_type": "stream",
     "text": [
      "     30/451      17.6G      1.241      0.786      1.145          5        640: 100%|██████████| 14/14 [00:04<00:00,  2.88it/s]\n",
      "                 Class     Images  Instances      Box(P          R      mAP50  mAP50-95): 100%|██████████| 2/2 [00:00<00:00,  4.77it/s]"
     ]
    },
    {
     "name": "stdout",
     "output_type": "stream",
     "text": [
      "                   all         60         64      0.878      0.785      0.871      0.471\n"
     ]
    },
    {
     "name": "stderr",
     "output_type": "stream",
     "text": [
      "\n"
     ]
    },
    {
     "name": "stdout",
     "output_type": "stream",
     "text": [
      "\n",
      "      Epoch    GPU_mem   box_loss   cls_loss   dfl_loss  Instances       Size\n"
     ]
    },
    {
     "name": "stderr",
     "output_type": "stream",
     "text": [
      "     31/449      17.3G      1.256     0.7541      1.207          4        640: 100%|██████████| 14/14 [00:04<00:00,  2.92it/s]\n",
      "                 Class     Images  Instances      Box(P          R      mAP50  mAP50-95): 100%|██████████| 2/2 [00:00<00:00,  4.75it/s]"
     ]
    },
    {
     "name": "stdout",
     "output_type": "stream",
     "text": [
      "                   all         60         64      0.826      0.818      0.872      0.494\n"
     ]
    },
    {
     "name": "stderr",
     "output_type": "stream",
     "text": [
      "\n"
     ]
    },
    {
     "name": "stdout",
     "output_type": "stream",
     "text": [
      "\n",
      "      Epoch    GPU_mem   box_loss   cls_loss   dfl_loss  Instances       Size\n"
     ]
    },
    {
     "name": "stderr",
     "output_type": "stream",
     "text": [
      "     32/447      17.5G       1.29     0.7903      1.164          2        640: 100%|██████████| 14/14 [00:04<00:00,  2.92it/s]\n",
      "                 Class     Images  Instances      Box(P          R      mAP50  mAP50-95): 100%|██████████| 2/2 [00:00<00:00,  4.75it/s]"
     ]
    },
    {
     "name": "stdout",
     "output_type": "stream",
     "text": [
      "                   all         60         64      0.839      0.812       0.86      0.412\n"
     ]
    },
    {
     "name": "stderr",
     "output_type": "stream",
     "text": [
      "\n"
     ]
    },
    {
     "name": "stdout",
     "output_type": "stream",
     "text": [
      "\n",
      "      Epoch    GPU_mem   box_loss   cls_loss   dfl_loss  Instances       Size\n"
     ]
    },
    {
     "name": "stderr",
     "output_type": "stream",
     "text": [
      "     33/447      17.3G      1.235     0.7698      1.187          1        640: 100%|██████████| 14/14 [00:04<00:00,  2.92it/s]\n",
      "                 Class     Images  Instances      Box(P          R      mAP50  mAP50-95): 100%|██████████| 2/2 [00:00<00:00,  4.76it/s]"
     ]
    },
    {
     "name": "stdout",
     "output_type": "stream",
     "text": [
      "                   all         60         64      0.772      0.689      0.793      0.461\n"
     ]
    },
    {
     "name": "stderr",
     "output_type": "stream",
     "text": [
      "\n"
     ]
    },
    {
     "name": "stdout",
     "output_type": "stream",
     "text": [
      "\n",
      "      Epoch    GPU_mem   box_loss   cls_loss   dfl_loss  Instances       Size\n"
     ]
    },
    {
     "name": "stderr",
     "output_type": "stream",
     "text": [
      "     34/448      17.5G      1.349     0.7958      1.211          4        640: 100%|██████████| 14/14 [00:04<00:00,  2.88it/s]\n",
      "                 Class     Images  Instances      Box(P          R      mAP50  mAP50-95): 100%|██████████| 2/2 [00:00<00:00,  4.65it/s]"
     ]
    },
    {
     "name": "stdout",
     "output_type": "stream",
     "text": [
      "                   all         60         64      0.898      0.797      0.853      0.488\n"
     ]
    },
    {
     "name": "stderr",
     "output_type": "stream",
     "text": [
      "\n"
     ]
    },
    {
     "name": "stdout",
     "output_type": "stream",
     "text": [
      "\n",
      "      Epoch    GPU_mem   box_loss   cls_loss   dfl_loss  Instances       Size\n"
     ]
    },
    {
     "name": "stderr",
     "output_type": "stream",
     "text": [
      "     35/448      17.3G       1.26     0.7161      1.184          6        640: 100%|██████████| 14/14 [00:04<00:00,  2.92it/s]\n",
      "                 Class     Images  Instances      Box(P          R      mAP50  mAP50-95): 100%|██████████| 2/2 [00:00<00:00,  4.78it/s]"
     ]
    },
    {
     "name": "stdout",
     "output_type": "stream",
     "text": [
      "                   all         60         64      0.832      0.772      0.833      0.475\n"
     ]
    },
    {
     "name": "stderr",
     "output_type": "stream",
     "text": [
      "\n"
     ]
    },
    {
     "name": "stdout",
     "output_type": "stream",
     "text": [
      "\n",
      "      Epoch    GPU_mem   box_loss   cls_loss   dfl_loss  Instances       Size\n"
     ]
    },
    {
     "name": "stderr",
     "output_type": "stream",
     "text": [
      "     36/449      17.5G       1.16     0.6985       1.12          3        640: 100%|██████████| 14/14 [00:04<00:00,  2.96it/s]\n",
      "                 Class     Images  Instances      Box(P          R      mAP50  mAP50-95): 100%|██████████| 2/2 [00:00<00:00,  4.12it/s]"
     ]
    },
    {
     "name": "stdout",
     "output_type": "stream",
     "text": [
      "                   all         60         64      0.779      0.781      0.827      0.461\n"
     ]
    },
    {
     "name": "stderr",
     "output_type": "stream",
     "text": [
      "\n"
     ]
    },
    {
     "name": "stdout",
     "output_type": "stream",
     "text": [
      "\n",
      "      Epoch    GPU_mem   box_loss   cls_loss   dfl_loss  Instances       Size\n"
     ]
    },
    {
     "name": "stderr",
     "output_type": "stream",
     "text": [
      "     37/449      17.4G      1.282     0.7265      1.155          2        640: 100%|██████████| 14/14 [00:04<00:00,  2.99it/s]\n",
      "                 Class     Images  Instances      Box(P          R      mAP50  mAP50-95): 100%|██████████| 2/2 [00:00<00:00,  4.76it/s]"
     ]
    },
    {
     "name": "stdout",
     "output_type": "stream",
     "text": [
      "                   all         60         64      0.788      0.766      0.795       0.47\n"
     ]
    },
    {
     "name": "stderr",
     "output_type": "stream",
     "text": [
      "\n"
     ]
    },
    {
     "name": "stdout",
     "output_type": "stream",
     "text": [
      "\n",
      "      Epoch    GPU_mem   box_loss   cls_loss   dfl_loss  Instances       Size\n"
     ]
    },
    {
     "name": "stderr",
     "output_type": "stream",
     "text": [
      "     38/450      17.6G      1.188     0.7152      1.168          2        640: 100%|██████████| 14/14 [00:04<00:00,  2.99it/s]\n",
      "                 Class     Images  Instances      Box(P          R      mAP50  mAP50-95): 100%|██████████| 2/2 [00:00<00:00,  4.69it/s]"
     ]
    },
    {
     "name": "stdout",
     "output_type": "stream",
     "text": [
      "                   all         60         64      0.719      0.759      0.757      0.391\n"
     ]
    },
    {
     "name": "stderr",
     "output_type": "stream",
     "text": [
      "\n"
     ]
    },
    {
     "name": "stdout",
     "output_type": "stream",
     "text": [
      "\n",
      "      Epoch    GPU_mem   box_loss   cls_loss   dfl_loss  Instances       Size\n"
     ]
    },
    {
     "name": "stderr",
     "output_type": "stream",
     "text": [
      "     39/450      17.3G      1.179      0.667      1.117          3        640: 100%|██████████| 14/14 [00:04<00:00,  2.99it/s]\n",
      "                 Class     Images  Instances      Box(P          R      mAP50  mAP50-95): 100%|██████████| 2/2 [00:00<00:00,  4.77it/s]"
     ]
    },
    {
     "name": "stdout",
     "output_type": "stream",
     "text": [
      "                   all         60         64      0.843      0.688      0.837      0.453\n"
     ]
    },
    {
     "name": "stderr",
     "output_type": "stream",
     "text": [
      "\n"
     ]
    },
    {
     "name": "stdout",
     "output_type": "stream",
     "text": [
      "\n",
      "      Epoch    GPU_mem   box_loss   cls_loss   dfl_loss  Instances       Size\n"
     ]
    },
    {
     "name": "stderr",
     "output_type": "stream",
     "text": [
      "     40/450      17.5G      1.187     0.7101      1.144          4        640: 100%|██████████| 14/14 [00:04<00:00,  2.98it/s]\n",
      "                 Class     Images  Instances      Box(P          R      mAP50  mAP50-95): 100%|██████████| 2/2 [00:00<00:00,  4.75it/s]"
     ]
    },
    {
     "name": "stdout",
     "output_type": "stream",
     "text": [
      "                   all         60         64      0.685      0.797      0.665      0.362\n"
     ]
    },
    {
     "name": "stderr",
     "output_type": "stream",
     "text": [
      "\n"
     ]
    },
    {
     "name": "stdout",
     "output_type": "stream",
     "text": [
      "\n",
      "      Epoch    GPU_mem   box_loss   cls_loss   dfl_loss  Instances       Size\n"
     ]
    },
    {
     "name": "stderr",
     "output_type": "stream",
     "text": [
      "     41/450      17.3G      1.178     0.6981      1.148          6        640: 100%|██████████| 14/14 [00:04<00:00,  3.01it/s]\n",
      "                 Class     Images  Instances      Box(P          R      mAP50  mAP50-95): 100%|██████████| 2/2 [00:00<00:00,  4.68it/s]"
     ]
    },
    {
     "name": "stdout",
     "output_type": "stream",
     "text": [
      "                   all         60         64      0.913      0.703      0.818      0.484\n"
     ]
    },
    {
     "name": "stderr",
     "output_type": "stream",
     "text": [
      "\n"
     ]
    },
    {
     "name": "stdout",
     "output_type": "stream",
     "text": [
      "\n",
      "      Epoch    GPU_mem   box_loss   cls_loss   dfl_loss  Instances       Size\n"
     ]
    },
    {
     "name": "stderr",
     "output_type": "stream",
     "text": [
      "     42/451      17.5G       1.23     0.7187      1.168          5        640: 100%|██████████| 14/14 [00:04<00:00,  3.02it/s]\n",
      "                 Class     Images  Instances      Box(P          R      mAP50  mAP50-95): 100%|██████████| 2/2 [00:00<00:00,  4.78it/s]"
     ]
    },
    {
     "name": "stdout",
     "output_type": "stream",
     "text": [
      "                   all         60         64      0.842      0.666      0.767      0.443\n"
     ]
    },
    {
     "name": "stderr",
     "output_type": "stream",
     "text": [
      "\n"
     ]
    },
    {
     "name": "stdout",
     "output_type": "stream",
     "text": [
      "\n",
      "      Epoch    GPU_mem   box_loss   cls_loss   dfl_loss  Instances       Size\n"
     ]
    },
    {
     "name": "stderr",
     "output_type": "stream",
     "text": [
      "     43/451      17.3G      1.134     0.6884      1.119          5        640: 100%|██████████| 14/14 [00:04<00:00,  2.91it/s]\n",
      "                 Class     Images  Instances      Box(P          R      mAP50  mAP50-95): 100%|██████████| 2/2 [00:00<00:00,  4.77it/s]"
     ]
    },
    {
     "name": "stdout",
     "output_type": "stream",
     "text": [
      "                   all         60         64      0.707      0.844      0.784      0.451\n"
     ]
    },
    {
     "name": "stderr",
     "output_type": "stream",
     "text": [
      "\n"
     ]
    },
    {
     "name": "stdout",
     "output_type": "stream",
     "text": [
      "\n",
      "      Epoch    GPU_mem   box_loss   cls_loss   dfl_loss  Instances       Size\n"
     ]
    },
    {
     "name": "stderr",
     "output_type": "stream",
     "text": [
      "     44/452      17.5G       1.17     0.6921      1.154          3        640: 100%|██████████| 14/14 [00:04<00:00,  2.91it/s]\n",
      "                 Class     Images  Instances      Box(P          R      mAP50  mAP50-95): 100%|██████████| 2/2 [00:00<00:00,  4.79it/s]"
     ]
    },
    {
     "name": "stdout",
     "output_type": "stream",
     "text": [
      "                   all         60         64      0.845      0.734      0.786      0.409\n"
     ]
    },
    {
     "name": "stderr",
     "output_type": "stream",
     "text": [
      "\n"
     ]
    },
    {
     "name": "stdout",
     "output_type": "stream",
     "text": [
      "\n",
      "      Epoch    GPU_mem   box_loss   cls_loss   dfl_loss  Instances       Size\n"
     ]
    },
    {
     "name": "stderr",
     "output_type": "stream",
     "text": [
      "     45/452      17.3G      1.128     0.6988      1.112          4        640: 100%|██████████| 14/14 [00:04<00:00,  3.01it/s]\n",
      "                 Class     Images  Instances      Box(P          R      mAP50  mAP50-95): 100%|██████████| 2/2 [00:00<00:00,  3.99it/s]"
     ]
    },
    {
     "name": "stdout",
     "output_type": "stream",
     "text": [
      "                   all         60         64       0.77      0.719      0.774      0.444\n"
     ]
    },
    {
     "name": "stderr",
     "output_type": "stream",
     "text": [
      "\n"
     ]
    },
    {
     "name": "stdout",
     "output_type": "stream",
     "text": [
      "\n",
      "      Epoch    GPU_mem   box_loss   cls_loss   dfl_loss  Instances       Size\n"
     ]
    },
    {
     "name": "stderr",
     "output_type": "stream",
     "text": [
      "     46/453      17.5G      1.147     0.7705      1.142          4        640: 100%|██████████| 14/14 [00:04<00:00,  2.99it/s]\n",
      "                 Class     Images  Instances      Box(P          R      mAP50  mAP50-95): 100%|██████████| 2/2 [00:00<00:00,  4.77it/s]"
     ]
    },
    {
     "name": "stdout",
     "output_type": "stream",
     "text": [
      "                   all         60         64      0.674      0.812       0.68      0.392\n"
     ]
    },
    {
     "name": "stderr",
     "output_type": "stream",
     "text": [
      "\n"
     ]
    },
    {
     "name": "stdout",
     "output_type": "stream",
     "text": [
      "\n",
      "      Epoch    GPU_mem   box_loss   cls_loss   dfl_loss  Instances       Size\n"
     ]
    },
    {
     "name": "stderr",
     "output_type": "stream",
     "text": [
      "     47/453      17.3G      1.146     0.7274      1.115          2        640: 100%|██████████| 14/14 [00:04<00:00,  3.00it/s]\n",
      "                 Class     Images  Instances      Box(P          R      mAP50  mAP50-95): 100%|██████████| 2/2 [00:00<00:00,  4.77it/s]"
     ]
    },
    {
     "name": "stdout",
     "output_type": "stream",
     "text": [
      "                   all         60         64      0.702      0.736      0.791      0.477\n"
     ]
    },
    {
     "name": "stderr",
     "output_type": "stream",
     "text": [
      "\n"
     ]
    },
    {
     "name": "stdout",
     "output_type": "stream",
     "text": [
      "\n",
      "      Epoch    GPU_mem   box_loss   cls_loss   dfl_loss  Instances       Size\n"
     ]
    },
    {
     "name": "stderr",
     "output_type": "stream",
     "text": [
      "     48/453      17.5G      1.092     0.6788      1.115          4        640: 100%|██████████| 14/14 [00:04<00:00,  3.01it/s]\n",
      "                 Class     Images  Instances      Box(P          R      mAP50  mAP50-95): 100%|██████████| 2/2 [00:00<00:00,  4.78it/s]"
     ]
    },
    {
     "name": "stdout",
     "output_type": "stream",
     "text": [
      "                   all         60         64        0.8      0.766      0.771      0.394\n"
     ]
    },
    {
     "name": "stderr",
     "output_type": "stream",
     "text": [
      "\n"
     ]
    },
    {
     "name": "stdout",
     "output_type": "stream",
     "text": [
      "\n",
      "      Epoch    GPU_mem   box_loss   cls_loss   dfl_loss  Instances       Size\n"
     ]
    },
    {
     "name": "stderr",
     "output_type": "stream",
     "text": [
      "     49/453      17.3G      1.138     0.6586       1.12          6        640: 100%|██████████| 14/14 [00:04<00:00,  3.04it/s]\n",
      "                 Class     Images  Instances      Box(P          R      mAP50  mAP50-95): 100%|██████████| 2/2 [00:00<00:00,  4.77it/s]"
     ]
    },
    {
     "name": "stdout",
     "output_type": "stream",
     "text": [
      "                   all         60         64      0.927      0.791      0.903       0.47\n"
     ]
    },
    {
     "name": "stderr",
     "output_type": "stream",
     "text": [
      "\n"
     ]
    },
    {
     "name": "stdout",
     "output_type": "stream",
     "text": [
      "\n",
      "      Epoch    GPU_mem   box_loss   cls_loss   dfl_loss  Instances       Size\n"
     ]
    },
    {
     "name": "stderr",
     "output_type": "stream",
     "text": [
      "     50/454      17.5G      1.149     0.6816      1.161          4        640: 100%|██████████| 14/14 [00:04<00:00,  2.92it/s]\n",
      "                 Class     Images  Instances      Box(P          R      mAP50  mAP50-95): 100%|██████████| 2/2 [00:00<00:00,  4.76it/s]"
     ]
    },
    {
     "name": "stdout",
     "output_type": "stream",
     "text": [
      "                   all         60         64       0.85       0.75      0.801      0.461\n"
     ]
    },
    {
     "name": "stderr",
     "output_type": "stream",
     "text": [
      "\n"
     ]
    },
    {
     "name": "stdout",
     "output_type": "stream",
     "text": [
      "\n",
      "      Epoch    GPU_mem   box_loss   cls_loss   dfl_loss  Instances       Size\n"
     ]
    },
    {
     "name": "stderr",
     "output_type": "stream",
     "text": [
      "     51/454      17.3G      1.163     0.6815      1.132          4        640: 100%|██████████| 14/14 [00:04<00:00,  2.88it/s]\n",
      "                 Class     Images  Instances      Box(P          R      mAP50  mAP50-95): 100%|██████████| 2/2 [00:00<00:00,  4.78it/s]"
     ]
    },
    {
     "name": "stdout",
     "output_type": "stream",
     "text": [
      "                   all         60         64      0.841      0.828      0.829      0.426\n"
     ]
    },
    {
     "name": "stderr",
     "output_type": "stream",
     "text": [
      "\n"
     ]
    },
    {
     "name": "stdout",
     "output_type": "stream",
     "text": [
      "\n",
      "      Epoch    GPU_mem   box_loss   cls_loss   dfl_loss  Instances       Size\n"
     ]
    },
    {
     "name": "stderr",
     "output_type": "stream",
     "text": [
      "     52/455      17.6G      1.058     0.6297      1.057          8        640: 100%|██████████| 14/14 [00:04<00:00,  2.99it/s]\n",
      "                 Class     Images  Instances      Box(P          R      mAP50  mAP50-95): 100%|██████████| 2/2 [00:00<00:00,  3.93it/s]"
     ]
    },
    {
     "name": "stdout",
     "output_type": "stream",
     "text": [
      "                   all         60         64      0.808      0.859      0.861      0.468\n"
     ]
    },
    {
     "name": "stderr",
     "output_type": "stream",
     "text": [
      "\n"
     ]
    },
    {
     "name": "stdout",
     "output_type": "stream",
     "text": [
      "\n",
      "      Epoch    GPU_mem   box_loss   cls_loss   dfl_loss  Instances       Size\n"
     ]
    },
    {
     "name": "stderr",
     "output_type": "stream",
     "text": [
      "     53/455      17.3G      1.066     0.6441      1.063          7        640: 100%|██████████| 14/14 [00:04<00:00,  3.00it/s]\n",
      "                 Class     Images  Instances      Box(P          R      mAP50  mAP50-95): 100%|██████████| 2/2 [00:00<00:00,  4.78it/s]"
     ]
    },
    {
     "name": "stdout",
     "output_type": "stream",
     "text": [
      "                   all         60         64      0.816      0.812      0.846        0.5\n"
     ]
    },
    {
     "name": "stderr",
     "output_type": "stream",
     "text": [
      "\n"
     ]
    },
    {
     "name": "stdout",
     "output_type": "stream",
     "text": [
      "\n",
      "      Epoch    GPU_mem   box_loss   cls_loss   dfl_loss  Instances       Size\n"
     ]
    },
    {
     "name": "stderr",
     "output_type": "stream",
     "text": [
      "     54/453      17.5G      1.075     0.6196      1.077          3        640: 100%|██████████| 14/14 [00:04<00:00,  2.99it/s]\n",
      "                 Class     Images  Instances      Box(P          R      mAP50  mAP50-95): 100%|██████████| 2/2 [00:00<00:00,  3.67it/s]"
     ]
    },
    {
     "name": "stdout",
     "output_type": "stream",
     "text": [
      "                   all         60         64      0.835      0.734      0.823      0.463\n"
     ]
    },
    {
     "name": "stderr",
     "output_type": "stream",
     "text": [
      "\n"
     ]
    },
    {
     "name": "stdout",
     "output_type": "stream",
     "text": [
      "\n",
      "      Epoch    GPU_mem   box_loss   cls_loss   dfl_loss  Instances       Size\n"
     ]
    },
    {
     "name": "stderr",
     "output_type": "stream",
     "text": [
      "     55/454      17.3G      1.044     0.6176      1.044          2        640: 100%|██████████| 14/14 [00:04<00:00,  3.01it/s]\n",
      "                 Class     Images  Instances      Box(P          R      mAP50  mAP50-95): 100%|██████████| 2/2 [00:00<00:00,  4.77it/s]"
     ]
    },
    {
     "name": "stdout",
     "output_type": "stream",
     "text": [
      "                   all         60         64      0.859      0.763      0.854      0.463\n"
     ]
    },
    {
     "name": "stderr",
     "output_type": "stream",
     "text": [
      "\n"
     ]
    },
    {
     "name": "stdout",
     "output_type": "stream",
     "text": [
      "\n",
      "      Epoch    GPU_mem   box_loss   cls_loss   dfl_loss  Instances       Size\n"
     ]
    },
    {
     "name": "stderr",
     "output_type": "stream",
     "text": [
      "     56/454      17.5G      1.086     0.6254      1.122          7        640: 100%|██████████| 14/14 [00:04<00:00,  3.02it/s]\n",
      "                 Class     Images  Instances      Box(P          R      mAP50  mAP50-95): 100%|██████████| 2/2 [00:00<00:00,  4.77it/s]"
     ]
    },
    {
     "name": "stdout",
     "output_type": "stream",
     "text": [
      "                   all         60         64      0.799      0.871      0.871      0.469\n"
     ]
    },
    {
     "name": "stderr",
     "output_type": "stream",
     "text": [
      "\n"
     ]
    },
    {
     "name": "stdout",
     "output_type": "stream",
     "text": [
      "\n",
      "      Epoch    GPU_mem   box_loss   cls_loss   dfl_loss  Instances       Size\n"
     ]
    },
    {
     "name": "stderr",
     "output_type": "stream",
     "text": [
      "     57/454      17.4G       1.06     0.5905      1.112          4        640: 100%|██████████| 14/14 [00:04<00:00,  3.04it/s]\n",
      "                 Class     Images  Instances      Box(P          R      mAP50  mAP50-95): 100%|██████████| 2/2 [00:00<00:00,  4.80it/s]"
     ]
    },
    {
     "name": "stdout",
     "output_type": "stream",
     "text": [
      "                   all         60         64      0.807      0.781      0.844      0.475\n"
     ]
    },
    {
     "name": "stderr",
     "output_type": "stream",
     "text": [
      "\n"
     ]
    },
    {
     "name": "stdout",
     "output_type": "stream",
     "text": [
      "\n",
      "      Epoch    GPU_mem   box_loss   cls_loss   dfl_loss  Instances       Size\n"
     ]
    },
    {
     "name": "stderr",
     "output_type": "stream",
     "text": [
      "     58/455      17.6G       1.03     0.6156      1.075          4        640: 100%|██████████| 14/14 [00:04<00:00,  2.91it/s]\n",
      "                 Class     Images  Instances      Box(P          R      mAP50  mAP50-95): 100%|██████████| 2/2 [00:00<00:00,  4.78it/s]"
     ]
    },
    {
     "name": "stdout",
     "output_type": "stream",
     "text": [
      "                   all         60         64      0.725      0.822      0.796      0.456\n"
     ]
    },
    {
     "name": "stderr",
     "output_type": "stream",
     "text": [
      "\n"
     ]
    },
    {
     "name": "stdout",
     "output_type": "stream",
     "text": [
      "\n",
      "      Epoch    GPU_mem   box_loss   cls_loss   dfl_loss  Instances       Size\n"
     ]
    },
    {
     "name": "stderr",
     "output_type": "stream",
     "text": [
      "     59/455      17.3G      1.142     0.6353      1.109          6        640: 100%|██████████| 14/14 [00:04<00:00,  2.88it/s]\n",
      "                 Class     Images  Instances      Box(P          R      mAP50  mAP50-95): 100%|██████████| 2/2 [00:00<00:00,  4.79it/s]"
     ]
    },
    {
     "name": "stdout",
     "output_type": "stream",
     "text": [
      "                   all         60         64      0.753      0.734      0.784      0.446\n"
     ]
    },
    {
     "name": "stderr",
     "output_type": "stream",
     "text": [
      "\n"
     ]
    },
    {
     "name": "stdout",
     "output_type": "stream",
     "text": [
      "\n",
      "      Epoch    GPU_mem   box_loss   cls_loss   dfl_loss  Instances       Size\n"
     ]
    },
    {
     "name": "stderr",
     "output_type": "stream",
     "text": [
      "     60/455      17.5G      1.101     0.6189      1.105          2        640: 100%|██████████| 14/14 [00:04<00:00,  2.99it/s]\n",
      "                 Class     Images  Instances      Box(P          R      mAP50  mAP50-95): 100%|██████████| 2/2 [00:00<00:00,  3.68it/s]"
     ]
    },
    {
     "name": "stdout",
     "output_type": "stream",
     "text": [
      "                   all         60         64      0.774      0.828      0.846      0.489\n"
     ]
    },
    {
     "name": "stderr",
     "output_type": "stream",
     "text": [
      "\n"
     ]
    },
    {
     "name": "stdout",
     "output_type": "stream",
     "text": [
      "\n",
      "      Epoch    GPU_mem   box_loss   cls_loss   dfl_loss  Instances       Size\n"
     ]
    },
    {
     "name": "stderr",
     "output_type": "stream",
     "text": [
      "     61/455      17.3G      1.099     0.6182      1.127          3        640: 100%|██████████| 14/14 [00:04<00:00,  2.87it/s]\n",
      "                 Class     Images  Instances      Box(P          R      mAP50  mAP50-95): 100%|██████████| 2/2 [00:00<00:00,  4.77it/s]"
     ]
    },
    {
     "name": "stdout",
     "output_type": "stream",
     "text": [
      "                   all         60         64      0.811      0.875      0.847       0.47\n"
     ]
    },
    {
     "name": "stderr",
     "output_type": "stream",
     "text": [
      "\n"
     ]
    },
    {
     "name": "stdout",
     "output_type": "stream",
     "text": [
      "\n",
      "      Epoch    GPU_mem   box_loss   cls_loss   dfl_loss  Instances       Size\n"
     ]
    },
    {
     "name": "stderr",
     "output_type": "stream",
     "text": [
      "     62/455      17.5G      1.089      0.588      1.066          8        640: 100%|██████████| 14/14 [00:04<00:00,  2.89it/s]\n",
      "                 Class     Images  Instances      Box(P          R      mAP50  mAP50-95): 100%|██████████| 2/2 [00:00<00:00,  4.78it/s]"
     ]
    },
    {
     "name": "stdout",
     "output_type": "stream",
     "text": [
      "                   all         60         64      0.853      0.766       0.84      0.467\n"
     ]
    },
    {
     "name": "stderr",
     "output_type": "stream",
     "text": [
      "\n"
     ]
    },
    {
     "name": "stdout",
     "output_type": "stream",
     "text": [
      "\n",
      "      Epoch    GPU_mem   box_loss   cls_loss   dfl_loss  Instances       Size\n"
     ]
    },
    {
     "name": "stderr",
     "output_type": "stream",
     "text": [
      "     63/455      17.3G      1.018     0.5943      1.046          5        640: 100%|██████████| 14/14 [00:04<00:00,  2.86it/s]\n",
      "                 Class     Images  Instances      Box(P          R      mAP50  mAP50-95): 100%|██████████| 2/2 [00:00<00:00,  4.78it/s]"
     ]
    },
    {
     "name": "stdout",
     "output_type": "stream",
     "text": [
      "                   all         60         64      0.762      0.802      0.805      0.462\n"
     ]
    },
    {
     "name": "stderr",
     "output_type": "stream",
     "text": [
      "\n"
     ]
    },
    {
     "name": "stdout",
     "output_type": "stream",
     "text": [
      "\n",
      "      Epoch    GPU_mem   box_loss   cls_loss   dfl_loss  Instances       Size\n"
     ]
    },
    {
     "name": "stderr",
     "output_type": "stream",
     "text": [
      "     64/456      17.6G      1.074     0.6106      1.068          5        640: 100%|██████████| 14/14 [00:04<00:00,  2.98it/s]\n",
      "                 Class     Images  Instances      Box(P          R      mAP50  mAP50-95): 100%|██████████| 2/2 [00:00<00:00,  3.98it/s]"
     ]
    },
    {
     "name": "stdout",
     "output_type": "stream",
     "text": [
      "                   all         60         64      0.833      0.828      0.861      0.447\n"
     ]
    },
    {
     "name": "stderr",
     "output_type": "stream",
     "text": [
      "\n"
     ]
    },
    {
     "name": "stdout",
     "output_type": "stream",
     "text": [
      "\n",
      "      Epoch    GPU_mem   box_loss   cls_loss   dfl_loss  Instances       Size\n"
     ]
    },
    {
     "name": "stderr",
     "output_type": "stream",
     "text": [
      "     65/456      17.3G     0.9998     0.5997      1.038          3        640: 100%|██████████| 14/14 [00:04<00:00,  3.00it/s]\n",
      "                 Class     Images  Instances      Box(P          R      mAP50  mAP50-95): 100%|██████████| 2/2 [00:00<00:00,  4.66it/s]"
     ]
    },
    {
     "name": "stdout",
     "output_type": "stream",
     "text": [
      "                   all         60         64      0.787       0.75      0.826      0.461\n"
     ]
    },
    {
     "name": "stderr",
     "output_type": "stream",
     "text": [
      "\n"
     ]
    },
    {
     "name": "stdout",
     "output_type": "stream",
     "text": [
      "\n",
      "      Epoch    GPU_mem   box_loss   cls_loss   dfl_loss  Instances       Size\n"
     ]
    },
    {
     "name": "stderr",
     "output_type": "stream",
     "text": [
      "     66/456      17.5G     0.9465     0.5628      1.031          2        640: 100%|██████████| 14/14 [00:04<00:00,  3.02it/s]\n",
      "                 Class     Images  Instances      Box(P          R      mAP50  mAP50-95): 100%|██████████| 2/2 [00:00<00:00,  4.78it/s]"
     ]
    },
    {
     "name": "stdout",
     "output_type": "stream",
     "text": [
      "                   all         60         64      0.854      0.828      0.847      0.458\n"
     ]
    },
    {
     "name": "stderr",
     "output_type": "stream",
     "text": [
      "\n"
     ]
    },
    {
     "name": "stdout",
     "output_type": "stream",
     "text": [
      "\n",
      "      Epoch    GPU_mem   box_loss   cls_loss   dfl_loss  Instances       Size\n"
     ]
    },
    {
     "name": "stderr",
     "output_type": "stream",
     "text": [
      "     67/457      17.4G     0.9315     0.5766      1.029          6        640: 100%|██████████| 14/14 [00:04<00:00,  2.93it/s]\n",
      "                 Class     Images  Instances      Box(P          R      mAP50  mAP50-95): 100%|██████████| 2/2 [00:00<00:00,  4.77it/s]"
     ]
    },
    {
     "name": "stdout",
     "output_type": "stream",
     "text": [
      "                   all         60         64      0.792      0.766       0.79      0.436\n"
     ]
    },
    {
     "name": "stderr",
     "output_type": "stream",
     "text": [
      "\n"
     ]
    },
    {
     "name": "stdout",
     "output_type": "stream",
     "text": [
      "\n",
      "      Epoch    GPU_mem   box_loss   cls_loss   dfl_loss  Instances       Size\n"
     ]
    },
    {
     "name": "stderr",
     "output_type": "stream",
     "text": [
      "     68/457      17.5G     0.9458      0.612      1.019          1        640: 100%|██████████| 14/14 [00:04<00:00,  2.90it/s]\n",
      "                 Class     Images  Instances      Box(P          R      mAP50  mAP50-95): 100%|██████████| 2/2 [00:00<00:00,  4.79it/s]"
     ]
    },
    {
     "name": "stdout",
     "output_type": "stream",
     "text": [
      "                   all         60         64      0.669      0.788      0.703      0.357\n"
     ]
    },
    {
     "name": "stderr",
     "output_type": "stream",
     "text": [
      "\n"
     ]
    },
    {
     "name": "stdout",
     "output_type": "stream",
     "text": [
      "\n",
      "      Epoch    GPU_mem   box_loss   cls_loss   dfl_loss  Instances       Size\n"
     ]
    },
    {
     "name": "stderr",
     "output_type": "stream",
     "text": [
      "     69/457      17.3G     0.8964     0.5773       1.03          6        640: 100%|██████████| 14/14 [00:04<00:00,  2.90it/s]\n",
      "                 Class     Images  Instances      Box(P          R      mAP50  mAP50-95): 100%|██████████| 2/2 [00:00<00:00,  4.79it/s]"
     ]
    },
    {
     "name": "stdout",
     "output_type": "stream",
     "text": [
      "                   all         60         64      0.793      0.828      0.812      0.429\n"
     ]
    },
    {
     "name": "stderr",
     "output_type": "stream",
     "text": [
      "\n"
     ]
    },
    {
     "name": "stdout",
     "output_type": "stream",
     "text": [
      "\n",
      "      Epoch    GPU_mem   box_loss   cls_loss   dfl_loss  Instances       Size\n"
     ]
    },
    {
     "name": "stderr",
     "output_type": "stream",
     "text": [
      "     70/457      17.5G     0.9471     0.5867      1.021          2        640: 100%|██████████| 14/14 [00:04<00:00,  2.89it/s]\n",
      "                 Class     Images  Instances      Box(P          R      mAP50  mAP50-95): 100%|██████████| 2/2 [00:00<00:00,  4.79it/s]"
     ]
    },
    {
     "name": "stdout",
     "output_type": "stream",
     "text": [
      "                   all         60         64      0.847      0.778      0.809      0.448\n"
     ]
    },
    {
     "name": "stderr",
     "output_type": "stream",
     "text": [
      "\n"
     ]
    },
    {
     "name": "stdout",
     "output_type": "stream",
     "text": [
      "\n",
      "      Epoch    GPU_mem   box_loss   cls_loss   dfl_loss  Instances       Size\n"
     ]
    },
    {
     "name": "stderr",
     "output_type": "stream",
     "text": [
      "     71/457      17.3G     0.9476     0.5715      1.034          2        640: 100%|██████████| 14/14 [00:04<00:00,  2.87it/s]\n",
      "                 Class     Images  Instances      Box(P          R      mAP50  mAP50-95): 100%|██████████| 2/2 [00:00<00:00,  4.79it/s]"
     ]
    },
    {
     "name": "stdout",
     "output_type": "stream",
     "text": [
      "                   all         60         64       0.79      0.879      0.815      0.427\n"
     ]
    },
    {
     "name": "stderr",
     "output_type": "stream",
     "text": [
      "\n"
     ]
    },
    {
     "name": "stdout",
     "output_type": "stream",
     "text": [
      "\n",
      "      Epoch    GPU_mem   box_loss   cls_loss   dfl_loss  Instances       Size\n"
     ]
    },
    {
     "name": "stderr",
     "output_type": "stream",
     "text": [
      "     72/457      17.5G      1.027     0.5659      1.083          2        640: 100%|██████████| 14/14 [00:04<00:00,  2.99it/s]\n",
      "                 Class     Images  Instances      Box(P          R      mAP50  mAP50-95): 100%|██████████| 2/2 [00:00<00:00,  4.19it/s]"
     ]
    },
    {
     "name": "stdout",
     "output_type": "stream",
     "text": [
      "                   all         60         64      0.879      0.797      0.864      0.459\n"
     ]
    },
    {
     "name": "stderr",
     "output_type": "stream",
     "text": [
      "\n"
     ]
    },
    {
     "name": "stdout",
     "output_type": "stream",
     "text": [
      "\n",
      "      Epoch    GPU_mem   box_loss   cls_loss   dfl_loss  Instances       Size\n"
     ]
    },
    {
     "name": "stderr",
     "output_type": "stream",
     "text": [
      "     73/457      17.3G     0.9946     0.5925      1.108          1        640: 100%|██████████| 14/14 [00:04<00:00,  3.00it/s]\n",
      "                 Class     Images  Instances      Box(P          R      mAP50  mAP50-95): 100%|██████████| 2/2 [00:00<00:00,  4.80it/s]"
     ]
    },
    {
     "name": "stdout",
     "output_type": "stream",
     "text": [
      "                   all         60         64      0.851      0.804      0.871      0.451\n"
     ]
    },
    {
     "name": "stderr",
     "output_type": "stream",
     "text": [
      "\n"
     ]
    },
    {
     "name": "stdout",
     "output_type": "stream",
     "text": [
      "\n",
      "      Epoch    GPU_mem   box_loss   cls_loss   dfl_loss  Instances       Size\n"
     ]
    },
    {
     "name": "stderr",
     "output_type": "stream",
     "text": [
      "     74/458      17.5G     0.9862     0.5837      1.047          4        640: 100%|██████████| 14/14 [00:04<00:00,  3.01it/s]\n",
      "                 Class     Images  Instances      Box(P          R      mAP50  mAP50-95): 100%|██████████| 2/2 [00:00<00:00,  4.79it/s]"
     ]
    },
    {
     "name": "stdout",
     "output_type": "stream",
     "text": [
      "                   all         60         64      0.901      0.709      0.842      0.462\n"
     ]
    },
    {
     "name": "stderr",
     "output_type": "stream",
     "text": [
      "\n"
     ]
    },
    {
     "name": "stdout",
     "output_type": "stream",
     "text": [
      "\n",
      "      Epoch    GPU_mem   box_loss   cls_loss   dfl_loss  Instances       Size\n"
     ]
    },
    {
     "name": "stderr",
     "output_type": "stream",
     "text": [
      "     75/458      17.3G     0.9467     0.5685      1.048          5        640: 100%|██████████| 14/14 [00:04<00:00,  2.91it/s]\n",
      "                 Class     Images  Instances      Box(P          R      mAP50  mAP50-95): 100%|██████████| 2/2 [00:00<00:00,  4.78it/s]"
     ]
    },
    {
     "name": "stdout",
     "output_type": "stream",
     "text": [
      "                   all         60         64      0.702      0.844      0.819      0.483\n"
     ]
    },
    {
     "name": "stderr",
     "output_type": "stream",
     "text": [
      "\n"
     ]
    },
    {
     "name": "stdout",
     "output_type": "stream",
     "text": [
      "\n",
      "      Epoch    GPU_mem   box_loss   cls_loss   dfl_loss  Instances       Size\n"
     ]
    },
    {
     "name": "stderr",
     "output_type": "stream",
     "text": [
      "     76/458      17.6G     0.9647     0.5953      1.069          6        640: 100%|██████████| 14/14 [00:04<00:00,  2.92it/s]\n",
      "                 Class     Images  Instances      Box(P          R      mAP50  mAP50-95): 100%|██████████| 2/2 [00:00<00:00,  4.78it/s]"
     ]
    },
    {
     "name": "stdout",
     "output_type": "stream",
     "text": [
      "                   all         60         64      0.877      0.671      0.742      0.401\n"
     ]
    },
    {
     "name": "stderr",
     "output_type": "stream",
     "text": [
      "\n"
     ]
    },
    {
     "name": "stdout",
     "output_type": "stream",
     "text": [
      "\n",
      "      Epoch    GPU_mem   box_loss   cls_loss   dfl_loss  Instances       Size\n"
     ]
    },
    {
     "name": "stderr",
     "output_type": "stream",
     "text": [
      "     77/458      17.3G     0.9499     0.5716      1.032          5        640: 100%|██████████| 14/14 [00:04<00:00,  2.90it/s]\n",
      "                 Class     Images  Instances      Box(P          R      mAP50  mAP50-95): 100%|██████████| 2/2 [00:00<00:00,  4.78it/s]"
     ]
    },
    {
     "name": "stdout",
     "output_type": "stream",
     "text": [
      "                   all         60         64      0.879      0.766      0.819      0.455\n"
     ]
    },
    {
     "name": "stderr",
     "output_type": "stream",
     "text": [
      "\n"
     ]
    },
    {
     "name": "stdout",
     "output_type": "stream",
     "text": [
      "\n",
      "      Epoch    GPU_mem   box_loss   cls_loss   dfl_loss  Instances       Size\n"
     ]
    },
    {
     "name": "stderr",
     "output_type": "stream",
     "text": [
      "     78/458      17.6G     0.8835     0.5252      1.014          4        640: 100%|██████████| 14/14 [00:04<00:00,  2.89it/s]\n",
      "                 Class     Images  Instances      Box(P          R      mAP50  mAP50-95): 100%|██████████| 2/2 [00:00<00:00,  4.78it/s]"
     ]
    },
    {
     "name": "stdout",
     "output_type": "stream",
     "text": [
      "                   all         60         64      0.724      0.821      0.833      0.473\n"
     ]
    },
    {
     "name": "stderr",
     "output_type": "stream",
     "text": [
      "\n"
     ]
    },
    {
     "name": "stdout",
     "output_type": "stream",
     "text": [
      "\n",
      "      Epoch    GPU_mem   box_loss   cls_loss   dfl_loss  Instances       Size\n"
     ]
    },
    {
     "name": "stderr",
     "output_type": "stream",
     "text": [
      "     79/458      17.3G     0.9673     0.5753      1.072          3        640: 100%|██████████| 14/14 [00:04<00:00,  2.87it/s]\n",
      "                 Class     Images  Instances      Box(P          R      mAP50  mAP50-95): 100%|██████████| 2/2 [00:00<00:00,  4.78it/s]"
     ]
    },
    {
     "name": "stdout",
     "output_type": "stream",
     "text": [
      "                   all         60         64      0.849       0.75      0.804      0.413\n"
     ]
    },
    {
     "name": "stderr",
     "output_type": "stream",
     "text": [
      "\n"
     ]
    },
    {
     "name": "stdout",
     "output_type": "stream",
     "text": [
      "\n",
      "      Epoch    GPU_mem   box_loss   cls_loss   dfl_loss  Instances       Size\n"
     ]
    },
    {
     "name": "stderr",
     "output_type": "stream",
     "text": [
      "     80/458      17.5G     0.8981     0.5199       1.01          5        640: 100%|██████████| 14/14 [00:04<00:00,  2.99it/s]\n",
      "                 Class     Images  Instances      Box(P          R      mAP50  mAP50-95): 100%|██████████| 2/2 [00:00<00:00,  3.83it/s]"
     ]
    },
    {
     "name": "stdout",
     "output_type": "stream",
     "text": [
      "                   all         60         64      0.844      0.672      0.794      0.458\n"
     ]
    },
    {
     "name": "stderr",
     "output_type": "stream",
     "text": [
      "\n"
     ]
    },
    {
     "name": "stdout",
     "output_type": "stream",
     "text": [
      "\n",
      "      Epoch    GPU_mem   box_loss   cls_loss   dfl_loss  Instances       Size\n"
     ]
    },
    {
     "name": "stderr",
     "output_type": "stream",
     "text": [
      "     81/458      17.3G     0.9267     0.5545      1.033          3        640: 100%|██████████| 14/14 [00:04<00:00,  2.98it/s]\n",
      "                 Class     Images  Instances      Box(P          R      mAP50  mAP50-95): 100%|██████████| 2/2 [00:00<00:00,  4.80it/s]"
     ]
    },
    {
     "name": "stdout",
     "output_type": "stream",
     "text": [
      "                   all         60         64      0.867      0.716       0.78       0.45\n"
     ]
    },
    {
     "name": "stderr",
     "output_type": "stream",
     "text": [
      "\n"
     ]
    },
    {
     "name": "stdout",
     "output_type": "stream",
     "text": [
      "\n",
      "      Epoch    GPU_mem   box_loss   cls_loss   dfl_loss  Instances       Size\n"
     ]
    },
    {
     "name": "stderr",
     "output_type": "stream",
     "text": [
      "     82/459      17.5G     0.9162     0.5226      1.037          4        640: 100%|██████████| 14/14 [00:04<00:00,  3.00it/s]\n",
      "                 Class     Images  Instances      Box(P          R      mAP50  mAP50-95): 100%|██████████| 2/2 [00:00<00:00,  4.79it/s]"
     ]
    },
    {
     "name": "stdout",
     "output_type": "stream",
     "text": [
      "                   all         60         64      0.752      0.807      0.759      0.418\n"
     ]
    },
    {
     "name": "stderr",
     "output_type": "stream",
     "text": [
      "\n"
     ]
    },
    {
     "name": "stdout",
     "output_type": "stream",
     "text": [
      "\n",
      "      Epoch    GPU_mem   box_loss   cls_loss   dfl_loss  Instances       Size\n"
     ]
    },
    {
     "name": "stderr",
     "output_type": "stream",
     "text": [
      "     83/459      17.3G     0.9735     0.5628      1.036          7        640: 100%|██████████| 14/14 [00:04<00:00,  2.91it/s]\n",
      "                 Class     Images  Instances      Box(P          R      mAP50  mAP50-95): 100%|██████████| 2/2 [00:00<00:00,  4.78it/s]"
     ]
    },
    {
     "name": "stdout",
     "output_type": "stream",
     "text": [
      "                   all         60         64      0.816      0.781      0.791      0.432\n"
     ]
    },
    {
     "name": "stderr",
     "output_type": "stream",
     "text": [
      "\n"
     ]
    },
    {
     "name": "stdout",
     "output_type": "stream",
     "text": [
      "\n",
      "      Epoch    GPU_mem   box_loss   cls_loss   dfl_loss  Instances       Size\n"
     ]
    },
    {
     "name": "stderr",
     "output_type": "stream",
     "text": [
      "     84/459      17.5G     0.8907     0.5246      1.001          2        640: 100%|██████████| 14/14 [00:04<00:00,  2.93it/s]\n",
      "                 Class     Images  Instances      Box(P          R      mAP50  mAP50-95): 100%|██████████| 2/2 [00:00<00:00,  4.74it/s]"
     ]
    },
    {
     "name": "stdout",
     "output_type": "stream",
     "text": [
      "                   all         60         64      0.716      0.789      0.781      0.397\n"
     ]
    },
    {
     "name": "stderr",
     "output_type": "stream",
     "text": [
      "\n"
     ]
    },
    {
     "name": "stdout",
     "output_type": "stream",
     "text": [
      "\n",
      "      Epoch    GPU_mem   box_loss   cls_loss   dfl_loss  Instances       Size\n"
     ]
    },
    {
     "name": "stderr",
     "output_type": "stream",
     "text": [
      "     85/459      17.3G     0.9212      0.583       1.04          3        640: 100%|██████████| 14/14 [00:04<00:00,  2.89it/s]\n",
      "                 Class     Images  Instances      Box(P          R      mAP50  mAP50-95): 100%|██████████| 2/2 [00:00<00:00,  4.79it/s]"
     ]
    },
    {
     "name": "stdout",
     "output_type": "stream",
     "text": [
      "                   all         60         64      0.747      0.786      0.814      0.466\n"
     ]
    },
    {
     "name": "stderr",
     "output_type": "stream",
     "text": [
      "\n"
     ]
    },
    {
     "name": "stdout",
     "output_type": "stream",
     "text": [
      "\n",
      "      Epoch    GPU_mem   box_loss   cls_loss   dfl_loss  Instances       Size\n"
     ]
    },
    {
     "name": "stderr",
     "output_type": "stream",
     "text": [
      "     86/459      17.6G      0.926     0.5505     0.9926          4        640: 100%|██████████| 14/14 [00:04<00:00,  2.89it/s]\n",
      "                 Class     Images  Instances      Box(P          R      mAP50  mAP50-95): 100%|██████████| 2/2 [00:00<00:00,  4.79it/s]"
     ]
    },
    {
     "name": "stdout",
     "output_type": "stream",
     "text": [
      "                   all         60         64      0.842      0.891      0.867      0.462\n"
     ]
    },
    {
     "name": "stderr",
     "output_type": "stream",
     "text": [
      "\n"
     ]
    },
    {
     "name": "stdout",
     "output_type": "stream",
     "text": [
      "\n",
      "      Epoch    GPU_mem   box_loss   cls_loss   dfl_loss  Instances       Size\n"
     ]
    },
    {
     "name": "stderr",
     "output_type": "stream",
     "text": [
      "     87/459      17.3G     0.8462      0.531     0.9956          4        640: 100%|██████████| 14/14 [00:04<00:00,  2.90it/s]\n",
      "                 Class     Images  Instances      Box(P          R      mAP50  mAP50-95): 100%|██████████| 2/2 [00:00<00:00,  4.80it/s]"
     ]
    },
    {
     "name": "stdout",
     "output_type": "stream",
     "text": [
      "                   all         60         64      0.881      0.859      0.904      0.503\n"
     ]
    },
    {
     "name": "stderr",
     "output_type": "stream",
     "text": [
      "\n"
     ]
    },
    {
     "name": "stdout",
     "output_type": "stream",
     "text": [
      "\n",
      "      Epoch    GPU_mem   box_loss   cls_loss   dfl_loss  Instances       Size\n"
     ]
    },
    {
     "name": "stderr",
     "output_type": "stream",
     "text": [
      "     88/458      17.5G     0.8877     0.5284     0.9948          3        640: 100%|██████████| 14/14 [00:04<00:00,  2.90it/s]\n",
      "                 Class     Images  Instances      Box(P          R      mAP50  mAP50-95): 100%|██████████| 2/2 [00:00<00:00,  4.77it/s]"
     ]
    },
    {
     "name": "stdout",
     "output_type": "stream",
     "text": [
      "                   all         60         64       0.87      0.812      0.886      0.529\n"
     ]
    },
    {
     "name": "stderr",
     "output_type": "stream",
     "text": [
      "\n"
     ]
    },
    {
     "name": "stdout",
     "output_type": "stream",
     "text": [
      "\n",
      "      Epoch    GPU_mem   box_loss   cls_loss   dfl_loss  Instances       Size\n"
     ]
    },
    {
     "name": "stderr",
     "output_type": "stream",
     "text": [
      "     89/457      17.3G      0.838      0.506      0.968          3        640: 100%|██████████| 14/14 [00:04<00:00,  2.90it/s]\n",
      "                 Class     Images  Instances      Box(P          R      mAP50  mAP50-95): 100%|██████████| 2/2 [00:00<00:00,  4.81it/s]"
     ]
    },
    {
     "name": "stdout",
     "output_type": "stream",
     "text": [
      "                   all         60         64      0.872      0.746      0.853       0.52\n"
     ]
    },
    {
     "name": "stderr",
     "output_type": "stream",
     "text": [
      "\n"
     ]
    },
    {
     "name": "stdout",
     "output_type": "stream",
     "text": [
      "\n",
      "      Epoch    GPU_mem   box_loss   cls_loss   dfl_loss  Instances       Size\n"
     ]
    },
    {
     "name": "stderr",
     "output_type": "stream",
     "text": [
      "     90/458      17.5G     0.8247     0.5172       0.98          1        640: 100%|██████████| 14/14 [00:04<00:00,  2.89it/s]\n",
      "                 Class     Images  Instances      Box(P          R      mAP50  mAP50-95): 100%|██████████| 2/2 [00:00<00:00,  4.75it/s]"
     ]
    },
    {
     "name": "stdout",
     "output_type": "stream",
     "text": [
      "                   all         60         64      0.794      0.781      0.818      0.512\n"
     ]
    },
    {
     "name": "stderr",
     "output_type": "stream",
     "text": [
      "\n"
     ]
    },
    {
     "name": "stdout",
     "output_type": "stream",
     "text": [
      "\n",
      "      Epoch    GPU_mem   box_loss   cls_loss   dfl_loss  Instances       Size\n"
     ]
    },
    {
     "name": "stderr",
     "output_type": "stream",
     "text": [
      "     91/458      17.3G     0.8639     0.5014     0.9922          7        640: 100%|██████████| 14/14 [00:04<00:00,  2.83it/s]\n",
      "                 Class     Images  Instances      Box(P          R      mAP50  mAP50-95): 100%|██████████| 2/2 [00:00<00:00,  4.78it/s]"
     ]
    },
    {
     "name": "stdout",
     "output_type": "stream",
     "text": [
      "                   all         60         64      0.833      0.778      0.837      0.496\n"
     ]
    },
    {
     "name": "stderr",
     "output_type": "stream",
     "text": [
      "\n"
     ]
    },
    {
     "name": "stdout",
     "output_type": "stream",
     "text": [
      "\n",
      "      Epoch    GPU_mem   box_loss   cls_loss   dfl_loss  Instances       Size\n"
     ]
    },
    {
     "name": "stderr",
     "output_type": "stream",
     "text": [
      "     92/458      17.6G     0.8565     0.4868     0.9942          2        640: 100%|██████████| 14/14 [00:04<00:00,  2.88it/s]\n",
      "                 Class     Images  Instances      Box(P          R      mAP50  mAP50-95): 100%|██████████| 2/2 [00:00<00:00,  4.79it/s]"
     ]
    },
    {
     "name": "stdout",
     "output_type": "stream",
     "text": [
      "                   all         60         64      0.864       0.75      0.798      0.414\n"
     ]
    },
    {
     "name": "stderr",
     "output_type": "stream",
     "text": [
      "\n"
     ]
    },
    {
     "name": "stdout",
     "output_type": "stream",
     "text": [
      "\n",
      "      Epoch    GPU_mem   box_loss   cls_loss   dfl_loss  Instances       Size\n"
     ]
    },
    {
     "name": "stderr",
     "output_type": "stream",
     "text": [
      "     93/458      17.3G     0.8104     0.4911     0.9613          3        640: 100%|██████████| 14/14 [00:04<00:00,  2.91it/s]\n",
      "                 Class     Images  Instances      Box(P          R      mAP50  mAP50-95): 100%|██████████| 2/2 [00:00<00:00,  4.77it/s]"
     ]
    },
    {
     "name": "stdout",
     "output_type": "stream",
     "text": [
      "                   all         60         64      0.845      0.734      0.788      0.418\n"
     ]
    },
    {
     "name": "stderr",
     "output_type": "stream",
     "text": [
      "\n"
     ]
    },
    {
     "name": "stdout",
     "output_type": "stream",
     "text": [
      "\n",
      "      Epoch    GPU_mem   box_loss   cls_loss   dfl_loss  Instances       Size\n"
     ]
    },
    {
     "name": "stderr",
     "output_type": "stream",
     "text": [
      "     94/458      17.6G     0.8978     0.5204      1.003          5        640: 100%|██████████| 14/14 [00:04<00:00,  2.89it/s]\n",
      "                 Class     Images  Instances      Box(P          R      mAP50  mAP50-95): 100%|██████████| 2/2 [00:00<00:00,  4.80it/s]"
     ]
    },
    {
     "name": "stdout",
     "output_type": "stream",
     "text": [
      "                   all         60         64      0.874      0.781      0.805       0.41\n"
     ]
    },
    {
     "name": "stderr",
     "output_type": "stream",
     "text": [
      "\n"
     ]
    },
    {
     "name": "stdout",
     "output_type": "stream",
     "text": [
      "\n",
      "      Epoch    GPU_mem   box_loss   cls_loss   dfl_loss  Instances       Size\n"
     ]
    },
    {
     "name": "stderr",
     "output_type": "stream",
     "text": [
      "     95/458      17.3G     0.8262     0.5058     0.9639          4        640: 100%|██████████| 14/14 [00:04<00:00,  2.91it/s]\n",
      "                 Class     Images  Instances      Box(P          R      mAP50  mAP50-95): 100%|██████████| 2/2 [00:00<00:00,  4.80it/s]"
     ]
    },
    {
     "name": "stdout",
     "output_type": "stream",
     "text": [
      "                   all         60         64      0.771      0.859      0.838      0.433\n"
     ]
    },
    {
     "name": "stderr",
     "output_type": "stream",
     "text": [
      "\n"
     ]
    },
    {
     "name": "stdout",
     "output_type": "stream",
     "text": [
      "\n",
      "      Epoch    GPU_mem   box_loss   cls_loss   dfl_loss  Instances       Size\n"
     ]
    },
    {
     "name": "stderr",
     "output_type": "stream",
     "text": [
      "     96/458      17.6G     0.8008      0.483     0.9503          2        640: 100%|██████████| 14/14 [00:04<00:00,  2.99it/s]\n",
      "                 Class     Images  Instances      Box(P          R      mAP50  mAP50-95): 100%|██████████| 2/2 [00:00<00:00,  3.82it/s]"
     ]
    },
    {
     "name": "stdout",
     "output_type": "stream",
     "text": [
      "                   all         60         64      0.756      0.797      0.837      0.451\n"
     ]
    },
    {
     "name": "stderr",
     "output_type": "stream",
     "text": [
      "\n"
     ]
    },
    {
     "name": "stdout",
     "output_type": "stream",
     "text": [
      "\n",
      "      Epoch    GPU_mem   box_loss   cls_loss   dfl_loss  Instances       Size\n"
     ]
    },
    {
     "name": "stderr",
     "output_type": "stream",
     "text": [
      "     97/458      17.3G      0.844     0.4936     0.9799          3        640: 100%|██████████| 14/14 [00:04<00:00,  3.00it/s]\n",
      "                 Class     Images  Instances      Box(P          R      mAP50  mAP50-95): 100%|██████████| 2/2 [00:00<00:00,  3.79it/s]"
     ]
    },
    {
     "name": "stdout",
     "output_type": "stream",
     "text": [
      "                   all         60         64      0.821      0.863      0.842      0.478\n"
     ]
    },
    {
     "name": "stderr",
     "output_type": "stream",
     "text": [
      "\n"
     ]
    },
    {
     "name": "stdout",
     "output_type": "stream",
     "text": [
      "\n",
      "      Epoch    GPU_mem   box_loss   cls_loss   dfl_loss  Instances       Size\n"
     ]
    },
    {
     "name": "stderr",
     "output_type": "stream",
     "text": [
      "     98/458      17.5G     0.8112     0.4788     0.9586          5        640: 100%|██████████| 14/14 [00:04<00:00,  2.99it/s]\n",
      "                 Class     Images  Instances      Box(P          R      mAP50  mAP50-95): 100%|██████████| 2/2 [00:00<00:00,  4.80it/s]"
     ]
    },
    {
     "name": "stdout",
     "output_type": "stream",
     "text": [
      "                   all         60         64       0.86      0.768      0.827      0.455\n"
     ]
    },
    {
     "name": "stderr",
     "output_type": "stream",
     "text": [
      "\n"
     ]
    },
    {
     "name": "stdout",
     "output_type": "stream",
     "text": [
      "\n",
      "      Epoch    GPU_mem   box_loss   cls_loss   dfl_loss  Instances       Size\n"
     ]
    },
    {
     "name": "stderr",
     "output_type": "stream",
     "text": [
      "     99/458      17.3G     0.8176     0.5003     0.9797          7        640: 100%|██████████| 14/14 [00:04<00:00,  3.01it/s]\n",
      "                 Class     Images  Instances      Box(P          R      mAP50  mAP50-95): 100%|██████████| 2/2 [00:00<00:00,  4.80it/s]"
     ]
    },
    {
     "name": "stdout",
     "output_type": "stream",
     "text": [
      "                   all         60         64      0.782      0.797      0.839      0.468\n"
     ]
    },
    {
     "name": "stderr",
     "output_type": "stream",
     "text": [
      "\n"
     ]
    },
    {
     "name": "stdout",
     "output_type": "stream",
     "text": [
      "\n",
      "      Epoch    GPU_mem   box_loss   cls_loss   dfl_loss  Instances       Size\n"
     ]
    },
    {
     "name": "stderr",
     "output_type": "stream",
     "text": [
      "    100/458      17.5G     0.7797     0.4736     0.9469          3        640: 100%|██████████| 14/14 [00:04<00:00,  2.84it/s]\n",
      "                 Class     Images  Instances      Box(P          R      mAP50  mAP50-95): 100%|██████████| 2/2 [00:00<00:00,  3.19it/s]"
     ]
    },
    {
     "name": "stdout",
     "output_type": "stream",
     "text": [
      "                   all         60         64      0.748      0.859      0.798      0.423\n"
     ]
    },
    {
     "name": "stderr",
     "output_type": "stream",
     "text": [
      "\n"
     ]
    },
    {
     "name": "stdout",
     "output_type": "stream",
     "text": [
      "\n",
      "      Epoch    GPU_mem   box_loss   cls_loss   dfl_loss  Instances       Size\n"
     ]
    },
    {
     "name": "stderr",
     "output_type": "stream",
     "text": [
      "    101/458      17.3G     0.8151     0.4841     0.9846          6        640: 100%|██████████| 14/14 [00:04<00:00,  2.93it/s]\n",
      "                 Class     Images  Instances      Box(P          R      mAP50  mAP50-95): 100%|██████████| 2/2 [00:00<00:00,  4.80it/s]"
     ]
    },
    {
     "name": "stdout",
     "output_type": "stream",
     "text": [
      "                   all         60         64      0.787      0.828      0.788      0.407\n"
     ]
    },
    {
     "name": "stderr",
     "output_type": "stream",
     "text": [
      "\n"
     ]
    },
    {
     "name": "stdout",
     "output_type": "stream",
     "text": [
      "\n",
      "      Epoch    GPU_mem   box_loss   cls_loss   dfl_loss  Instances       Size\n"
     ]
    },
    {
     "name": "stderr",
     "output_type": "stream",
     "text": [
      "    102/458      17.5G     0.8482     0.4973     0.9861          4        640: 100%|██████████| 14/14 [00:04<00:00,  2.89it/s]\n",
      "                 Class     Images  Instances      Box(P          R      mAP50  mAP50-95): 100%|██████████| 2/2 [00:00<00:00,  4.80it/s]"
     ]
    },
    {
     "name": "stdout",
     "output_type": "stream",
     "text": [
      "                   all         60         64      0.757      0.829      0.844       0.47\n"
     ]
    },
    {
     "name": "stderr",
     "output_type": "stream",
     "text": [
      "\n"
     ]
    },
    {
     "name": "stdout",
     "output_type": "stream",
     "text": [
      "\n",
      "      Epoch    GPU_mem   box_loss   cls_loss   dfl_loss  Instances       Size\n"
     ]
    },
    {
     "name": "stderr",
     "output_type": "stream",
     "text": [
      "    103/458      17.3G     0.8212     0.4694     0.9715          4        640: 100%|██████████| 14/14 [00:04<00:00,  2.90it/s]\n",
      "                 Class     Images  Instances      Box(P          R      mAP50  mAP50-95): 100%|██████████| 2/2 [00:00<00:00,  4.80it/s]"
     ]
    },
    {
     "name": "stdout",
     "output_type": "stream",
     "text": [
      "                   all         60         64      0.787      0.812      0.841      0.475\n"
     ]
    },
    {
     "name": "stderr",
     "output_type": "stream",
     "text": [
      "\n"
     ]
    },
    {
     "name": "stdout",
     "output_type": "stream",
     "text": [
      "\n",
      "      Epoch    GPU_mem   box_loss   cls_loss   dfl_loss  Instances       Size\n"
     ]
    },
    {
     "name": "stderr",
     "output_type": "stream",
     "text": [
      "    104/458      17.5G     0.7728     0.4581     0.9617          7        640: 100%|██████████| 14/14 [00:04<00:00,  2.99it/s]\n",
      "                 Class     Images  Instances      Box(P          R      mAP50  mAP50-95): 100%|██████████| 2/2 [00:00<00:00,  3.75it/s]"
     ]
    },
    {
     "name": "stdout",
     "output_type": "stream",
     "text": [
      "                   all         60         64      0.805      0.837      0.857      0.481\n"
     ]
    },
    {
     "name": "stderr",
     "output_type": "stream",
     "text": [
      "\n"
     ]
    },
    {
     "name": "stdout",
     "output_type": "stream",
     "text": [
      "\n",
      "      Epoch    GPU_mem   box_loss   cls_loss   dfl_loss  Instances       Size\n"
     ]
    },
    {
     "name": "stderr",
     "output_type": "stream",
     "text": [
      "    105/458      17.3G     0.8083     0.4683     0.9623          6        640: 100%|██████████| 14/14 [00:04<00:00,  2.87it/s]\n",
      "                 Class     Images  Instances      Box(P          R      mAP50  mAP50-95): 100%|██████████| 2/2 [00:00<00:00,  4.79it/s]"
     ]
    },
    {
     "name": "stdout",
     "output_type": "stream",
     "text": [
      "                   all         60         64      0.806      0.844      0.843      0.489\n"
     ]
    },
    {
     "name": "stderr",
     "output_type": "stream",
     "text": [
      "\n"
     ]
    },
    {
     "name": "stdout",
     "output_type": "stream",
     "text": [
      "\n",
      "      Epoch    GPU_mem   box_loss   cls_loss   dfl_loss  Instances       Size\n"
     ]
    },
    {
     "name": "stderr",
     "output_type": "stream",
     "text": [
      "    106/459      17.5G     0.7957     0.4743     0.9607          5        640: 100%|██████████| 14/14 [00:04<00:00,  2.99it/s]\n",
      "                 Class     Images  Instances      Box(P          R      mAP50  mAP50-95): 100%|██████████| 2/2 [00:00<00:00,  4.03it/s]"
     ]
    },
    {
     "name": "stdout",
     "output_type": "stream",
     "text": [
      "                   all         60         64      0.854      0.825      0.873      0.487\n"
     ]
    },
    {
     "name": "stderr",
     "output_type": "stream",
     "text": [
      "\n"
     ]
    },
    {
     "name": "stdout",
     "output_type": "stream",
     "text": [
      "\n",
      "      Epoch    GPU_mem   box_loss   cls_loss   dfl_loss  Instances       Size\n"
     ]
    },
    {
     "name": "stderr",
     "output_type": "stream",
     "text": [
      "    107/459      17.3G     0.7521      0.459     0.9412          4        640: 100%|██████████| 14/14 [00:04<00:00,  2.99it/s]\n",
      "                 Class     Images  Instances      Box(P          R      mAP50  mAP50-95): 100%|██████████| 2/2 [00:00<00:00,  4.79it/s]"
     ]
    },
    {
     "name": "stdout",
     "output_type": "stream",
     "text": [
      "                   all         60         64      0.833      0.859      0.898      0.499\n"
     ]
    },
    {
     "name": "stderr",
     "output_type": "stream",
     "text": [
      "\n"
     ]
    },
    {
     "name": "stdout",
     "output_type": "stream",
     "text": [
      "\n",
      "      Epoch    GPU_mem   box_loss   cls_loss   dfl_loss  Instances       Size\n"
     ]
    },
    {
     "name": "stderr",
     "output_type": "stream",
     "text": [
      "    108/459      17.5G     0.8372     0.5133     0.9786          1        640: 100%|██████████| 14/14 [00:04<00:00,  3.00it/s]\n",
      "                 Class     Images  Instances      Box(P          R      mAP50  mAP50-95): 100%|██████████| 2/2 [00:00<00:00,  4.79it/s]"
     ]
    },
    {
     "name": "stdout",
     "output_type": "stream",
     "text": [
      "                   all         60         64      0.851      0.734      0.849       0.48\n"
     ]
    },
    {
     "name": "stderr",
     "output_type": "stream",
     "text": [
      "\n"
     ]
    },
    {
     "name": "stdout",
     "output_type": "stream",
     "text": [
      "\n",
      "      Epoch    GPU_mem   box_loss   cls_loss   dfl_loss  Instances       Size\n"
     ]
    },
    {
     "name": "stderr",
     "output_type": "stream",
     "text": [
      "    109/459      17.3G      0.739     0.4315     0.9514          6        640: 100%|██████████| 14/14 [00:04<00:00,  3.03it/s]\n",
      "                 Class     Images  Instances      Box(P          R      mAP50  mAP50-95): 100%|██████████| 2/2 [00:00<00:00,  4.78it/s]"
     ]
    },
    {
     "name": "stdout",
     "output_type": "stream",
     "text": [
      "                   all         60         64      0.761      0.848      0.847      0.484\n"
     ]
    },
    {
     "name": "stderr",
     "output_type": "stream",
     "text": [
      "\n"
     ]
    },
    {
     "name": "stdout",
     "output_type": "stream",
     "text": [
      "\n",
      "      Epoch    GPU_mem   box_loss   cls_loss   dfl_loss  Instances       Size\n"
     ]
    },
    {
     "name": "stderr",
     "output_type": "stream",
     "text": [
      "    110/459      17.6G     0.7647     0.4433     0.9874          3        640: 100%|██████████| 14/14 [00:04<00:00,  2.88it/s]\n",
      "                 Class     Images  Instances      Box(P          R      mAP50  mAP50-95): 100%|██████████| 2/2 [00:00<00:00,  4.80it/s]"
     ]
    },
    {
     "name": "stdout",
     "output_type": "stream",
     "text": [
      "                   all         60         64      0.822      0.891      0.866      0.493\n"
     ]
    },
    {
     "name": "stderr",
     "output_type": "stream",
     "text": [
      "\n"
     ]
    },
    {
     "name": "stdout",
     "output_type": "stream",
     "text": [
      "\n",
      "      Epoch    GPU_mem   box_loss   cls_loss   dfl_loss  Instances       Size\n"
     ]
    },
    {
     "name": "stderr",
     "output_type": "stream",
     "text": [
      "    111/459      17.3G     0.7851     0.4492      0.945          2        640: 100%|██████████| 14/14 [00:04<00:00,  3.03it/s]\n",
      "                 Class     Images  Instances      Box(P          R      mAP50  mAP50-95): 100%|██████████| 2/2 [00:00<00:00,  4.79it/s]"
     ]
    },
    {
     "name": "stdout",
     "output_type": "stream",
     "text": [
      "                   all         60         64      0.804      0.781      0.822       0.47\n"
     ]
    },
    {
     "name": "stderr",
     "output_type": "stream",
     "text": [
      "\n"
     ]
    },
    {
     "name": "stdout",
     "output_type": "stream",
     "text": [
      "\n",
      "      Epoch    GPU_mem   box_loss   cls_loss   dfl_loss  Instances       Size\n"
     ]
    },
    {
     "name": "stderr",
     "output_type": "stream",
     "text": [
      "    112/459      17.5G     0.7409     0.4347     0.9469          3        640: 100%|██████████| 14/14 [00:04<00:00,  2.89it/s]\n",
      "                 Class     Images  Instances      Box(P          R      mAP50  mAP50-95): 100%|██████████| 2/2 [00:00<00:00,  4.80it/s]"
     ]
    },
    {
     "name": "stdout",
     "output_type": "stream",
     "text": [
      "                   all         60         64      0.792      0.812      0.834      0.458\n"
     ]
    },
    {
     "name": "stderr",
     "output_type": "stream",
     "text": [
      "\n"
     ]
    },
    {
     "name": "stdout",
     "output_type": "stream",
     "text": [
      "\n",
      "      Epoch    GPU_mem   box_loss   cls_loss   dfl_loss  Instances       Size\n"
     ]
    },
    {
     "name": "stderr",
     "output_type": "stream",
     "text": [
      "    113/459      17.3G     0.7313     0.4306     0.9282          3        640: 100%|██████████| 14/14 [00:04<00:00,  2.90it/s]\n",
      "                 Class     Images  Instances      Box(P          R      mAP50  mAP50-95): 100%|██████████| 2/2 [00:00<00:00,  4.79it/s]"
     ]
    },
    {
     "name": "stdout",
     "output_type": "stream",
     "text": [
      "                   all         60         64      0.825      0.781      0.857      0.498\n"
     ]
    },
    {
     "name": "stderr",
     "output_type": "stream",
     "text": [
      "\n"
     ]
    },
    {
     "name": "stdout",
     "output_type": "stream",
     "text": [
      "\n",
      "      Epoch    GPU_mem   box_loss   cls_loss   dfl_loss  Instances       Size\n"
     ]
    },
    {
     "name": "stderr",
     "output_type": "stream",
     "text": [
      "    114/459      17.6G     0.7686     0.4594     0.9793          4        640: 100%|██████████| 14/14 [00:04<00:00,  2.88it/s]\n",
      "                 Class     Images  Instances      Box(P          R      mAP50  mAP50-95): 100%|██████████| 2/2 [00:00<00:00,  4.82it/s]"
     ]
    },
    {
     "name": "stdout",
     "output_type": "stream",
     "text": [
      "                   all         60         64      0.883       0.75      0.824      0.489\n"
     ]
    },
    {
     "name": "stderr",
     "output_type": "stream",
     "text": [
      "\n"
     ]
    },
    {
     "name": "stdout",
     "output_type": "stream",
     "text": [
      "\n",
      "      Epoch    GPU_mem   box_loss   cls_loss   dfl_loss  Instances       Size\n"
     ]
    },
    {
     "name": "stderr",
     "output_type": "stream",
     "text": [
      "    115/459      17.3G     0.7183     0.4531     0.9372          2        640: 100%|██████████| 14/14 [00:04<00:00,  2.90it/s]\n",
      "                 Class     Images  Instances      Box(P          R      mAP50  mAP50-95): 100%|██████████| 2/2 [00:00<00:00,  4.83it/s]"
     ]
    },
    {
     "name": "stdout",
     "output_type": "stream",
     "text": [
      "                   all         60         64      0.912      0.703      0.818      0.473\n"
     ]
    },
    {
     "name": "stderr",
     "output_type": "stream",
     "text": [
      "\n"
     ]
    },
    {
     "name": "stdout",
     "output_type": "stream",
     "text": [
      "\n",
      "      Epoch    GPU_mem   box_loss   cls_loss   dfl_loss  Instances       Size\n"
     ]
    },
    {
     "name": "stderr",
     "output_type": "stream",
     "text": [
      "    116/459      17.5G     0.7251     0.4313     0.9317          5        640: 100%|██████████| 14/14 [00:04<00:00,  2.90it/s]\n",
      "                 Class     Images  Instances      Box(P          R      mAP50  mAP50-95): 100%|██████████| 2/2 [00:00<00:00,  4.82it/s]"
     ]
    },
    {
     "name": "stdout",
     "output_type": "stream",
     "text": [
      "                   all         60         64      0.837      0.781      0.868      0.506\n"
     ]
    },
    {
     "name": "stderr",
     "output_type": "stream",
     "text": [
      "\n"
     ]
    },
    {
     "name": "stdout",
     "output_type": "stream",
     "text": [
      "\n",
      "      Epoch    GPU_mem   box_loss   cls_loss   dfl_loss  Instances       Size\n"
     ]
    },
    {
     "name": "stderr",
     "output_type": "stream",
     "text": [
      "    117/459      17.3G     0.6814       0.42     0.9274          4        640: 100%|██████████| 14/14 [00:04<00:00,  2.87it/s]\n",
      "                 Class     Images  Instances      Box(P          R      mAP50  mAP50-95): 100%|██████████| 2/2 [00:00<00:00,  4.81it/s]"
     ]
    },
    {
     "name": "stdout",
     "output_type": "stream",
     "text": [
      "                   all         60         64      0.825      0.828      0.852      0.488\n"
     ]
    },
    {
     "name": "stderr",
     "output_type": "stream",
     "text": [
      "\n"
     ]
    },
    {
     "name": "stdout",
     "output_type": "stream",
     "text": [
      "\n",
      "      Epoch    GPU_mem   box_loss   cls_loss   dfl_loss  Instances       Size\n"
     ]
    },
    {
     "name": "stderr",
     "output_type": "stream",
     "text": [
      "    118/459      17.5G     0.7427     0.4339     0.9586          5        640: 100%|██████████| 14/14 [00:04<00:00,  2.99it/s]\n",
      "                 Class     Images  Instances      Box(P          R      mAP50  mAP50-95): 100%|██████████| 2/2 [00:00<00:00,  4.15it/s]"
     ]
    },
    {
     "name": "stdout",
     "output_type": "stream",
     "text": [
      "                   all         60         64      0.832      0.852      0.871      0.472\n"
     ]
    },
    {
     "name": "stderr",
     "output_type": "stream",
     "text": [
      "\n"
     ]
    },
    {
     "name": "stdout",
     "output_type": "stream",
     "text": [
      "\n",
      "      Epoch    GPU_mem   box_loss   cls_loss   dfl_loss  Instances       Size\n"
     ]
    },
    {
     "name": "stderr",
     "output_type": "stream",
     "text": [
      "    119/459      17.3G     0.6931     0.4187     0.9288          3        640: 100%|██████████| 14/14 [00:04<00:00,  3.00it/s]\n",
      "                 Class     Images  Instances      Box(P          R      mAP50  mAP50-95): 100%|██████████| 2/2 [00:00<00:00,  4.80it/s]"
     ]
    },
    {
     "name": "stdout",
     "output_type": "stream",
     "text": [
      "                   all         60         64      0.869      0.827       0.89      0.453\n"
     ]
    },
    {
     "name": "stderr",
     "output_type": "stream",
     "text": [
      "\n"
     ]
    },
    {
     "name": "stdout",
     "output_type": "stream",
     "text": [
      "\n",
      "      Epoch    GPU_mem   box_loss   cls_loss   dfl_loss  Instances       Size\n"
     ]
    },
    {
     "name": "stderr",
     "output_type": "stream",
     "text": [
      "    120/460      17.5G     0.6928     0.4174     0.9209          4        640: 100%|██████████| 14/14 [00:04<00:00,  3.01it/s]\n",
      "                 Class     Images  Instances      Box(P          R      mAP50  mAP50-95): 100%|██████████| 2/2 [00:00<00:00,  4.81it/s]"
     ]
    },
    {
     "name": "stdout",
     "output_type": "stream",
     "text": [
      "                   all         60         64      0.894      0.792      0.853      0.478\n"
     ]
    },
    {
     "name": "stderr",
     "output_type": "stream",
     "text": [
      "\n"
     ]
    },
    {
     "name": "stdout",
     "output_type": "stream",
     "text": [
      "\n",
      "      Epoch    GPU_mem   box_loss   cls_loss   dfl_loss  Instances       Size\n"
     ]
    },
    {
     "name": "stderr",
     "output_type": "stream",
     "text": [
      "    121/460      17.3G     0.6868     0.4241     0.9204          6        640: 100%|██████████| 14/14 [00:04<00:00,  3.04it/s]\n",
      "                 Class     Images  Instances      Box(P          R      mAP50  mAP50-95): 100%|██████████| 2/2 [00:00<00:00,  4.79it/s]"
     ]
    },
    {
     "name": "stdout",
     "output_type": "stream",
     "text": [
      "                   all         60         64      0.887      0.766      0.842      0.461\n"
     ]
    },
    {
     "name": "stderr",
     "output_type": "stream",
     "text": [
      "\n"
     ]
    },
    {
     "name": "stdout",
     "output_type": "stream",
     "text": [
      "\n",
      "      Epoch    GPU_mem   box_loss   cls_loss   dfl_loss  Instances       Size\n"
     ]
    },
    {
     "name": "stderr",
     "output_type": "stream",
     "text": [
      "    122/460      17.5G     0.6931      0.425     0.9589          2        640: 100%|██████████| 14/14 [00:04<00:00,  2.89it/s]\n",
      "                 Class     Images  Instances      Box(P          R      mAP50  mAP50-95): 100%|██████████| 2/2 [00:00<00:00,  4.79it/s]"
     ]
    },
    {
     "name": "stdout",
     "output_type": "stream",
     "text": [
      "                   all         60         64      0.814       0.75       0.81      0.474\n"
     ]
    },
    {
     "name": "stderr",
     "output_type": "stream",
     "text": [
      "\n"
     ]
    },
    {
     "name": "stdout",
     "output_type": "stream",
     "text": [
      "\n",
      "      Epoch    GPU_mem   box_loss   cls_loss   dfl_loss  Instances       Size\n"
     ]
    },
    {
     "name": "stderr",
     "output_type": "stream",
     "text": [
      "    123/460      17.3G     0.6368      0.403     0.9373          1        640: 100%|██████████| 14/14 [00:04<00:00,  2.90it/s]\n",
      "                 Class     Images  Instances      Box(P          R      mAP50  mAP50-95): 100%|██████████| 2/2 [00:00<00:00,  4.81it/s]"
     ]
    },
    {
     "name": "stdout",
     "output_type": "stream",
     "text": [
      "                   all         60         64      0.807      0.766      0.814      0.487\n"
     ]
    },
    {
     "name": "stderr",
     "output_type": "stream",
     "text": [
      "\n"
     ]
    },
    {
     "name": "stdout",
     "output_type": "stream",
     "text": [
      "\n",
      "      Epoch    GPU_mem   box_loss   cls_loss   dfl_loss  Instances       Size\n"
     ]
    },
    {
     "name": "stderr",
     "output_type": "stream",
     "text": [
      "    124/460      17.5G     0.7033     0.4301     0.9285          6        640: 100%|██████████| 14/14 [00:04<00:00,  2.89it/s]\n",
      "                 Class     Images  Instances      Box(P          R      mAP50  mAP50-95): 100%|██████████| 2/2 [00:00<00:00,  4.82it/s]"
     ]
    },
    {
     "name": "stdout",
     "output_type": "stream",
     "text": [
      "                   all         60         64      0.806      0.797       0.82      0.447\n"
     ]
    },
    {
     "name": "stderr",
     "output_type": "stream",
     "text": [
      "\n"
     ]
    },
    {
     "name": "stdout",
     "output_type": "stream",
     "text": [
      "\n",
      "      Epoch    GPU_mem   box_loss   cls_loss   dfl_loss  Instances       Size\n"
     ]
    },
    {
     "name": "stderr",
     "output_type": "stream",
     "text": [
      "    125/460      17.3G     0.7011     0.4169      0.934          5        640: 100%|██████████| 14/14 [00:04<00:00,  2.93it/s]\n",
      "                 Class     Images  Instances      Box(P          R      mAP50  mAP50-95): 100%|██████████| 2/2 [00:00<00:00,  4.79it/s]"
     ]
    },
    {
     "name": "stdout",
     "output_type": "stream",
     "text": [
      "                   all         60         64       0.83      0.797      0.835       0.48\n"
     ]
    },
    {
     "name": "stderr",
     "output_type": "stream",
     "text": [
      "\n"
     ]
    },
    {
     "name": "stdout",
     "output_type": "stream",
     "text": [
      "\n",
      "      Epoch    GPU_mem   box_loss   cls_loss   dfl_loss  Instances       Size\n"
     ]
    },
    {
     "name": "stderr",
     "output_type": "stream",
     "text": [
      "    126/460      17.5G     0.6986     0.4248     0.9335          7        640: 100%|██████████| 14/14 [00:04<00:00,  2.99it/s]\n",
      "                 Class     Images  Instances      Box(P          R      mAP50  mAP50-95): 100%|██████████| 2/2 [00:00<00:00,  3.74it/s]"
     ]
    },
    {
     "name": "stdout",
     "output_type": "stream",
     "text": [
      "                   all         60         64      0.842      0.844      0.876      0.509\n"
     ]
    },
    {
     "name": "stderr",
     "output_type": "stream",
     "text": [
      "\n"
     ]
    },
    {
     "name": "stdout",
     "output_type": "stream",
     "text": [
      "\n",
      "      Epoch    GPU_mem   box_loss   cls_loss   dfl_loss  Instances       Size\n"
     ]
    },
    {
     "name": "stderr",
     "output_type": "stream",
     "text": [
      "    127/460      17.3G     0.7353     0.4137     0.9135          6        640: 100%|██████████| 14/14 [00:04<00:00,  3.00it/s]\n",
      "                 Class     Images  Instances      Box(P          R      mAP50  mAP50-95): 100%|██████████| 2/2 [00:00<00:00,  3.85it/s]"
     ]
    },
    {
     "name": "stdout",
     "output_type": "stream",
     "text": [
      "                   all         60         64      0.894      0.781      0.867      0.486\n"
     ]
    },
    {
     "name": "stderr",
     "output_type": "stream",
     "text": [
      "\n"
     ]
    },
    {
     "name": "stdout",
     "output_type": "stream",
     "text": [
      "\n",
      "      Epoch    GPU_mem   box_loss   cls_loss   dfl_loss  Instances       Size\n"
     ]
    },
    {
     "name": "stderr",
     "output_type": "stream",
     "text": [
      "    128/460      17.5G     0.7202       0.44     0.9359          8        640: 100%|██████████| 14/14 [00:04<00:00,  2.99it/s]\n",
      "                 Class     Images  Instances      Box(P          R      mAP50  mAP50-95): 100%|██████████| 2/2 [00:00<00:00,  4.81it/s]"
     ]
    },
    {
     "name": "stdout",
     "output_type": "stream",
     "text": [
      "                   all         60         64      0.841      0.781      0.826      0.437\n"
     ]
    },
    {
     "name": "stderr",
     "output_type": "stream",
     "text": [
      "\n"
     ]
    },
    {
     "name": "stdout",
     "output_type": "stream",
     "text": [
      "\n",
      "      Epoch    GPU_mem   box_loss   cls_loss   dfl_loss  Instances       Size\n"
     ]
    },
    {
     "name": "stderr",
     "output_type": "stream",
     "text": [
      "    129/460      17.3G     0.6848     0.4505      0.927          2        640: 100%|██████████| 14/14 [00:04<00:00,  3.01it/s]\n",
      "                 Class     Images  Instances      Box(P          R      mAP50  mAP50-95): 100%|██████████| 2/2 [00:00<00:00,  4.79it/s]"
     ]
    },
    {
     "name": "stdout",
     "output_type": "stream",
     "text": [
      "                   all         60         64      0.877      0.778      0.867      0.486\n"
     ]
    },
    {
     "name": "stderr",
     "output_type": "stream",
     "text": [
      "\n"
     ]
    },
    {
     "name": "stdout",
     "output_type": "stream",
     "text": [
      "\n",
      "      Epoch    GPU_mem   box_loss   cls_loss   dfl_loss  Instances       Size\n"
     ]
    },
    {
     "name": "stderr",
     "output_type": "stream",
     "text": [
      "    130/460      17.6G     0.7247     0.4285     0.9344          5        640: 100%|██████████| 14/14 [00:04<00:00,  2.90it/s]\n",
      "                 Class     Images  Instances      Box(P          R      mAP50  mAP50-95): 100%|██████████| 2/2 [00:00<00:00,  4.79it/s]"
     ]
    },
    {
     "name": "stdout",
     "output_type": "stream",
     "text": [
      "                   all         60         64      0.877       0.78      0.838      0.469\n"
     ]
    },
    {
     "name": "stderr",
     "output_type": "stream",
     "text": [
      "\n"
     ]
    },
    {
     "name": "stdout",
     "output_type": "stream",
     "text": [
      "\n",
      "      Epoch    GPU_mem   box_loss   cls_loss   dfl_loss  Instances       Size\n"
     ]
    },
    {
     "name": "stderr",
     "output_type": "stream",
     "text": [
      "    131/460      17.3G     0.7421     0.4136     0.9356          2        640: 100%|██████████| 14/14 [00:04<00:00,  2.93it/s]\n",
      "                 Class     Images  Instances      Box(P          R      mAP50  mAP50-95): 100%|██████████| 2/2 [00:00<00:00,  4.82it/s]"
     ]
    },
    {
     "name": "stdout",
     "output_type": "stream",
     "text": [
      "                   all         60         64      0.861      0.781      0.808       0.47\n"
     ]
    },
    {
     "name": "stderr",
     "output_type": "stream",
     "text": [
      "\n"
     ]
    },
    {
     "name": "stdout",
     "output_type": "stream",
     "text": [
      "\n",
      "      Epoch    GPU_mem   box_loss   cls_loss   dfl_loss  Instances       Size\n"
     ]
    },
    {
     "name": "stderr",
     "output_type": "stream",
     "text": [
      "    132/460      17.5G      0.739     0.4372     0.9127          6        640: 100%|██████████| 14/14 [00:04<00:00,  2.99it/s]\n",
      "                 Class     Images  Instances      Box(P          R      mAP50  mAP50-95): 100%|██████████| 2/2 [00:00<00:00,  4.15it/s]"
     ]
    },
    {
     "name": "stdout",
     "output_type": "stream",
     "text": [
      "                   all         60         64      0.892      0.797      0.864      0.488\n"
     ]
    },
    {
     "name": "stderr",
     "output_type": "stream",
     "text": [
      "\n"
     ]
    },
    {
     "name": "stdout",
     "output_type": "stream",
     "text": [
      "\n",
      "      Epoch    GPU_mem   box_loss   cls_loss   dfl_loss  Instances       Size\n"
     ]
    },
    {
     "name": "stderr",
     "output_type": "stream",
     "text": [
      "    133/460      17.4G     0.6961     0.4105     0.8993          3        640: 100%|██████████| 14/14 [00:04<00:00,  3.00it/s]\n",
      "                 Class     Images  Instances      Box(P          R      mAP50  mAP50-95): 100%|██████████| 2/2 [00:00<00:00,  4.82it/s]"
     ]
    },
    {
     "name": "stdout",
     "output_type": "stream",
     "text": [
      "                   all         60         64      0.835      0.734      0.821      0.477\n"
     ]
    },
    {
     "name": "stderr",
     "output_type": "stream",
     "text": [
      "\n"
     ]
    },
    {
     "name": "stdout",
     "output_type": "stream",
     "text": [
      "\n",
      "      Epoch    GPU_mem   box_loss   cls_loss   dfl_loss  Instances       Size\n"
     ]
    },
    {
     "name": "stderr",
     "output_type": "stream",
     "text": [
      "    134/460      17.5G      0.722     0.4288      0.929          7        640: 100%|██████████| 14/14 [00:04<00:00,  2.99it/s]\n",
      "                 Class     Images  Instances      Box(P          R      mAP50  mAP50-95): 100%|██████████| 2/2 [00:00<00:00,  4.81it/s]"
     ]
    },
    {
     "name": "stdout",
     "output_type": "stream",
     "text": [
      "                   all         60         64      0.832      0.775      0.844      0.476\n"
     ]
    },
    {
     "name": "stderr",
     "output_type": "stream",
     "text": [
      "\n"
     ]
    },
    {
     "name": "stdout",
     "output_type": "stream",
     "text": [
      "\n",
      "      Epoch    GPU_mem   box_loss   cls_loss   dfl_loss  Instances       Size\n"
     ]
    },
    {
     "name": "stderr",
     "output_type": "stream",
     "text": [
      "    135/460      17.3G     0.6629     0.4017     0.9053          4        640: 100%|██████████| 14/14 [00:04<00:00,  3.00it/s]\n",
      "                 Class     Images  Instances      Box(P          R      mAP50  mAP50-95): 100%|██████████| 2/2 [00:00<00:00,  4.79it/s]"
     ]
    },
    {
     "name": "stdout",
     "output_type": "stream",
     "text": [
      "                   all         60         64      0.927      0.796      0.861      0.463\n"
     ]
    },
    {
     "name": "stderr",
     "output_type": "stream",
     "text": [
      "\n"
     ]
    },
    {
     "name": "stdout",
     "output_type": "stream",
     "text": [
      "\n",
      "      Epoch    GPU_mem   box_loss   cls_loss   dfl_loss  Instances       Size\n"
     ]
    },
    {
     "name": "stderr",
     "output_type": "stream",
     "text": [
      "    136/460      17.5G     0.6817     0.4139     0.9108          6        640: 100%|██████████| 14/14 [00:04<00:00,  3.00it/s]\n",
      "                 Class     Images  Instances      Box(P          R      mAP50  mAP50-95): 100%|██████████| 2/2 [00:00<00:00,  4.82it/s]"
     ]
    },
    {
     "name": "stdout",
     "output_type": "stream",
     "text": [
      "                   all         60         64      0.908      0.828      0.867      0.477\n"
     ]
    },
    {
     "name": "stderr",
     "output_type": "stream",
     "text": [
      "\n"
     ]
    },
    {
     "name": "stdout",
     "output_type": "stream",
     "text": [
      "\n",
      "      Epoch    GPU_mem   box_loss   cls_loss   dfl_loss  Instances       Size\n"
     ]
    },
    {
     "name": "stderr",
     "output_type": "stream",
     "text": [
      "    137/461      17.3G     0.6906     0.4196     0.9096          5        640: 100%|██████████| 14/14 [00:04<00:00,  3.03it/s]\n",
      "                 Class     Images  Instances      Box(P          R      mAP50  mAP50-95): 100%|██████████| 2/2 [00:00<00:00,  4.77it/s]"
     ]
    },
    {
     "name": "stdout",
     "output_type": "stream",
     "text": [
      "                   all         60         64      0.882      0.844      0.884      0.473\n"
     ]
    },
    {
     "name": "stderr",
     "output_type": "stream",
     "text": [
      "\n"
     ]
    },
    {
     "name": "stdout",
     "output_type": "stream",
     "text": [
      "\n",
      "      Epoch    GPU_mem   box_loss   cls_loss   dfl_loss  Instances       Size\n"
     ]
    },
    {
     "name": "stderr",
     "output_type": "stream",
     "text": [
      "    138/461      17.5G     0.6597      0.408     0.9131          7        640: 100%|██████████| 14/14 [00:04<00:00,  3.01it/s]\n",
      "                 Class     Images  Instances      Box(P          R      mAP50  mAP50-95): 100%|██████████| 2/2 [00:00<00:00,  4.80it/s]"
     ]
    },
    {
     "name": "stdout",
     "output_type": "stream",
     "text": [
      "                   all         60         64      0.884      0.859      0.863      0.473\n"
     ]
    },
    {
     "name": "stderr",
     "output_type": "stream",
     "text": [
      "\n"
     ]
    },
    {
     "name": "stdout",
     "output_type": "stream",
     "text": [
      "\n",
      "      Epoch    GPU_mem   box_loss   cls_loss   dfl_loss  Instances       Size\n"
     ]
    },
    {
     "name": "stderr",
     "output_type": "stream",
     "text": [
      "    139/461      17.3G     0.6556     0.4152     0.9209          5        640: 100%|██████████| 14/14 [00:04<00:00,  2.91it/s]\n",
      "                 Class     Images  Instances      Box(P          R      mAP50  mAP50-95): 100%|██████████| 2/2 [00:00<00:00,  4.81it/s]"
     ]
    },
    {
     "name": "stdout",
     "output_type": "stream",
     "text": [
      "                   all         60         64      0.862       0.78      0.822      0.448\n"
     ]
    },
    {
     "name": "stderr",
     "output_type": "stream",
     "text": [
      "\n"
     ]
    },
    {
     "name": "stdout",
     "output_type": "stream",
     "text": [
      "\n",
      "      Epoch    GPU_mem   box_loss   cls_loss   dfl_loss  Instances       Size\n"
     ]
    },
    {
     "name": "stderr",
     "output_type": "stream",
     "text": [
      "    140/461      17.5G     0.6614     0.4025     0.9007          4        640: 100%|██████████| 14/14 [00:04<00:00,  2.92it/s]\n",
      "                 Class     Images  Instances      Box(P          R      mAP50  mAP50-95): 100%|██████████| 2/2 [00:00<00:00,  4.81it/s]"
     ]
    },
    {
     "name": "stdout",
     "output_type": "stream",
     "text": [
      "                   all         60         64      0.818       0.75      0.826      0.444\n"
     ]
    },
    {
     "name": "stderr",
     "output_type": "stream",
     "text": [
      "\n"
     ]
    },
    {
     "name": "stdout",
     "output_type": "stream",
     "text": [
      "\n",
      "      Epoch    GPU_mem   box_loss   cls_loss   dfl_loss  Instances       Size\n"
     ]
    },
    {
     "name": "stderr",
     "output_type": "stream",
     "text": [
      "    141/461      17.3G     0.7219     0.4274     0.9242          3        640: 100%|██████████| 14/14 [00:04<00:00,  2.89it/s]\n",
      "                 Class     Images  Instances      Box(P          R      mAP50  mAP50-95): 100%|██████████| 2/2 [00:00<00:00,  4.81it/s]"
     ]
    },
    {
     "name": "stdout",
     "output_type": "stream",
     "text": [
      "                   all         60         64      0.761      0.812      0.773       0.46\n"
     ]
    },
    {
     "name": "stderr",
     "output_type": "stream",
     "text": [
      "\n"
     ]
    },
    {
     "name": "stdout",
     "output_type": "stream",
     "text": [
      "\n",
      "      Epoch    GPU_mem   box_loss   cls_loss   dfl_loss  Instances       Size\n"
     ]
    },
    {
     "name": "stderr",
     "output_type": "stream",
     "text": [
      "    142/461      17.5G     0.6599      0.411     0.9101          8        640: 100%|██████████| 14/14 [00:04<00:00,  2.97it/s]\n",
      "                 Class     Images  Instances      Box(P          R      mAP50  mAP50-95): 100%|██████████| 2/2 [00:00<00:00,  4.07it/s]"
     ]
    },
    {
     "name": "stdout",
     "output_type": "stream",
     "text": [
      "                   all         60         64      0.725      0.867      0.825      0.483\n"
     ]
    },
    {
     "name": "stderr",
     "output_type": "stream",
     "text": [
      "\n"
     ]
    },
    {
     "name": "stdout",
     "output_type": "stream",
     "text": [
      "\n",
      "      Epoch    GPU_mem   box_loss   cls_loss   dfl_loss  Instances       Size\n"
     ]
    },
    {
     "name": "stderr",
     "output_type": "stream",
     "text": [
      "    143/461      17.3G     0.6928     0.4616     0.9509          4        640: 100%|██████████| 14/14 [00:04<00:00,  2.97it/s]\n",
      "                 Class     Images  Instances      Box(P          R      mAP50  mAP50-95): 100%|██████████| 2/2 [00:00<00:00,  4.74it/s]"
     ]
    },
    {
     "name": "stdout",
     "output_type": "stream",
     "text": [
      "                   all         60         64      0.852      0.781      0.831      0.496\n"
     ]
    },
    {
     "name": "stderr",
     "output_type": "stream",
     "text": [
      "\n"
     ]
    },
    {
     "name": "stdout",
     "output_type": "stream",
     "text": [
      "\n",
      "      Epoch    GPU_mem   box_loss   cls_loss   dfl_loss  Instances       Size\n"
     ]
    },
    {
     "name": "stderr",
     "output_type": "stream",
     "text": [
      "    144/461      17.5G     0.6594     0.3975     0.9055          3        640: 100%|██████████| 14/14 [00:04<00:00,  2.99it/s]\n",
      "                 Class     Images  Instances      Box(P          R      mAP50  mAP50-95): 100%|██████████| 2/2 [00:00<00:00,  4.79it/s]"
     ]
    },
    {
     "name": "stdout",
     "output_type": "stream",
     "text": [
      "                   all         60         64      0.832      0.848      0.863      0.495\n"
     ]
    },
    {
     "name": "stderr",
     "output_type": "stream",
     "text": [
      "\n"
     ]
    },
    {
     "name": "stdout",
     "output_type": "stream",
     "text": [
      "\n",
      "      Epoch    GPU_mem   box_loss   cls_loss   dfl_loss  Instances       Size\n"
     ]
    },
    {
     "name": "stderr",
     "output_type": "stream",
     "text": [
      "    145/461      17.3G     0.6524     0.4146     0.9237          4        640: 100%|██████████| 14/14 [00:04<00:00,  3.00it/s]\n",
      "                 Class     Images  Instances      Box(P          R      mAP50  mAP50-95): 100%|██████████| 2/2 [00:00<00:00,  4.78it/s]"
     ]
    },
    {
     "name": "stdout",
     "output_type": "stream",
     "text": [
      "                   all         60         64      0.837      0.797      0.839      0.474\n"
     ]
    },
    {
     "name": "stderr",
     "output_type": "stream",
     "text": [
      "\n"
     ]
    },
    {
     "name": "stdout",
     "output_type": "stream",
     "text": [
      "\n",
      "      Epoch    GPU_mem   box_loss   cls_loss   dfl_loss  Instances       Size\n"
     ]
    },
    {
     "name": "stderr",
     "output_type": "stream",
     "text": [
      "    146/461      17.5G     0.7246     0.4961      0.962          2        640: 100%|██████████| 14/14 [00:04<00:00,  2.99it/s]\n",
      "                 Class     Images  Instances      Box(P          R      mAP50  mAP50-95): 100%|██████████| 2/2 [00:00<00:00,  4.80it/s]"
     ]
    },
    {
     "name": "stdout",
     "output_type": "stream",
     "text": [
      "                   all         60         64      0.872       0.75      0.863      0.467\n"
     ]
    },
    {
     "name": "stderr",
     "output_type": "stream",
     "text": [
      "\n"
     ]
    },
    {
     "name": "stdout",
     "output_type": "stream",
     "text": [
      "\n",
      "      Epoch    GPU_mem   box_loss   cls_loss   dfl_loss  Instances       Size\n"
     ]
    },
    {
     "name": "stderr",
     "output_type": "stream",
     "text": [
      "    147/461      17.3G     0.6226      0.385     0.9032          9        640: 100%|██████████| 14/14 [00:04<00:00,  3.02it/s]\n",
      "                 Class     Images  Instances      Box(P          R      mAP50  mAP50-95): 100%|██████████| 2/2 [00:00<00:00,  4.80it/s]"
     ]
    },
    {
     "name": "stdout",
     "output_type": "stream",
     "text": [
      "                   all         60         64      0.905       0.75       0.82      0.439\n"
     ]
    },
    {
     "name": "stderr",
     "output_type": "stream",
     "text": [
      "\n"
     ]
    },
    {
     "name": "stdout",
     "output_type": "stream",
     "text": [
      "\n",
      "      Epoch    GPU_mem   box_loss   cls_loss   dfl_loss  Instances       Size\n"
     ]
    },
    {
     "name": "stderr",
     "output_type": "stream",
     "text": [
      "    148/461      17.5G     0.6278     0.3792     0.8939          6        640: 100%|██████████| 14/14 [00:04<00:00,  2.90it/s]\n",
      "                 Class     Images  Instances      Box(P          R      mAP50  mAP50-95): 100%|██████████| 2/2 [00:00<00:00,  4.81it/s]"
     ]
    },
    {
     "name": "stdout",
     "output_type": "stream",
     "text": [
      "                   all         60         64      0.849      0.797      0.844      0.476\n"
     ]
    },
    {
     "name": "stderr",
     "output_type": "stream",
     "text": [
      "\n"
     ]
    },
    {
     "name": "stdout",
     "output_type": "stream",
     "text": [
      "\n",
      "      Epoch    GPU_mem   box_loss   cls_loss   dfl_loss  Instances       Size\n"
     ]
    },
    {
     "name": "stderr",
     "output_type": "stream",
     "text": [
      "    149/461      17.3G     0.6448     0.4006     0.9031          6        640: 100%|██████████| 14/14 [00:04<00:00,  2.93it/s]\n",
      "                 Class     Images  Instances      Box(P          R      mAP50  mAP50-95): 100%|██████████| 2/2 [00:00<00:00,  4.80it/s]"
     ]
    },
    {
     "name": "stdout",
     "output_type": "stream",
     "text": [
      "                   all         60         64      0.788      0.797      0.808      0.439\n"
     ]
    },
    {
     "name": "stderr",
     "output_type": "stream",
     "text": [
      "\n"
     ]
    },
    {
     "name": "stdout",
     "output_type": "stream",
     "text": [
      "\n",
      "      Epoch    GPU_mem   box_loss   cls_loss   dfl_loss  Instances       Size\n"
     ]
    },
    {
     "name": "stderr",
     "output_type": "stream",
     "text": [
      "    150/461      17.5G     0.6906     0.4248     0.9265          3        640: 100%|██████████| 14/14 [00:04<00:00,  2.99it/s]\n",
      "                 Class     Images  Instances      Box(P          R      mAP50  mAP50-95): 100%|██████████| 2/2 [00:00<00:00,  3.70it/s]"
     ]
    },
    {
     "name": "stdout",
     "output_type": "stream",
     "text": [
      "                   all         60         64      0.822       0.75      0.825      0.453\n"
     ]
    },
    {
     "name": "stderr",
     "output_type": "stream",
     "text": [
      "\n"
     ]
    },
    {
     "name": "stdout",
     "output_type": "stream",
     "text": [
      "\n",
      "      Epoch    GPU_mem   box_loss   cls_loss   dfl_loss  Instances       Size\n"
     ]
    },
    {
     "name": "stderr",
     "output_type": "stream",
     "text": [
      "    151/461      17.3G     0.6577     0.4207      0.942          4        640: 100%|██████████| 14/14 [00:04<00:00,  3.00it/s]\n",
      "                 Class     Images  Instances      Box(P          R      mAP50  mAP50-95): 100%|██████████| 2/2 [00:00<00:00,  3.82it/s]"
     ]
    },
    {
     "name": "stdout",
     "output_type": "stream",
     "text": [
      "                   all         60         64      0.832      0.844      0.874      0.457\n"
     ]
    },
    {
     "name": "stderr",
     "output_type": "stream",
     "text": [
      "\n"
     ]
    },
    {
     "name": "stdout",
     "output_type": "stream",
     "text": [
      "\n",
      "      Epoch    GPU_mem   box_loss   cls_loss   dfl_loss  Instances       Size\n"
     ]
    },
    {
     "name": "stderr",
     "output_type": "stream",
     "text": [
      "    152/461      17.5G     0.6415     0.4078     0.9026          2        640: 100%|██████████| 14/14 [00:04<00:00,  2.99it/s]\n",
      "                 Class     Images  Instances      Box(P          R      mAP50  mAP50-95): 100%|██████████| 2/2 [00:00<00:00,  4.80it/s]"
     ]
    },
    {
     "name": "stdout",
     "output_type": "stream",
     "text": [
      "                   all         60         64       0.88      0.828      0.835      0.473\n"
     ]
    },
    {
     "name": "stderr",
     "output_type": "stream",
     "text": [
      "\n"
     ]
    },
    {
     "name": "stdout",
     "output_type": "stream",
     "text": [
      "\n",
      "      Epoch    GPU_mem   box_loss   cls_loss   dfl_loss  Instances       Size\n"
     ]
    },
    {
     "name": "stderr",
     "output_type": "stream",
     "text": [
      "    153/461      17.3G     0.6953     0.4659     0.9266          3        640: 100%|██████████| 14/14 [00:04<00:00,  3.03it/s]\n",
      "                 Class     Images  Instances      Box(P          R      mAP50  mAP50-95): 100%|██████████| 2/2 [00:00<00:00,  4.79it/s]"
     ]
    },
    {
     "name": "stdout",
     "output_type": "stream",
     "text": [
      "                   all         60         64      0.895      0.812      0.856      0.479\n"
     ]
    },
    {
     "name": "stderr",
     "output_type": "stream",
     "text": [
      "\n"
     ]
    },
    {
     "name": "stdout",
     "output_type": "stream",
     "text": [
      "\n",
      "      Epoch    GPU_mem   box_loss   cls_loss   dfl_loss  Instances       Size\n"
     ]
    },
    {
     "name": "stderr",
     "output_type": "stream",
     "text": [
      "    154/461      17.5G      0.619      0.402      0.893          5        640: 100%|██████████| 14/14 [00:04<00:00,  2.92it/s]\n",
      "                 Class     Images  Instances      Box(P          R      mAP50  mAP50-95): 100%|██████████| 2/2 [00:00<00:00,  4.79it/s]"
     ]
    },
    {
     "name": "stdout",
     "output_type": "stream",
     "text": [
      "                   all         60         64      0.863      0.781      0.827      0.464\n"
     ]
    },
    {
     "name": "stderr",
     "output_type": "stream",
     "text": [
      "\n"
     ]
    },
    {
     "name": "stdout",
     "output_type": "stream",
     "text": [
      "\n",
      "      Epoch    GPU_mem   box_loss   cls_loss   dfl_loss  Instances       Size\n"
     ]
    },
    {
     "name": "stderr",
     "output_type": "stream",
     "text": [
      "    155/461      17.3G     0.6644     0.4076      0.911          4        640: 100%|██████████| 14/14 [00:04<00:00,  2.92it/s]\n",
      "                 Class     Images  Instances      Box(P          R      mAP50  mAP50-95): 100%|██████████| 2/2 [00:00<00:00,  4.80it/s]"
     ]
    },
    {
     "name": "stdout",
     "output_type": "stream",
     "text": [
      "                   all         60         64      0.895      0.797      0.834      0.467\n"
     ]
    },
    {
     "name": "stderr",
     "output_type": "stream",
     "text": [
      "\n"
     ]
    },
    {
     "name": "stdout",
     "output_type": "stream",
     "text": [
      "\n",
      "      Epoch    GPU_mem   box_loss   cls_loss   dfl_loss  Instances       Size\n"
     ]
    },
    {
     "name": "stderr",
     "output_type": "stream",
     "text": [
      "    156/461      17.5G     0.6005     0.3833     0.9129          2        640: 100%|██████████| 14/14 [00:04<00:00,  2.88it/s]\n",
      "                 Class     Images  Instances      Box(P          R      mAP50  mAP50-95): 100%|██████████| 2/2 [00:00<00:00,  4.81it/s]"
     ]
    },
    {
     "name": "stdout",
     "output_type": "stream",
     "text": [
      "                   all         60         64      0.889      0.781      0.819      0.466\n"
     ]
    },
    {
     "name": "stderr",
     "output_type": "stream",
     "text": [
      "\n"
     ]
    },
    {
     "name": "stdout",
     "output_type": "stream",
     "text": [
      "\n",
      "      Epoch    GPU_mem   box_loss   cls_loss   dfl_loss  Instances       Size\n"
     ]
    },
    {
     "name": "stderr",
     "output_type": "stream",
     "text": [
      "    157/461      17.3G     0.6055     0.3749     0.8814          5        640: 100%|██████████| 14/14 [00:04<00:00,  2.90it/s]\n",
      "                 Class     Images  Instances      Box(P          R      mAP50  mAP50-95): 100%|██████████| 2/2 [00:00<00:00,  4.82it/s]"
     ]
    },
    {
     "name": "stdout",
     "output_type": "stream",
     "text": [
      "                   all         60         64       0.86      0.781      0.834      0.472\n"
     ]
    },
    {
     "name": "stderr",
     "output_type": "stream",
     "text": [
      "\n"
     ]
    },
    {
     "name": "stdout",
     "output_type": "stream",
     "text": [
      "\n",
      "      Epoch    GPU_mem   box_loss   cls_loss   dfl_loss  Instances       Size\n"
     ]
    },
    {
     "name": "stderr",
     "output_type": "stream",
     "text": [
      "    158/461      17.5G      0.628     0.3818     0.8847          7        640: 100%|██████████| 14/14 [00:04<00:00,  2.89it/s]\n",
      "                 Class     Images  Instances      Box(P          R      mAP50  mAP50-95): 100%|██████████| 2/2 [00:00<00:00,  4.80it/s]"
     ]
    },
    {
     "name": "stdout",
     "output_type": "stream",
     "text": [
      "                   all         60         64      0.876      0.775      0.819      0.463\n"
     ]
    },
    {
     "name": "stderr",
     "output_type": "stream",
     "text": [
      "\n"
     ]
    },
    {
     "name": "stdout",
     "output_type": "stream",
     "text": [
      "\n",
      "      Epoch    GPU_mem   box_loss   cls_loss   dfl_loss  Instances       Size\n"
     ]
    },
    {
     "name": "stderr",
     "output_type": "stream",
     "text": [
      "    159/461      17.3G     0.6264     0.4041     0.8999          5        640: 100%|██████████| 14/14 [00:04<00:00,  2.88it/s]\n",
      "                 Class     Images  Instances      Box(P          R      mAP50  mAP50-95): 100%|██████████| 2/2 [00:00<00:00,  4.80it/s]"
     ]
    },
    {
     "name": "stdout",
     "output_type": "stream",
     "text": [
      "                   all         60         64      0.912      0.808      0.869      0.499\n"
     ]
    },
    {
     "name": "stderr",
     "output_type": "stream",
     "text": [
      "\n"
     ]
    },
    {
     "name": "stdout",
     "output_type": "stream",
     "text": [
      "\n",
      "      Epoch    GPU_mem   box_loss   cls_loss   dfl_loss  Instances       Size\n"
     ]
    },
    {
     "name": "stderr",
     "output_type": "stream",
     "text": [
      "    160/461      17.5G     0.6207      0.392     0.8942          4        640: 100%|██████████| 14/14 [00:04<00:00,  2.99it/s]\n",
      "                 Class     Images  Instances      Box(P          R      mAP50  mAP50-95): 100%|██████████| 2/2 [00:00<00:00,  4.11it/s]"
     ]
    },
    {
     "name": "stdout",
     "output_type": "stream",
     "text": [
      "                   all         60         64      0.842      0.781      0.797      0.487\n"
     ]
    },
    {
     "name": "stderr",
     "output_type": "stream",
     "text": [
      "\n"
     ]
    },
    {
     "name": "stdout",
     "output_type": "stream",
     "text": [
      "\n",
      "      Epoch    GPU_mem   box_loss   cls_loss   dfl_loss  Instances       Size\n"
     ]
    },
    {
     "name": "stderr",
     "output_type": "stream",
     "text": [
      "    161/462      17.3G     0.6299     0.4015     0.8998          3        640: 100%|██████████| 14/14 [00:04<00:00,  2.99it/s]\n",
      "                 Class     Images  Instances      Box(P          R      mAP50  mAP50-95): 100%|██████████| 2/2 [00:00<00:00,  4.81it/s]"
     ]
    },
    {
     "name": "stdout",
     "output_type": "stream",
     "text": [
      "                   all         60         64      0.911      0.796      0.835      0.477\n"
     ]
    },
    {
     "name": "stderr",
     "output_type": "stream",
     "text": [
      "\n"
     ]
    },
    {
     "name": "stdout",
     "output_type": "stream",
     "text": [
      "\n",
      "      Epoch    GPU_mem   box_loss   cls_loss   dfl_loss  Instances       Size\n"
     ]
    },
    {
     "name": "stderr",
     "output_type": "stream",
     "text": [
      "    162/462      17.5G     0.5986     0.3987     0.8906          1        640: 100%|██████████| 14/14 [00:04<00:00,  3.01it/s]\n",
      "                 Class     Images  Instances      Box(P          R      mAP50  mAP50-95): 100%|██████████| 2/2 [00:00<00:00,  4.81it/s]"
     ]
    },
    {
     "name": "stdout",
     "output_type": "stream",
     "text": [
      "                   all         60         64      0.911      0.803       0.86      0.489\n"
     ]
    },
    {
     "name": "stderr",
     "output_type": "stream",
     "text": [
      "\n"
     ]
    },
    {
     "name": "stdout",
     "output_type": "stream",
     "text": [
      "\n",
      "      Epoch    GPU_mem   box_loss   cls_loss   dfl_loss  Instances       Size\n"
     ]
    },
    {
     "name": "stderr",
     "output_type": "stream",
     "text": [
      "    163/462      17.3G     0.6427     0.3882     0.9162          4        640: 100%|██████████| 14/14 [00:04<00:00,  2.90it/s]\n",
      "                 Class     Images  Instances      Box(P          R      mAP50  mAP50-95): 100%|██████████| 2/2 [00:00<00:00,  4.80it/s]"
     ]
    },
    {
     "name": "stdout",
     "output_type": "stream",
     "text": [
      "                   all         60         64      0.866       0.81      0.838      0.506\n"
     ]
    },
    {
     "name": "stderr",
     "output_type": "stream",
     "text": [
      "\n"
     ]
    },
    {
     "name": "stdout",
     "output_type": "stream",
     "text": [
      "\n",
      "      Epoch    GPU_mem   box_loss   cls_loss   dfl_loss  Instances       Size\n"
     ]
    },
    {
     "name": "stderr",
     "output_type": "stream",
     "text": [
      "    164/462      17.6G     0.6036     0.3744     0.8802          5        640: 100%|██████████| 14/14 [00:04<00:00,  2.92it/s]\n",
      "                 Class     Images  Instances      Box(P          R      mAP50  mAP50-95): 100%|██████████| 2/2 [00:00<00:00,  4.82it/s]"
     ]
    },
    {
     "name": "stdout",
     "output_type": "stream",
     "text": [
      "                   all         60         64      0.796      0.793      0.805      0.483\n"
     ]
    },
    {
     "name": "stderr",
     "output_type": "stream",
     "text": [
      "\n"
     ]
    },
    {
     "name": "stdout",
     "output_type": "stream",
     "text": [
      "\n",
      "      Epoch    GPU_mem   box_loss   cls_loss   dfl_loss  Instances       Size\n"
     ]
    },
    {
     "name": "stderr",
     "output_type": "stream",
     "text": [
      "    165/462      17.3G     0.5964     0.3645     0.9062          5        640: 100%|██████████| 14/14 [00:04<00:00,  3.00it/s]\n",
      "                 Class     Images  Instances      Box(P          R      mAP50  mAP50-95): 100%|██████████| 2/2 [00:00<00:00,  4.15it/s]"
     ]
    },
    {
     "name": "stdout",
     "output_type": "stream",
     "text": [
      "                   all         60         64      0.839      0.732      0.807      0.495\n"
     ]
    },
    {
     "name": "stderr",
     "output_type": "stream",
     "text": [
      "\n"
     ]
    },
    {
     "name": "stdout",
     "output_type": "stream",
     "text": [
      "\n",
      "      Epoch    GPU_mem   box_loss   cls_loss   dfl_loss  Instances       Size\n"
     ]
    },
    {
     "name": "stderr",
     "output_type": "stream",
     "text": [
      "    166/462      17.5G     0.5701     0.3477     0.8902          4        640: 100%|██████████| 14/14 [00:04<00:00,  2.98it/s]\n",
      "                 Class     Images  Instances      Box(P          R      mAP50  mAP50-95): 100%|██████████| 2/2 [00:00<00:00,  4.81it/s]"
     ]
    },
    {
     "name": "stdout",
     "output_type": "stream",
     "text": [
      "                   all         60         64      0.874      0.812      0.873       0.48\n"
     ]
    },
    {
     "name": "stderr",
     "output_type": "stream",
     "text": [
      "\n"
     ]
    },
    {
     "name": "stdout",
     "output_type": "stream",
     "text": [
      "\n",
      "      Epoch    GPU_mem   box_loss   cls_loss   dfl_loss  Instances       Size\n"
     ]
    },
    {
     "name": "stderr",
     "output_type": "stream",
     "text": [
      "    167/462      17.3G     0.5842     0.3736     0.8809          5        640: 100%|██████████| 14/14 [00:04<00:00,  3.00it/s]\n",
      "                 Class     Images  Instances      Box(P          R      mAP50  mAP50-95): 100%|██████████| 2/2 [00:00<00:00,  4.80it/s]"
     ]
    },
    {
     "name": "stdout",
     "output_type": "stream",
     "text": [
      "                   all         60         64      0.875      0.766       0.86      0.502\n"
     ]
    },
    {
     "name": "stderr",
     "output_type": "stream",
     "text": [
      "\n"
     ]
    },
    {
     "name": "stdout",
     "output_type": "stream",
     "text": [
      "\n",
      "      Epoch    GPU_mem   box_loss   cls_loss   dfl_loss  Instances       Size\n"
     ]
    },
    {
     "name": "stderr",
     "output_type": "stream",
     "text": [
      "    168/462      17.5G     0.5601     0.3546     0.8643          3        640: 100%|██████████| 14/14 [00:04<00:00,  3.00it/s]\n",
      "                 Class     Images  Instances      Box(P          R      mAP50  mAP50-95): 100%|██████████| 2/2 [00:00<00:00,  4.79it/s]"
     ]
    },
    {
     "name": "stdout",
     "output_type": "stream",
     "text": [
      "                   all         60         64      0.941      0.797      0.894      0.494\n"
     ]
    },
    {
     "name": "stderr",
     "output_type": "stream",
     "text": [
      "\n"
     ]
    },
    {
     "name": "stdout",
     "output_type": "stream",
     "text": [
      "\n",
      "      Epoch    GPU_mem   box_loss   cls_loss   dfl_loss  Instances       Size\n"
     ]
    },
    {
     "name": "stderr",
     "output_type": "stream",
     "text": [
      "    169/462      17.3G      0.577     0.3603     0.8866          3        640: 100%|██████████| 14/14 [00:04<00:00,  3.00it/s]\n",
      "                 Class     Images  Instances      Box(P          R      mAP50  mAP50-95): 100%|██████████| 2/2 [00:00<00:00,  4.80it/s]"
     ]
    },
    {
     "name": "stdout",
     "output_type": "stream",
     "text": [
      "                   all         60         64      0.906      0.766      0.839      0.487\n"
     ]
    },
    {
     "name": "stderr",
     "output_type": "stream",
     "text": [
      "\n"
     ]
    },
    {
     "name": "stdout",
     "output_type": "stream",
     "text": [
      "\n",
      "      Epoch    GPU_mem   box_loss   cls_loss   dfl_loss  Instances       Size\n"
     ]
    },
    {
     "name": "stderr",
     "output_type": "stream",
     "text": [
      "    170/462      17.5G     0.6025     0.3719     0.8969          2        640: 100%|██████████| 14/14 [00:04<00:00,  3.00it/s]\n",
      "                 Class     Images  Instances      Box(P          R      mAP50  mAP50-95): 100%|██████████| 2/2 [00:00<00:00,  4.82it/s]"
     ]
    },
    {
     "name": "stdout",
     "output_type": "stream",
     "text": [
      "                   all         60         64      0.937      0.698      0.825      0.491\n"
     ]
    },
    {
     "name": "stderr",
     "output_type": "stream",
     "text": [
      "\n"
     ]
    },
    {
     "name": "stdout",
     "output_type": "stream",
     "text": [
      "\n",
      "      Epoch    GPU_mem   box_loss   cls_loss   dfl_loss  Instances       Size\n"
     ]
    },
    {
     "name": "stderr",
     "output_type": "stream",
     "text": [
      "    171/462      17.3G     0.5504     0.3547     0.8831          5        640: 100%|██████████| 14/14 [00:04<00:00,  3.04it/s]\n",
      "                 Class     Images  Instances      Box(P          R      mAP50  mAP50-95): 100%|██████████| 2/2 [00:00<00:00,  4.83it/s]"
     ]
    },
    {
     "name": "stdout",
     "output_type": "stream",
     "text": [
      "                   all         60         64      0.838       0.75      0.828      0.498\n"
     ]
    },
    {
     "name": "stderr",
     "output_type": "stream",
     "text": [
      "\n"
     ]
    },
    {
     "name": "stdout",
     "output_type": "stream",
     "text": [
      "\n",
      "      Epoch    GPU_mem   box_loss   cls_loss   dfl_loss  Instances       Size\n"
     ]
    },
    {
     "name": "stderr",
     "output_type": "stream",
     "text": [
      "    172/462      17.5G     0.5793     0.3665     0.8956          3        640: 100%|██████████| 14/14 [00:04<00:00,  2.91it/s]\n",
      "                 Class     Images  Instances      Box(P          R      mAP50  mAP50-95): 100%|██████████| 2/2 [00:00<00:00,  4.80it/s]"
     ]
    },
    {
     "name": "stdout",
     "output_type": "stream",
     "text": [
      "                   all         60         64       0.83      0.762      0.838       0.51\n"
     ]
    },
    {
     "name": "stderr",
     "output_type": "stream",
     "text": [
      "\n"
     ]
    },
    {
     "name": "stdout",
     "output_type": "stream",
     "text": [
      "\n",
      "      Epoch    GPU_mem   box_loss   cls_loss   dfl_loss  Instances       Size\n"
     ]
    },
    {
     "name": "stderr",
     "output_type": "stream",
     "text": [
      "    173/462      17.3G     0.5853     0.3578      0.891          5        640: 100%|██████████| 14/14 [00:04<00:00,  2.87it/s]\n",
      "                 Class     Images  Instances      Box(P          R      mAP50  mAP50-95): 100%|██████████| 2/2 [00:00<00:00,  4.80it/s]"
     ]
    },
    {
     "name": "stdout",
     "output_type": "stream",
     "text": [
      "                   all         60         64      0.886       0.75      0.861      0.506\n"
     ]
    },
    {
     "name": "stderr",
     "output_type": "stream",
     "text": [
      "\n"
     ]
    },
    {
     "name": "stdout",
     "output_type": "stream",
     "text": [
      "\n",
      "      Epoch    GPU_mem   box_loss   cls_loss   dfl_loss  Instances       Size\n"
     ]
    },
    {
     "name": "stderr",
     "output_type": "stream",
     "text": [
      "    174/462      17.5G     0.5911     0.3583      0.893          3        640: 100%|██████████| 14/14 [00:04<00:00,  2.98it/s]\n",
      "                 Class     Images  Instances      Box(P          R      mAP50  mAP50-95): 100%|██████████| 2/2 [00:00<00:00,  4.23it/s]"
     ]
    },
    {
     "name": "stdout",
     "output_type": "stream",
     "text": [
      "                   all         60         64      0.833      0.858      0.881      0.507\n"
     ]
    },
    {
     "name": "stderr",
     "output_type": "stream",
     "text": [
      "\n"
     ]
    },
    {
     "name": "stdout",
     "output_type": "stream",
     "text": [
      "\n",
      "      Epoch    GPU_mem   box_loss   cls_loss   dfl_loss  Instances       Size\n"
     ]
    },
    {
     "name": "stderr",
     "output_type": "stream",
     "text": [
      "    175/462      17.3G     0.5827     0.3664     0.8856          3        640: 100%|██████████| 14/14 [00:04<00:00,  2.99it/s]\n",
      "                 Class     Images  Instances      Box(P          R      mAP50  mAP50-95): 100%|██████████| 2/2 [00:00<00:00,  4.80it/s]"
     ]
    },
    {
     "name": "stdout",
     "output_type": "stream",
     "text": [
      "                   all         60         64       0.85      0.844      0.877      0.532\n"
     ]
    },
    {
     "name": "stderr",
     "output_type": "stream",
     "text": [
      "\n"
     ]
    },
    {
     "name": "stdout",
     "output_type": "stream",
     "text": [
      "\n",
      "      Epoch    GPU_mem   box_loss   cls_loss   dfl_loss  Instances       Size\n"
     ]
    },
    {
     "name": "stderr",
     "output_type": "stream",
     "text": [
      "    176/462      17.5G     0.5825     0.3773     0.8813          8        640: 100%|██████████| 14/14 [00:04<00:00,  2.98it/s]\n",
      "                 Class     Images  Instances      Box(P          R      mAP50  mAP50-95): 100%|██████████| 2/2 [00:00<00:00,  4.81it/s]"
     ]
    },
    {
     "name": "stdout",
     "output_type": "stream",
     "text": [
      "                   all         60         64      0.894      0.828      0.842      0.475\n"
     ]
    },
    {
     "name": "stderr",
     "output_type": "stream",
     "text": [
      "\n"
     ]
    },
    {
     "name": "stdout",
     "output_type": "stream",
     "text": [
      "\n",
      "      Epoch    GPU_mem   box_loss   cls_loss   dfl_loss  Instances       Size\n"
     ]
    },
    {
     "name": "stderr",
     "output_type": "stream",
     "text": [
      "    177/462      17.3G     0.5831     0.3593     0.8931          6        640: 100%|██████████| 14/14 [00:04<00:00,  3.03it/s]\n",
      "                 Class     Images  Instances      Box(P          R      mAP50  mAP50-95): 100%|██████████| 2/2 [00:00<00:00,  4.79it/s]"
     ]
    },
    {
     "name": "stdout",
     "output_type": "stream",
     "text": [
      "                   all         60         64      0.876      0.797      0.831      0.485\n"
     ]
    },
    {
     "name": "stderr",
     "output_type": "stream",
     "text": [
      "\n"
     ]
    },
    {
     "name": "stdout",
     "output_type": "stream",
     "text": [
      "\n",
      "      Epoch    GPU_mem   box_loss   cls_loss   dfl_loss  Instances       Size\n"
     ]
    },
    {
     "name": "stderr",
     "output_type": "stream",
     "text": [
      "    178/462      17.5G     0.5132     0.3336     0.8497          6        640: 100%|██████████| 14/14 [00:04<00:00,  2.90it/s]\n",
      "                 Class     Images  Instances      Box(P          R      mAP50  mAP50-95): 100%|██████████| 2/2 [00:00<00:00,  4.80it/s]"
     ]
    },
    {
     "name": "stdout",
     "output_type": "stream",
     "text": [
      "                   all         60         64      0.891      0.781      0.852      0.504\n"
     ]
    },
    {
     "name": "stderr",
     "output_type": "stream",
     "text": [
      "\n"
     ]
    },
    {
     "name": "stdout",
     "output_type": "stream",
     "text": [
      "\n",
      "      Epoch    GPU_mem   box_loss   cls_loss   dfl_loss  Instances       Size\n"
     ]
    },
    {
     "name": "stderr",
     "output_type": "stream",
     "text": [
      "    179/462      17.3G     0.5522     0.3427     0.8878          3        640: 100%|██████████| 14/14 [00:04<00:00,  2.99it/s]\n",
      "                 Class     Images  Instances      Box(P          R      mAP50  mAP50-95): 100%|██████████| 2/2 [00:00<00:00,  4.80it/s]"
     ]
    },
    {
     "name": "stdout",
     "output_type": "stream",
     "text": [
      "                   all         60         64      0.829      0.832       0.84      0.479\n"
     ]
    },
    {
     "name": "stderr",
     "output_type": "stream",
     "text": [
      "\n"
     ]
    },
    {
     "name": "stdout",
     "output_type": "stream",
     "text": [
      "\n",
      "      Epoch    GPU_mem   box_loss   cls_loss   dfl_loss  Instances       Size\n"
     ]
    },
    {
     "name": "stderr",
     "output_type": "stream",
     "text": [
      "    180/462      17.6G     0.5542     0.3475     0.8739          4        640: 100%|██████████| 14/14 [00:04<00:00,  3.00it/s]\n",
      "                 Class     Images  Instances      Box(P          R      mAP50  mAP50-95): 100%|██████████| 2/2 [00:00<00:00,  4.82it/s]"
     ]
    },
    {
     "name": "stdout",
     "output_type": "stream",
     "text": [
      "                   all         60         64      0.845      0.797      0.827      0.499\n"
     ]
    },
    {
     "name": "stderr",
     "output_type": "stream",
     "text": [
      "\n"
     ]
    },
    {
     "name": "stdout",
     "output_type": "stream",
     "text": [
      "\n",
      "      Epoch    GPU_mem   box_loss   cls_loss   dfl_loss  Instances       Size\n"
     ]
    },
    {
     "name": "stderr",
     "output_type": "stream",
     "text": [
      "    181/462      17.3G     0.6278     0.3682     0.9211          3        640: 100%|██████████| 14/14 [00:04<00:00,  3.00it/s]\n",
      "                 Class     Images  Instances      Box(P          R      mAP50  mAP50-95): 100%|██████████| 2/2 [00:00<00:00,  4.78it/s]"
     ]
    },
    {
     "name": "stdout",
     "output_type": "stream",
     "text": [
      "                   all         60         64       0.88      0.812      0.834      0.485\n"
     ]
    },
    {
     "name": "stderr",
     "output_type": "stream",
     "text": [
      "\n"
     ]
    },
    {
     "name": "stdout",
     "output_type": "stream",
     "text": [
      "\n",
      "      Epoch    GPU_mem   box_loss   cls_loss   dfl_loss  Instances       Size\n"
     ]
    },
    {
     "name": "stderr",
     "output_type": "stream",
     "text": [
      "    182/462      17.5G     0.6023       0.37     0.9119          6        640: 100%|██████████| 14/14 [00:04<00:00,  3.01it/s]\n",
      "                 Class     Images  Instances      Box(P          R      mAP50  mAP50-95): 100%|██████████| 2/2 [00:00<00:00,  4.81it/s]"
     ]
    },
    {
     "name": "stdout",
     "output_type": "stream",
     "text": [
      "                   all         60         64      0.854      0.825      0.838      0.482\n"
     ]
    },
    {
     "name": "stderr",
     "output_type": "stream",
     "text": [
      "\n"
     ]
    },
    {
     "name": "stdout",
     "output_type": "stream",
     "text": [
      "\n",
      "      Epoch    GPU_mem   box_loss   cls_loss   dfl_loss  Instances       Size\n"
     ]
    },
    {
     "name": "stderr",
     "output_type": "stream",
     "text": [
      "    183/462      17.3G     0.5787     0.3543     0.8758          4        640: 100%|██████████| 14/14 [00:04<00:00,  3.04it/s]\n",
      "                 Class     Images  Instances      Box(P          R      mAP50  mAP50-95): 100%|██████████| 2/2 [00:00<00:00,  4.82it/s]"
     ]
    },
    {
     "name": "stdout",
     "output_type": "stream",
     "text": [
      "                   all         60         64      0.881      0.812      0.852      0.511\n"
     ]
    },
    {
     "name": "stderr",
     "output_type": "stream",
     "text": [
      "\n"
     ]
    },
    {
     "name": "stdout",
     "output_type": "stream",
     "text": [
      "\n",
      "      Epoch    GPU_mem   box_loss   cls_loss   dfl_loss  Instances       Size\n"
     ]
    },
    {
     "name": "stderr",
     "output_type": "stream",
     "text": [
      "    184/462      17.5G      0.538     0.3467     0.8756          3        640: 100%|██████████| 14/14 [00:04<00:00,  2.92it/s]\n",
      "                 Class     Images  Instances      Box(P          R      mAP50  mAP50-95): 100%|██████████| 2/2 [00:00<00:00,  4.81it/s]"
     ]
    },
    {
     "name": "stdout",
     "output_type": "stream",
     "text": [
      "                   all         60         64      0.879      0.828      0.844      0.492\n"
     ]
    },
    {
     "name": "stderr",
     "output_type": "stream",
     "text": [
      "\n"
     ]
    },
    {
     "name": "stdout",
     "output_type": "stream",
     "text": [
      "\n",
      "      Epoch    GPU_mem   box_loss   cls_loss   dfl_loss  Instances       Size\n"
     ]
    },
    {
     "name": "stderr",
     "output_type": "stream",
     "text": [
      "    185/462      17.3G     0.5601     0.3662     0.8928          7        640: 100%|██████████| 14/14 [00:04<00:00,  2.88it/s]\n",
      "                 Class     Images  Instances      Box(P          R      mAP50  mAP50-95): 100%|██████████| 2/2 [00:00<00:00,  4.80it/s]"
     ]
    },
    {
     "name": "stdout",
     "output_type": "stream",
     "text": [
      "                   all         60         64      0.881       0.81      0.832       0.51\n"
     ]
    },
    {
     "name": "stderr",
     "output_type": "stream",
     "text": [
      "\n"
     ]
    },
    {
     "name": "stdout",
     "output_type": "stream",
     "text": [
      "\n",
      "      Epoch    GPU_mem   box_loss   cls_loss   dfl_loss  Instances       Size\n"
     ]
    },
    {
     "name": "stderr",
     "output_type": "stream",
     "text": [
      "    186/462      17.5G     0.5493      0.337     0.8815          5        640: 100%|██████████| 14/14 [00:04<00:00,  2.99it/s]\n",
      "                 Class     Images  Instances      Box(P          R      mAP50  mAP50-95): 100%|██████████| 2/2 [00:00<00:00,  4.05it/s]"
     ]
    },
    {
     "name": "stdout",
     "output_type": "stream",
     "text": [
      "                   all         60         64       0.83      0.781      0.833      0.508\n"
     ]
    },
    {
     "name": "stderr",
     "output_type": "stream",
     "text": [
      "\n"
     ]
    },
    {
     "name": "stdout",
     "output_type": "stream",
     "text": [
      "\n",
      "      Epoch    GPU_mem   box_loss   cls_loss   dfl_loss  Instances       Size\n"
     ]
    },
    {
     "name": "stderr",
     "output_type": "stream",
     "text": [
      "    187/462      17.3G     0.5363     0.3326     0.8768          3        640: 100%|██████████| 14/14 [00:04<00:00,  2.99it/s]\n",
      "                 Class     Images  Instances      Box(P          R      mAP50  mAP50-95): 100%|██████████| 2/2 [00:00<00:00,  4.81it/s]"
     ]
    },
    {
     "name": "stdout",
     "output_type": "stream",
     "text": [
      "                   all         60         64      0.893      0.812      0.866      0.481\n"
     ]
    },
    {
     "name": "stderr",
     "output_type": "stream",
     "text": [
      "\n"
     ]
    },
    {
     "name": "stdout",
     "output_type": "stream",
     "text": [
      "\n",
      "      Epoch    GPU_mem   box_loss   cls_loss   dfl_loss  Instances       Size\n"
     ]
    },
    {
     "name": "stderr",
     "output_type": "stream",
     "text": [
      "    188/462      17.6G      0.572     0.3545     0.8995          4        640: 100%|██████████| 14/14 [00:04<00:00,  3.01it/s]\n",
      "                 Class     Images  Instances      Box(P          R      mAP50  mAP50-95): 100%|██████████| 2/2 [00:00<00:00,  4.81it/s]"
     ]
    },
    {
     "name": "stdout",
     "output_type": "stream",
     "text": [
      "                   all         60         64      0.825      0.812      0.847      0.497\n"
     ]
    },
    {
     "name": "stderr",
     "output_type": "stream",
     "text": [
      "\n"
     ]
    },
    {
     "name": "stdout",
     "output_type": "stream",
     "text": [
      "\n",
      "      Epoch    GPU_mem   box_loss   cls_loss   dfl_loss  Instances       Size\n"
     ]
    },
    {
     "name": "stderr",
     "output_type": "stream",
     "text": [
      "    189/462      17.3G     0.5313      0.362     0.8863          5        640: 100%|██████████| 14/14 [00:04<00:00,  3.04it/s]\n",
      "                 Class     Images  Instances      Box(P          R      mAP50  mAP50-95): 100%|██████████| 2/2 [00:00<00:00,  4.81it/s]"
     ]
    },
    {
     "name": "stdout",
     "output_type": "stream",
     "text": [
      "                   all         60         64      0.868      0.824      0.876      0.508\n"
     ]
    },
    {
     "name": "stderr",
     "output_type": "stream",
     "text": [
      "\n"
     ]
    },
    {
     "name": "stdout",
     "output_type": "stream",
     "text": [
      "\n",
      "      Epoch    GPU_mem   box_loss   cls_loss   dfl_loss  Instances       Size\n"
     ]
    },
    {
     "name": "stderr",
     "output_type": "stream",
     "text": [
      "    190/462      17.5G      0.551     0.3446     0.8823          5        640: 100%|██████████| 14/14 [00:04<00:00,  2.91it/s]\n",
      "                 Class     Images  Instances      Box(P          R      mAP50  mAP50-95): 100%|██████████| 2/2 [00:00<00:00,  4.80it/s]"
     ]
    },
    {
     "name": "stdout",
     "output_type": "stream",
     "text": [
      "                   all         60         64      0.823       0.87      0.866      0.505\n"
     ]
    },
    {
     "name": "stderr",
     "output_type": "stream",
     "text": [
      "\n"
     ]
    },
    {
     "name": "stdout",
     "output_type": "stream",
     "text": [
      "\n",
      "      Epoch    GPU_mem   box_loss   cls_loss   dfl_loss  Instances       Size\n"
     ]
    },
    {
     "name": "stderr",
     "output_type": "stream",
     "text": [
      "    191/462      17.3G     0.5599     0.3517     0.8877          3        640: 100%|██████████| 14/14 [00:04<00:00,  2.92it/s]\n",
      "                 Class     Images  Instances      Box(P          R      mAP50  mAP50-95): 100%|██████████| 2/2 [00:00<00:00,  4.80it/s]"
     ]
    },
    {
     "name": "stdout",
     "output_type": "stream",
     "text": [
      "                   all         60         64      0.828      0.766       0.84      0.498\n"
     ]
    },
    {
     "name": "stderr",
     "output_type": "stream",
     "text": [
      "\n"
     ]
    },
    {
     "name": "stdout",
     "output_type": "stream",
     "text": [
      "\n",
      "      Epoch    GPU_mem   box_loss   cls_loss   dfl_loss  Instances       Size\n"
     ]
    },
    {
     "name": "stderr",
     "output_type": "stream",
     "text": [
      "    192/462      17.6G     0.5467     0.3354      0.889          3        640: 100%|██████████| 14/14 [00:04<00:00,  2.89it/s]\n",
      "                 Class     Images  Instances      Box(P          R      mAP50  mAP50-95): 100%|██████████| 2/2 [00:00<00:00,  4.80it/s]"
     ]
    },
    {
     "name": "stdout",
     "output_type": "stream",
     "text": [
      "                   all         60         64      0.811       0.75      0.821      0.493\n"
     ]
    },
    {
     "name": "stderr",
     "output_type": "stream",
     "text": [
      "\n"
     ]
    },
    {
     "name": "stdout",
     "output_type": "stream",
     "text": [
      "\n",
      "      Epoch    GPU_mem   box_loss   cls_loss   dfl_loss  Instances       Size\n"
     ]
    },
    {
     "name": "stderr",
     "output_type": "stream",
     "text": [
      "    193/462      17.3G     0.5372     0.3569     0.8731          2        640: 100%|██████████| 14/14 [00:04<00:00,  2.92it/s]\n",
      "                 Class     Images  Instances      Box(P          R      mAP50  mAP50-95): 100%|██████████| 2/2 [00:00<00:00,  4.79it/s]"
     ]
    },
    {
     "name": "stdout",
     "output_type": "stream",
     "text": [
      "                   all         60         64      0.905      0.744      0.847       0.51\n"
     ]
    },
    {
     "name": "stderr",
     "output_type": "stream",
     "text": [
      "\n"
     ]
    },
    {
     "name": "stdout",
     "output_type": "stream",
     "text": [
      "\n",
      "      Epoch    GPU_mem   box_loss   cls_loss   dfl_loss  Instances       Size\n"
     ]
    },
    {
     "name": "stderr",
     "output_type": "stream",
     "text": [
      "    194/462      17.5G     0.5785     0.3526     0.8868          8        640: 100%|██████████| 14/14 [00:04<00:00,  2.98it/s]\n",
      "                 Class     Images  Instances      Box(P          R      mAP50  mAP50-95): 100%|██████████| 2/2 [00:00<00:00,  3.83it/s]"
     ]
    },
    {
     "name": "stdout",
     "output_type": "stream",
     "text": [
      "                   all         60         64      0.845      0.767      0.858      0.494\n"
     ]
    },
    {
     "name": "stderr",
     "output_type": "stream",
     "text": [
      "\n"
     ]
    },
    {
     "name": "stdout",
     "output_type": "stream",
     "text": [
      "\n",
      "      Epoch    GPU_mem   box_loss   cls_loss   dfl_loss  Instances       Size\n"
     ]
    },
    {
     "name": "stderr",
     "output_type": "stream",
     "text": [
      "    195/462      17.3G     0.5648     0.3471     0.8748          5        640: 100%|██████████| 14/14 [00:04<00:00,  2.98it/s]\n",
      "                 Class     Images  Instances      Box(P          R      mAP50  mAP50-95): 100%|██████████| 2/2 [00:00<00:00,  3.81it/s]"
     ]
    },
    {
     "name": "stdout",
     "output_type": "stream",
     "text": [
      "                   all         60         64      0.896      0.806      0.866      0.506\n"
     ]
    },
    {
     "name": "stderr",
     "output_type": "stream",
     "text": [
      "\n"
     ]
    },
    {
     "name": "stdout",
     "output_type": "stream",
     "text": [
      "\n",
      "      Epoch    GPU_mem   box_loss   cls_loss   dfl_loss  Instances       Size\n"
     ]
    },
    {
     "name": "stderr",
     "output_type": "stream",
     "text": [
      "    196/462      17.6G     0.5743     0.3507     0.8746          6        640: 100%|██████████| 14/14 [00:04<00:00,  2.98it/s]\n",
      "                 Class     Images  Instances      Box(P          R      mAP50  mAP50-95): 100%|██████████| 2/2 [00:00<00:00,  4.80it/s]"
     ]
    },
    {
     "name": "stdout",
     "output_type": "stream",
     "text": [
      "                   all         60         64      0.883      0.859      0.869       0.51\n"
     ]
    },
    {
     "name": "stderr",
     "output_type": "stream",
     "text": [
      "\n"
     ]
    },
    {
     "name": "stdout",
     "output_type": "stream",
     "text": [
      "\n",
      "      Epoch    GPU_mem   box_loss   cls_loss   dfl_loss  Instances       Size\n"
     ]
    },
    {
     "name": "stderr",
     "output_type": "stream",
     "text": [
      "    197/462      17.3G     0.5879     0.3531      0.893          7        640: 100%|██████████| 14/14 [00:04<00:00,  3.03it/s]\n",
      "                 Class     Images  Instances      Box(P          R      mAP50  mAP50-95): 100%|██████████| 2/2 [00:00<00:00,  4.80it/s]"
     ]
    },
    {
     "name": "stdout",
     "output_type": "stream",
     "text": [
      "                   all         60         64      0.858      0.849      0.874      0.513\n"
     ]
    },
    {
     "name": "stderr",
     "output_type": "stream",
     "text": [
      "\n"
     ]
    },
    {
     "name": "stdout",
     "output_type": "stream",
     "text": [
      "\n",
      "      Epoch    GPU_mem   box_loss   cls_loss   dfl_loss  Instances       Size\n"
     ]
    },
    {
     "name": "stderr",
     "output_type": "stream",
     "text": [
      "    198/462      17.6G     0.5606     0.3963     0.8849          3        640: 100%|██████████| 14/14 [00:04<00:00,  2.89it/s]\n",
      "                 Class     Images  Instances      Box(P          R      mAP50  mAP50-95): 100%|██████████| 2/2 [00:00<00:00,  4.80it/s]"
     ]
    },
    {
     "name": "stdout",
     "output_type": "stream",
     "text": [
      "                   all         60         64      0.881      0.734      0.825      0.501\n"
     ]
    },
    {
     "name": "stderr",
     "output_type": "stream",
     "text": [
      "\n"
     ]
    },
    {
     "name": "stdout",
     "output_type": "stream",
     "text": [
      "\n",
      "      Epoch    GPU_mem   box_loss   cls_loss   dfl_loss  Instances       Size\n"
     ]
    },
    {
     "name": "stderr",
     "output_type": "stream",
     "text": [
      "    199/462      17.3G     0.5609     0.3756     0.8832          3        640: 100%|██████████| 14/14 [00:04<00:00,  2.93it/s]\n",
      "                 Class     Images  Instances      Box(P          R      mAP50  mAP50-95): 100%|██████████| 2/2 [00:00<00:00,  4.79it/s]"
     ]
    },
    {
     "name": "stdout",
     "output_type": "stream",
     "text": [
      "                   all         60         64      0.916      0.688      0.802       0.44\n"
     ]
    },
    {
     "name": "stderr",
     "output_type": "stream",
     "text": [
      "\n"
     ]
    },
    {
     "name": "stdout",
     "output_type": "stream",
     "text": [
      "\n",
      "      Epoch    GPU_mem   box_loss   cls_loss   dfl_loss  Instances       Size\n"
     ]
    },
    {
     "name": "stderr",
     "output_type": "stream",
     "text": [
      "    200/462      17.5G     0.5476     0.3454      0.873          4        640: 100%|██████████| 14/14 [00:04<00:00,  2.99it/s]\n",
      "                 Class     Images  Instances      Box(P          R      mAP50  mAP50-95): 100%|██████████| 2/2 [00:00<00:00,  3.83it/s]"
     ]
    },
    {
     "name": "stdout",
     "output_type": "stream",
     "text": [
      "                   all         60         64      0.888      0.734      0.836      0.457\n"
     ]
    },
    {
     "name": "stderr",
     "output_type": "stream",
     "text": [
      "\n"
     ]
    },
    {
     "name": "stdout",
     "output_type": "stream",
     "text": [
      "\n",
      "      Epoch    GPU_mem   box_loss   cls_loss   dfl_loss  Instances       Size\n"
     ]
    },
    {
     "name": "stderr",
     "output_type": "stream",
     "text": [
      "    201/462      17.3G     0.5547     0.3352     0.8772          4        640: 100%|██████████| 14/14 [00:04<00:00,  3.00it/s]\n",
      "                 Class     Images  Instances      Box(P          R      mAP50  mAP50-95): 100%|██████████| 2/2 [00:00<00:00,  3.89it/s]"
     ]
    },
    {
     "name": "stdout",
     "output_type": "stream",
     "text": [
      "                   all         60         64      0.858      0.781      0.823       0.47\n"
     ]
    },
    {
     "name": "stderr",
     "output_type": "stream",
     "text": [
      "\n"
     ]
    },
    {
     "name": "stdout",
     "output_type": "stream",
     "text": [
      "\n",
      "      Epoch    GPU_mem   box_loss   cls_loss   dfl_loss  Instances       Size\n"
     ]
    },
    {
     "name": "stderr",
     "output_type": "stream",
     "text": [
      "    202/462      17.5G     0.5361      0.344     0.8612         35        640:  71%|███████▏  | 10/14 [00:03<00:01,  2.65it/s]\n"
     ]
    },
    {
     "ename": "KeyboardInterrupt",
     "evalue": "",
     "output_type": "error",
     "traceback": [
      "\u001b[0;31m---------------------------------------------------------------------------\u001b[0m",
      "\u001b[0;31mKeyboardInterrupt\u001b[0m                         Traceback (most recent call last)",
      "Cell \u001b[0;32mIn[9], line 1\u001b[0m\n\u001b[0;32m----> 1\u001b[0m Train_result \u001b[38;5;241m=\u001b[39m model\u001b[38;5;241m.\u001b[39mtrain(data\u001b[38;5;241m=\u001b[39m\u001b[38;5;124m\"\u001b[39m\u001b[38;5;124mcustom_data.yaml\u001b[39m\u001b[38;5;124m\"\u001b[39m, epochs\u001b[38;5;241m=\u001b[39m\u001b[38;5;241m100\u001b[39m, batch\u001b[38;5;241m=\u001b[39m\u001b[38;5;241m16\u001b[39m, plots \u001b[38;5;241m=\u001b[39m \u001b[38;5;28;01mTrue\u001b[39;00m, time\u001b[38;5;241m=\u001b[39m\u001b[38;5;28;01mTrue\u001b[39;00m, save\u001b[38;5;241m=\u001b[39m\u001b[38;5;28;01mTrue\u001b[39;00m)\n",
      "File \u001b[0;32m/opt/conda/lib/python3.11/site-packages/ultralytics/engine/model.py:805\u001b[0m, in \u001b[0;36mModel.train\u001b[0;34m(self, trainer, **kwargs)\u001b[0m\n\u001b[1;32m    802\u001b[0m     \u001b[38;5;28mself\u001b[39m\u001b[38;5;241m.\u001b[39mmodel \u001b[38;5;241m=\u001b[39m \u001b[38;5;28mself\u001b[39m\u001b[38;5;241m.\u001b[39mtrainer\u001b[38;5;241m.\u001b[39mmodel\n\u001b[1;32m    804\u001b[0m \u001b[38;5;28mself\u001b[39m\u001b[38;5;241m.\u001b[39mtrainer\u001b[38;5;241m.\u001b[39mhub_session \u001b[38;5;241m=\u001b[39m \u001b[38;5;28mself\u001b[39m\u001b[38;5;241m.\u001b[39msession  \u001b[38;5;66;03m# attach optional HUB session\u001b[39;00m\n\u001b[0;32m--> 805\u001b[0m \u001b[38;5;28mself\u001b[39m\u001b[38;5;241m.\u001b[39mtrainer\u001b[38;5;241m.\u001b[39mtrain()\n\u001b[1;32m    806\u001b[0m \u001b[38;5;66;03m# Update model and cfg after training\u001b[39;00m\n\u001b[1;32m    807\u001b[0m \u001b[38;5;28;01mif\u001b[39;00m RANK \u001b[38;5;129;01min\u001b[39;00m {\u001b[38;5;241m-\u001b[39m\u001b[38;5;241m1\u001b[39m, \u001b[38;5;241m0\u001b[39m}:\n",
      "File \u001b[0;32m/opt/conda/lib/python3.11/site-packages/ultralytics/engine/trainer.py:207\u001b[0m, in \u001b[0;36mBaseTrainer.train\u001b[0;34m(self)\u001b[0m\n\u001b[1;32m    204\u001b[0m         ddp_cleanup(\u001b[38;5;28mself\u001b[39m, \u001b[38;5;28mstr\u001b[39m(file))\n\u001b[1;32m    206\u001b[0m \u001b[38;5;28;01melse\u001b[39;00m:\n\u001b[0;32m--> 207\u001b[0m     \u001b[38;5;28mself\u001b[39m\u001b[38;5;241m.\u001b[39m_do_train(world_size)\n",
      "File \u001b[0;32m/opt/conda/lib/python3.11/site-packages/ultralytics/engine/trainer.py:388\u001b[0m, in \u001b[0;36mBaseTrainer._do_train\u001b[0;34m(self, world_size)\u001b[0m\n\u001b[1;32m    383\u001b[0m     \u001b[38;5;28mself\u001b[39m\u001b[38;5;241m.\u001b[39mtloss \u001b[38;5;241m=\u001b[39m (\n\u001b[1;32m    384\u001b[0m         (\u001b[38;5;28mself\u001b[39m\u001b[38;5;241m.\u001b[39mtloss \u001b[38;5;241m*\u001b[39m i \u001b[38;5;241m+\u001b[39m \u001b[38;5;28mself\u001b[39m\u001b[38;5;241m.\u001b[39mloss_items) \u001b[38;5;241m/\u001b[39m (i \u001b[38;5;241m+\u001b[39m \u001b[38;5;241m1\u001b[39m) \u001b[38;5;28;01mif\u001b[39;00m \u001b[38;5;28mself\u001b[39m\u001b[38;5;241m.\u001b[39mtloss \u001b[38;5;129;01mis\u001b[39;00m \u001b[38;5;129;01mnot\u001b[39;00m \u001b[38;5;28;01mNone\u001b[39;00m \u001b[38;5;28;01melse\u001b[39;00m \u001b[38;5;28mself\u001b[39m\u001b[38;5;241m.\u001b[39mloss_items\n\u001b[1;32m    385\u001b[0m     )\n\u001b[1;32m    387\u001b[0m \u001b[38;5;66;03m# Backward\u001b[39;00m\n\u001b[0;32m--> 388\u001b[0m \u001b[38;5;28mself\u001b[39m\u001b[38;5;241m.\u001b[39mscaler\u001b[38;5;241m.\u001b[39mscale(\u001b[38;5;28mself\u001b[39m\u001b[38;5;241m.\u001b[39mloss)\u001b[38;5;241m.\u001b[39mbackward()\n\u001b[1;32m    390\u001b[0m \u001b[38;5;66;03m# Optimize - https://pytorch.org/docs/master/notes/amp_examples.html\u001b[39;00m\n\u001b[1;32m    391\u001b[0m \u001b[38;5;28;01mif\u001b[39;00m ni \u001b[38;5;241m-\u001b[39m last_opt_step \u001b[38;5;241m>\u001b[39m\u001b[38;5;241m=\u001b[39m \u001b[38;5;28mself\u001b[39m\u001b[38;5;241m.\u001b[39maccumulate:\n",
      "File \u001b[0;32m/opt/conda/lib/python3.11/site-packages/torch/_tensor.py:521\u001b[0m, in \u001b[0;36mTensor.backward\u001b[0;34m(self, gradient, retain_graph, create_graph, inputs)\u001b[0m\n\u001b[1;32m    511\u001b[0m \u001b[38;5;28;01mif\u001b[39;00m has_torch_function_unary(\u001b[38;5;28mself\u001b[39m):\n\u001b[1;32m    512\u001b[0m     \u001b[38;5;28;01mreturn\u001b[39;00m handle_torch_function(\n\u001b[1;32m    513\u001b[0m         Tensor\u001b[38;5;241m.\u001b[39mbackward,\n\u001b[1;32m    514\u001b[0m         (\u001b[38;5;28mself\u001b[39m,),\n\u001b[0;32m   (...)\u001b[0m\n\u001b[1;32m    519\u001b[0m         inputs\u001b[38;5;241m=\u001b[39minputs,\n\u001b[1;32m    520\u001b[0m     )\n\u001b[0;32m--> 521\u001b[0m torch\u001b[38;5;241m.\u001b[39mautograd\u001b[38;5;241m.\u001b[39mbackward(\n\u001b[1;32m    522\u001b[0m     \u001b[38;5;28mself\u001b[39m, gradient, retain_graph, create_graph, inputs\u001b[38;5;241m=\u001b[39minputs\n\u001b[1;32m    523\u001b[0m )\n",
      "File \u001b[0;32m/opt/conda/lib/python3.11/site-packages/torch/autograd/__init__.py:289\u001b[0m, in \u001b[0;36mbackward\u001b[0;34m(tensors, grad_tensors, retain_graph, create_graph, grad_variables, inputs)\u001b[0m\n\u001b[1;32m    284\u001b[0m     retain_graph \u001b[38;5;241m=\u001b[39m create_graph\n\u001b[1;32m    286\u001b[0m \u001b[38;5;66;03m# The reason we repeat the same comment below is that\u001b[39;00m\n\u001b[1;32m    287\u001b[0m \u001b[38;5;66;03m# some Python versions print out the first line of a multi-line function\u001b[39;00m\n\u001b[1;32m    288\u001b[0m \u001b[38;5;66;03m# calls in the traceback and some print out the last line\u001b[39;00m\n\u001b[0;32m--> 289\u001b[0m _engine_run_backward(\n\u001b[1;32m    290\u001b[0m     tensors,\n\u001b[1;32m    291\u001b[0m     grad_tensors_,\n\u001b[1;32m    292\u001b[0m     retain_graph,\n\u001b[1;32m    293\u001b[0m     create_graph,\n\u001b[1;32m    294\u001b[0m     inputs,\n\u001b[1;32m    295\u001b[0m     allow_unreachable\u001b[38;5;241m=\u001b[39m\u001b[38;5;28;01mTrue\u001b[39;00m,\n\u001b[1;32m    296\u001b[0m     accumulate_grad\u001b[38;5;241m=\u001b[39m\u001b[38;5;28;01mTrue\u001b[39;00m,\n\u001b[1;32m    297\u001b[0m )\n",
      "File \u001b[0;32m/opt/conda/lib/python3.11/site-packages/torch/autograd/graph.py:768\u001b[0m, in \u001b[0;36m_engine_run_backward\u001b[0;34m(t_outputs, *args, **kwargs)\u001b[0m\n\u001b[1;32m    766\u001b[0m     unregister_hooks \u001b[38;5;241m=\u001b[39m _register_logging_hooks_on_whole_graph(t_outputs)\n\u001b[1;32m    767\u001b[0m \u001b[38;5;28;01mtry\u001b[39;00m:\n\u001b[0;32m--> 768\u001b[0m     \u001b[38;5;28;01mreturn\u001b[39;00m Variable\u001b[38;5;241m.\u001b[39m_execution_engine\u001b[38;5;241m.\u001b[39mrun_backward(  \u001b[38;5;66;03m# Calls into the C++ engine to run the backward pass\u001b[39;00m\n\u001b[1;32m    769\u001b[0m         t_outputs, \u001b[38;5;241m*\u001b[39margs, \u001b[38;5;241m*\u001b[39m\u001b[38;5;241m*\u001b[39mkwargs\n\u001b[1;32m    770\u001b[0m     )  \u001b[38;5;66;03m# Calls into the C++ engine to run the backward pass\u001b[39;00m\n\u001b[1;32m    771\u001b[0m \u001b[38;5;28;01mfinally\u001b[39;00m:\n\u001b[1;32m    772\u001b[0m     \u001b[38;5;28;01mif\u001b[39;00m attach_logging_hooks:\n",
      "\u001b[0;31mKeyboardInterrupt\u001b[0m: "
     ]
    }
   ],
   "source": [
    "Train_result = model.train(data=\"custom_data.yaml\", epochs=100, batch=16, plots = True, time=True, save=True)"
   ]
  },
  {
   "cell_type": "markdown",
   "id": "b2471f8c-8d42-4d64-a04a-6d313d6eedf4",
   "metadata": {},
   "source": [
    "# Load pretrained Inference"
   ]
  },
  {
   "cell_type": "code",
   "execution_count": 10,
   "id": "d0110c25-74a8-43e6-a462-115a5459cd56",
   "metadata": {},
   "outputs": [],
   "source": [
    "trained_model = YOLO(\"runs/detect/train/weights/best.pt\")  # load a custom best model\n"
   ]
  },
  {
   "cell_type": "code",
   "execution_count": 11,
   "id": "ae6c228d",
   "metadata": {},
   "outputs": [
    {
     "name": "stdout",
     "output_type": "stream",
     "text": [
      "\n",
      "image 1/1 /home/workspace/yolo/YOLOv10-Custom-Object-Detection/test_images_1/veh2.jpg: 512x640 3 licences, 43.7ms\n",
      "Speed: 1.0ms preprocess, 43.7ms inference, 0.8ms postprocess per image at shape (1, 3, 512, 640)\n",
      "Results saved to \u001b[1mruns/detect/predict2\u001b[0m\n"
     ]
    }
   ],
   "source": [
    "result = trained_model.predict(source=\"./test_images_1/veh2.jpg\", conf=0.25, save=True)"
   ]
  },
  {
   "cell_type": "markdown",
   "id": "2fbb61c9-ade6-4bf8-8a14-08ee695f0cf8",
   "metadata": {},
   "source": [
    "# Inference on Video"
   ]
  },
  {
   "cell_type": "code",
   "execution_count": 12,
   "id": "d050627d",
   "metadata": {},
   "outputs": [
    {
     "name": "stdout",
     "output_type": "stream",
     "text": [
      "\n",
      "\n",
      "WARNING ⚠️ inference results will accumulate in RAM unless `stream=True` is passed, causing potential out-of-memory\n",
      "errors for large sources or long-running streams and videos. See https://docs.ultralytics.com/modes/predict/ for help.\n",
      "\n",
      "Example:\n",
      "    results = model(source=..., stream=True)  # generator of Results objects\n",
      "    for r in results:\n",
      "        boxes = r.boxes  # Boxes object for bbox outputs\n",
      "        masks = r.masks  # Masks object for segment masks outputs\n",
      "        probs = r.probs  # Class probabilities for classification outputs\n",
      "\n",
      "video 1/1 (frame 1/348) /home/workspace/yolo/YOLOv10-Custom-Object-Detection/b.mp4: 384x640 4 licences, 47.2ms\n",
      "video 1/1 (frame 2/348) /home/workspace/yolo/YOLOv10-Custom-Object-Detection/b.mp4: 384x640 4 licences, 10.7ms\n",
      "video 1/1 (frame 3/348) /home/workspace/yolo/YOLOv10-Custom-Object-Detection/b.mp4: 384x640 3 licences, 10.6ms\n",
      "video 1/1 (frame 4/348) /home/workspace/yolo/YOLOv10-Custom-Object-Detection/b.mp4: 384x640 7 licences, 10.2ms\n",
      "video 1/1 (frame 5/348) /home/workspace/yolo/YOLOv10-Custom-Object-Detection/b.mp4: 384x640 5 licences, 10.4ms\n",
      "video 1/1 (frame 6/348) /home/workspace/yolo/YOLOv10-Custom-Object-Detection/b.mp4: 384x640 3 licences, 10.4ms\n",
      "video 1/1 (frame 7/348) /home/workspace/yolo/YOLOv10-Custom-Object-Detection/b.mp4: 384x640 3 licences, 10.5ms\n",
      "video 1/1 (frame 8/348) /home/workspace/yolo/YOLOv10-Custom-Object-Detection/b.mp4: 384x640 3 licences, 10.2ms\n",
      "video 1/1 (frame 9/348) /home/workspace/yolo/YOLOv10-Custom-Object-Detection/b.mp4: 384x640 3 licences, 10.3ms\n",
      "video 1/1 (frame 10/348) /home/workspace/yolo/YOLOv10-Custom-Object-Detection/b.mp4: 384x640 5 licences, 10.8ms\n",
      "video 1/1 (frame 11/348) /home/workspace/yolo/YOLOv10-Custom-Object-Detection/b.mp4: 384x640 4 licences, 11.7ms\n",
      "video 1/1 (frame 12/348) /home/workspace/yolo/YOLOv10-Custom-Object-Detection/b.mp4: 384x640 4 licences, 10.5ms\n",
      "video 1/1 (frame 13/348) /home/workspace/yolo/YOLOv10-Custom-Object-Detection/b.mp4: 384x640 3 licences, 10.4ms\n",
      "video 1/1 (frame 14/348) /home/workspace/yolo/YOLOv10-Custom-Object-Detection/b.mp4: 384x640 3 licences, 10.4ms\n",
      "video 1/1 (frame 15/348) /home/workspace/yolo/YOLOv10-Custom-Object-Detection/b.mp4: 384x640 3 licences, 10.3ms\n",
      "video 1/1 (frame 16/348) /home/workspace/yolo/YOLOv10-Custom-Object-Detection/b.mp4: 384x640 3 licences, 10.2ms\n",
      "video 1/1 (frame 17/348) /home/workspace/yolo/YOLOv10-Custom-Object-Detection/b.mp4: 384x640 3 licences, 10.5ms\n",
      "video 1/1 (frame 18/348) /home/workspace/yolo/YOLOv10-Custom-Object-Detection/b.mp4: 384x640 4 licences, 10.1ms\n",
      "video 1/1 (frame 19/348) /home/workspace/yolo/YOLOv10-Custom-Object-Detection/b.mp4: 384x640 3 licences, 10.2ms\n",
      "video 1/1 (frame 20/348) /home/workspace/yolo/YOLOv10-Custom-Object-Detection/b.mp4: 384x640 3 licences, 10.1ms\n",
      "video 1/1 (frame 21/348) /home/workspace/yolo/YOLOv10-Custom-Object-Detection/b.mp4: 384x640 4 licences, 10.0ms\n",
      "video 1/1 (frame 22/348) /home/workspace/yolo/YOLOv10-Custom-Object-Detection/b.mp4: 384x640 3 licences, 10.1ms\n",
      "video 1/1 (frame 23/348) /home/workspace/yolo/YOLOv10-Custom-Object-Detection/b.mp4: 384x640 4 licences, 10.0ms\n",
      "video 1/1 (frame 24/348) /home/workspace/yolo/YOLOv10-Custom-Object-Detection/b.mp4: 384x640 5 licences, 10.1ms\n",
      "video 1/1 (frame 25/348) /home/workspace/yolo/YOLOv10-Custom-Object-Detection/b.mp4: 384x640 4 licences, 10.4ms\n",
      "video 1/1 (frame 26/348) /home/workspace/yolo/YOLOv10-Custom-Object-Detection/b.mp4: 384x640 4 licences, 10.0ms\n",
      "video 1/1 (frame 27/348) /home/workspace/yolo/YOLOv10-Custom-Object-Detection/b.mp4: 384x640 5 licences, 9.9ms\n",
      "video 1/1 (frame 28/348) /home/workspace/yolo/YOLOv10-Custom-Object-Detection/b.mp4: 384x640 5 licences, 10.1ms\n",
      "video 1/1 (frame 29/348) /home/workspace/yolo/YOLOv10-Custom-Object-Detection/b.mp4: 384x640 4 licences, 10.3ms\n",
      "video 1/1 (frame 30/348) /home/workspace/yolo/YOLOv10-Custom-Object-Detection/b.mp4: 384x640 5 licences, 10.1ms\n",
      "video 1/1 (frame 31/348) /home/workspace/yolo/YOLOv10-Custom-Object-Detection/b.mp4: 384x640 3 licences, 10.1ms\n",
      "video 1/1 (frame 32/348) /home/workspace/yolo/YOLOv10-Custom-Object-Detection/b.mp4: 384x640 4 licences, 10.1ms\n",
      "video 1/1 (frame 33/348) /home/workspace/yolo/YOLOv10-Custom-Object-Detection/b.mp4: 384x640 4 licences, 10.1ms\n",
      "video 1/1 (frame 34/348) /home/workspace/yolo/YOLOv10-Custom-Object-Detection/b.mp4: 384x640 3 licences, 10.0ms\n",
      "video 1/1 (frame 35/348) /home/workspace/yolo/YOLOv10-Custom-Object-Detection/b.mp4: 384x640 5 licences, 10.1ms\n",
      "video 1/1 (frame 36/348) /home/workspace/yolo/YOLOv10-Custom-Object-Detection/b.mp4: 384x640 4 licences, 10.1ms\n",
      "video 1/1 (frame 37/348) /home/workspace/yolo/YOLOv10-Custom-Object-Detection/b.mp4: 384x640 4 licences, 10.2ms\n",
      "video 1/1 (frame 38/348) /home/workspace/yolo/YOLOv10-Custom-Object-Detection/b.mp4: 384x640 3 licences, 10.4ms\n",
      "video 1/1 (frame 39/348) /home/workspace/yolo/YOLOv10-Custom-Object-Detection/b.mp4: 384x640 4 licences, 10.2ms\n",
      "video 1/1 (frame 40/348) /home/workspace/yolo/YOLOv10-Custom-Object-Detection/b.mp4: 384x640 4 licences, 10.0ms\n",
      "video 1/1 (frame 41/348) /home/workspace/yolo/YOLOv10-Custom-Object-Detection/b.mp4: 384x640 4 licences, 10.1ms\n",
      "video 1/1 (frame 42/348) /home/workspace/yolo/YOLOv10-Custom-Object-Detection/b.mp4: 384x640 2 licences, 10.2ms\n",
      "video 1/1 (frame 43/348) /home/workspace/yolo/YOLOv10-Custom-Object-Detection/b.mp4: 384x640 3 licences, 10.1ms\n",
      "video 1/1 (frame 44/348) /home/workspace/yolo/YOLOv10-Custom-Object-Detection/b.mp4: 384x640 3 licences, 10.2ms\n",
      "video 1/1 (frame 45/348) /home/workspace/yolo/YOLOv10-Custom-Object-Detection/b.mp4: 384x640 6 licences, 10.1ms\n",
      "video 1/1 (frame 46/348) /home/workspace/yolo/YOLOv10-Custom-Object-Detection/b.mp4: 384x640 3 licences, 10.4ms\n",
      "video 1/1 (frame 47/348) /home/workspace/yolo/YOLOv10-Custom-Object-Detection/b.mp4: 384x640 4 licences, 10.0ms\n",
      "video 1/1 (frame 48/348) /home/workspace/yolo/YOLOv10-Custom-Object-Detection/b.mp4: 384x640 4 licences, 10.1ms\n",
      "video 1/1 (frame 49/348) /home/workspace/yolo/YOLOv10-Custom-Object-Detection/b.mp4: 384x640 3 licences, 10.3ms\n",
      "video 1/1 (frame 50/348) /home/workspace/yolo/YOLOv10-Custom-Object-Detection/b.mp4: 384x640 2 licences, 10.2ms\n",
      "video 1/1 (frame 51/348) /home/workspace/yolo/YOLOv10-Custom-Object-Detection/b.mp4: 384x640 3 licences, 10.1ms\n",
      "video 1/1 (frame 52/348) /home/workspace/yolo/YOLOv10-Custom-Object-Detection/b.mp4: 384x640 5 licences, 10.1ms\n",
      "video 1/1 (frame 53/348) /home/workspace/yolo/YOLOv10-Custom-Object-Detection/b.mp4: 384x640 4 licences, 10.1ms\n",
      "video 1/1 (frame 54/348) /home/workspace/yolo/YOLOv10-Custom-Object-Detection/b.mp4: 384x640 3 licences, 10.2ms\n",
      "video 1/1 (frame 55/348) /home/workspace/yolo/YOLOv10-Custom-Object-Detection/b.mp4: 384x640 4 licences, 10.0ms\n",
      "video 1/1 (frame 56/348) /home/workspace/yolo/YOLOv10-Custom-Object-Detection/b.mp4: 384x640 4 licences, 10.2ms\n",
      "video 1/1 (frame 57/348) /home/workspace/yolo/YOLOv10-Custom-Object-Detection/b.mp4: 384x640 4 licences, 10.1ms\n",
      "video 1/1 (frame 58/348) /home/workspace/yolo/YOLOv10-Custom-Object-Detection/b.mp4: 384x640 3 licences, 10.4ms\n",
      "video 1/1 (frame 59/348) /home/workspace/yolo/YOLOv10-Custom-Object-Detection/b.mp4: 384x640 4 licences, 10.2ms\n",
      "video 1/1 (frame 60/348) /home/workspace/yolo/YOLOv10-Custom-Object-Detection/b.mp4: 384x640 3 licences, 10.1ms\n",
      "video 1/1 (frame 61/348) /home/workspace/yolo/YOLOv10-Custom-Object-Detection/b.mp4: 384x640 1 licence, 10.2ms\n",
      "video 1/1 (frame 62/348) /home/workspace/yolo/YOLOv10-Custom-Object-Detection/b.mp4: 384x640 2 licences, 10.0ms\n",
      "video 1/1 (frame 63/348) /home/workspace/yolo/YOLOv10-Custom-Object-Detection/b.mp4: 384x640 3 licences, 10.1ms\n",
      "video 1/1 (frame 64/348) /home/workspace/yolo/YOLOv10-Custom-Object-Detection/b.mp4: 384x640 2 licences, 10.1ms\n",
      "video 1/1 (frame 65/348) /home/workspace/yolo/YOLOv10-Custom-Object-Detection/b.mp4: 384x640 2 licences, 10.1ms\n",
      "video 1/1 (frame 66/348) /home/workspace/yolo/YOLOv10-Custom-Object-Detection/b.mp4: 384x640 3 licences, 10.1ms\n",
      "video 1/1 (frame 67/348) /home/workspace/yolo/YOLOv10-Custom-Object-Detection/b.mp4: 384x640 1 licence, 10.0ms\n",
      "video 1/1 (frame 68/348) /home/workspace/yolo/YOLOv10-Custom-Object-Detection/b.mp4: 384x640 (no detections), 10.1ms\n",
      "video 1/1 (frame 69/348) /home/workspace/yolo/YOLOv10-Custom-Object-Detection/b.mp4: 384x640 (no detections), 10.1ms\n",
      "video 1/1 (frame 70/348) /home/workspace/yolo/YOLOv10-Custom-Object-Detection/b.mp4: 384x640 (no detections), 10.1ms\n",
      "video 1/1 (frame 71/348) /home/workspace/yolo/YOLOv10-Custom-Object-Detection/b.mp4: 384x640 1 licence, 10.2ms\n",
      "video 1/1 (frame 72/348) /home/workspace/yolo/YOLOv10-Custom-Object-Detection/b.mp4: 384x640 1 licence, 10.0ms\n",
      "video 1/1 (frame 73/348) /home/workspace/yolo/YOLOv10-Custom-Object-Detection/b.mp4: 384x640 1 licence, 10.0ms\n",
      "video 1/1 (frame 74/348) /home/workspace/yolo/YOLOv10-Custom-Object-Detection/b.mp4: 384x640 2 licences, 10.0ms\n",
      "video 1/1 (frame 75/348) /home/workspace/yolo/YOLOv10-Custom-Object-Detection/b.mp4: 384x640 1 licence, 10.1ms\n",
      "video 1/1 (frame 76/348) /home/workspace/yolo/YOLOv10-Custom-Object-Detection/b.mp4: 384x640 (no detections), 10.0ms\n",
      "video 1/1 (frame 77/348) /home/workspace/yolo/YOLOv10-Custom-Object-Detection/b.mp4: 384x640 (no detections), 10.0ms\n",
      "video 1/1 (frame 78/348) /home/workspace/yolo/YOLOv10-Custom-Object-Detection/b.mp4: 384x640 (no detections), 10.0ms\n",
      "video 1/1 (frame 79/348) /home/workspace/yolo/YOLOv10-Custom-Object-Detection/b.mp4: 384x640 1 licence, 10.0ms\n",
      "video 1/1 (frame 80/348) /home/workspace/yolo/YOLOv10-Custom-Object-Detection/b.mp4: 384x640 2 licences, 10.1ms\n",
      "video 1/1 (frame 81/348) /home/workspace/yolo/YOLOv10-Custom-Object-Detection/b.mp4: 384x640 (no detections), 10.0ms\n",
      "video 1/1 (frame 82/348) /home/workspace/yolo/YOLOv10-Custom-Object-Detection/b.mp4: 384x640 3 licences, 10.0ms\n",
      "video 1/1 (frame 83/348) /home/workspace/yolo/YOLOv10-Custom-Object-Detection/b.mp4: 384x640 4 licences, 10.0ms\n",
      "video 1/1 (frame 84/348) /home/workspace/yolo/YOLOv10-Custom-Object-Detection/b.mp4: 384x640 2 licences, 10.2ms\n",
      "video 1/1 (frame 85/348) /home/workspace/yolo/YOLOv10-Custom-Object-Detection/b.mp4: 384x640 3 licences, 10.1ms\n",
      "video 1/1 (frame 86/348) /home/workspace/yolo/YOLOv10-Custom-Object-Detection/b.mp4: 384x640 1 licence, 10.0ms\n",
      "video 1/1 (frame 87/348) /home/workspace/yolo/YOLOv10-Custom-Object-Detection/b.mp4: 384x640 3 licences, 10.0ms\n",
      "video 1/1 (frame 88/348) /home/workspace/yolo/YOLOv10-Custom-Object-Detection/b.mp4: 384x640 3 licences, 10.0ms\n",
      "video 1/1 (frame 89/348) /home/workspace/yolo/YOLOv10-Custom-Object-Detection/b.mp4: 384x640 3 licences, 10.2ms\n",
      "video 1/1 (frame 90/348) /home/workspace/yolo/YOLOv10-Custom-Object-Detection/b.mp4: 384x640 4 licences, 10.1ms\n",
      "video 1/1 (frame 91/348) /home/workspace/yolo/YOLOv10-Custom-Object-Detection/b.mp4: 384x640 2 licences, 10.0ms\n",
      "video 1/1 (frame 92/348) /home/workspace/yolo/YOLOv10-Custom-Object-Detection/b.mp4: 384x640 3 licences, 10.0ms\n",
      "video 1/1 (frame 93/348) /home/workspace/yolo/YOLOv10-Custom-Object-Detection/b.mp4: 384x640 2 licences, 10.3ms\n",
      "video 1/1 (frame 94/348) /home/workspace/yolo/YOLOv10-Custom-Object-Detection/b.mp4: 384x640 2 licences, 10.1ms\n",
      "video 1/1 (frame 95/348) /home/workspace/yolo/YOLOv10-Custom-Object-Detection/b.mp4: 384x640 2 licences, 10.0ms\n",
      "video 1/1 (frame 96/348) /home/workspace/yolo/YOLOv10-Custom-Object-Detection/b.mp4: 384x640 2 licences, 10.1ms\n",
      "video 1/1 (frame 97/348) /home/workspace/yolo/YOLOv10-Custom-Object-Detection/b.mp4: 384x640 2 licences, 10.1ms\n",
      "video 1/1 (frame 98/348) /home/workspace/yolo/YOLOv10-Custom-Object-Detection/b.mp4: 384x640 1 licence, 10.4ms\n",
      "video 1/1 (frame 99/348) /home/workspace/yolo/YOLOv10-Custom-Object-Detection/b.mp4: 384x640 1 licence, 10.1ms\n",
      "video 1/1 (frame 100/348) /home/workspace/yolo/YOLOv10-Custom-Object-Detection/b.mp4: 384x640 2 licences, 10.0ms\n",
      "video 1/1 (frame 101/348) /home/workspace/yolo/YOLOv10-Custom-Object-Detection/b.mp4: 384x640 1 licence, 10.1ms\n",
      "video 1/1 (frame 102/348) /home/workspace/yolo/YOLOv10-Custom-Object-Detection/b.mp4: 384x640 2 licences, 10.0ms\n",
      "video 1/1 (frame 103/348) /home/workspace/yolo/YOLOv10-Custom-Object-Detection/b.mp4: 384x640 2 licences, 10.4ms\n",
      "video 1/1 (frame 104/348) /home/workspace/yolo/YOLOv10-Custom-Object-Detection/b.mp4: 384x640 2 licences, 10.1ms\n",
      "video 1/1 (frame 105/348) /home/workspace/yolo/YOLOv10-Custom-Object-Detection/b.mp4: 384x640 2 licences, 10.1ms\n",
      "video 1/1 (frame 106/348) /home/workspace/yolo/YOLOv10-Custom-Object-Detection/b.mp4: 384x640 3 licences, 10.0ms\n",
      "video 1/1 (frame 107/348) /home/workspace/yolo/YOLOv10-Custom-Object-Detection/b.mp4: 384x640 3 licences, 10.0ms\n",
      "video 1/1 (frame 108/348) /home/workspace/yolo/YOLOv10-Custom-Object-Detection/b.mp4: 384x640 3 licences, 10.0ms\n",
      "video 1/1 (frame 109/348) /home/workspace/yolo/YOLOv10-Custom-Object-Detection/b.mp4: 384x640 5 licences, 10.0ms\n",
      "video 1/1 (frame 110/348) /home/workspace/yolo/YOLOv10-Custom-Object-Detection/b.mp4: 384x640 5 licences, 10.7ms\n",
      "video 1/1 (frame 111/348) /home/workspace/yolo/YOLOv10-Custom-Object-Detection/b.mp4: 384x640 4 licences, 9.9ms\n",
      "video 1/1 (frame 112/348) /home/workspace/yolo/YOLOv10-Custom-Object-Detection/b.mp4: 384x640 4 licences, 10.2ms\n",
      "video 1/1 (frame 113/348) /home/workspace/yolo/YOLOv10-Custom-Object-Detection/b.mp4: 384x640 4 licences, 10.0ms\n",
      "video 1/1 (frame 114/348) /home/workspace/yolo/YOLOv10-Custom-Object-Detection/b.mp4: 384x640 5 licences, 10.1ms\n",
      "video 1/1 (frame 115/348) /home/workspace/yolo/YOLOv10-Custom-Object-Detection/b.mp4: 384x640 4 licences, 10.1ms\n",
      "video 1/1 (frame 116/348) /home/workspace/yolo/YOLOv10-Custom-Object-Detection/b.mp4: 384x640 4 licences, 10.2ms\n",
      "video 1/1 (frame 117/348) /home/workspace/yolo/YOLOv10-Custom-Object-Detection/b.mp4: 384x640 4 licences, 10.1ms\n",
      "video 1/1 (frame 118/348) /home/workspace/yolo/YOLOv10-Custom-Object-Detection/b.mp4: 384x640 3 licences, 10.1ms\n",
      "video 1/1 (frame 119/348) /home/workspace/yolo/YOLOv10-Custom-Object-Detection/b.mp4: 384x640 3 licences, 10.1ms\n",
      "video 1/1 (frame 120/348) /home/workspace/yolo/YOLOv10-Custom-Object-Detection/b.mp4: 384x640 3 licences, 10.1ms\n",
      "video 1/1 (frame 121/348) /home/workspace/yolo/YOLOv10-Custom-Object-Detection/b.mp4: 384x640 3 licences, 10.1ms\n",
      "video 1/1 (frame 122/348) /home/workspace/yolo/YOLOv10-Custom-Object-Detection/b.mp4: 384x640 3 licences, 10.1ms\n",
      "video 1/1 (frame 123/348) /home/workspace/yolo/YOLOv10-Custom-Object-Detection/b.mp4: 384x640 4 licences, 10.1ms\n",
      "video 1/1 (frame 124/348) /home/workspace/yolo/YOLOv10-Custom-Object-Detection/b.mp4: 384x640 5 licences, 10.1ms\n",
      "video 1/1 (frame 125/348) /home/workspace/yolo/YOLOv10-Custom-Object-Detection/b.mp4: 384x640 5 licences, 10.1ms\n",
      "video 1/1 (frame 126/348) /home/workspace/yolo/YOLOv10-Custom-Object-Detection/b.mp4: 384x640 5 licences, 10.1ms\n",
      "video 1/1 (frame 127/348) /home/workspace/yolo/YOLOv10-Custom-Object-Detection/b.mp4: 384x640 6 licences, 10.1ms\n",
      "video 1/1 (frame 128/348) /home/workspace/yolo/YOLOv10-Custom-Object-Detection/b.mp4: 384x640 4 licences, 10.2ms\n",
      "video 1/1 (frame 129/348) /home/workspace/yolo/YOLOv10-Custom-Object-Detection/b.mp4: 384x640 3 licences, 10.1ms\n",
      "video 1/1 (frame 130/348) /home/workspace/yolo/YOLOv10-Custom-Object-Detection/b.mp4: 384x640 4 licences, 10.1ms\n",
      "video 1/1 (frame 131/348) /home/workspace/yolo/YOLOv10-Custom-Object-Detection/b.mp4: 384x640 4 licences, 10.0ms\n",
      "video 1/1 (frame 132/348) /home/workspace/yolo/YOLOv10-Custom-Object-Detection/b.mp4: 384x640 3 licences, 10.3ms\n",
      "video 1/1 (frame 133/348) /home/workspace/yolo/YOLOv10-Custom-Object-Detection/b.mp4: 384x640 4 licences, 10.2ms\n",
      "video 1/1 (frame 134/348) /home/workspace/yolo/YOLOv10-Custom-Object-Detection/b.mp4: 384x640 3 licences, 10.2ms\n",
      "video 1/1 (frame 135/348) /home/workspace/yolo/YOLOv10-Custom-Object-Detection/b.mp4: 384x640 5 licences, 10.1ms\n",
      "video 1/1 (frame 136/348) /home/workspace/yolo/YOLOv10-Custom-Object-Detection/b.mp4: 384x640 3 licences, 10.1ms\n",
      "video 1/1 (frame 137/348) /home/workspace/yolo/YOLOv10-Custom-Object-Detection/b.mp4: 384x640 2 licences, 10.2ms\n",
      "video 1/1 (frame 138/348) /home/workspace/yolo/YOLOv10-Custom-Object-Detection/b.mp4: 384x640 2 licences, 10.1ms\n",
      "video 1/1 (frame 139/348) /home/workspace/yolo/YOLOv10-Custom-Object-Detection/b.mp4: 384x640 3 licences, 10.1ms\n",
      "video 1/1 (frame 140/348) /home/workspace/yolo/YOLOv10-Custom-Object-Detection/b.mp4: 384x640 3 licences, 10.4ms\n",
      "video 1/1 (frame 141/348) /home/workspace/yolo/YOLOv10-Custom-Object-Detection/b.mp4: 384x640 3 licences, 10.2ms\n",
      "video 1/1 (frame 142/348) /home/workspace/yolo/YOLOv10-Custom-Object-Detection/b.mp4: 384x640 4 licences, 10.1ms\n",
      "video 1/1 (frame 143/348) /home/workspace/yolo/YOLOv10-Custom-Object-Detection/b.mp4: 384x640 5 licences, 10.1ms\n",
      "video 1/1 (frame 144/348) /home/workspace/yolo/YOLOv10-Custom-Object-Detection/b.mp4: 384x640 4 licences, 10.2ms\n",
      "video 1/1 (frame 145/348) /home/workspace/yolo/YOLOv10-Custom-Object-Detection/b.mp4: 384x640 4 licences, 10.1ms\n",
      "video 1/1 (frame 146/348) /home/workspace/yolo/YOLOv10-Custom-Object-Detection/b.mp4: 384x640 4 licences, 10.1ms\n",
      "video 1/1 (frame 147/348) /home/workspace/yolo/YOLOv10-Custom-Object-Detection/b.mp4: 384x640 5 licences, 10.3ms\n",
      "video 1/1 (frame 148/348) /home/workspace/yolo/YOLOv10-Custom-Object-Detection/b.mp4: 384x640 4 licences, 10.2ms\n",
      "video 1/1 (frame 149/348) /home/workspace/yolo/YOLOv10-Custom-Object-Detection/b.mp4: 384x640 5 licences, 10.5ms\n",
      "video 1/1 (frame 150/348) /home/workspace/yolo/YOLOv10-Custom-Object-Detection/b.mp4: 384x640 4 licences, 10.5ms\n",
      "video 1/1 (frame 151/348) /home/workspace/yolo/YOLOv10-Custom-Object-Detection/b.mp4: 384x640 6 licences, 10.4ms\n",
      "video 1/1 (frame 152/348) /home/workspace/yolo/YOLOv10-Custom-Object-Detection/b.mp4: 384x640 4 licences, 10.4ms\n",
      "video 1/1 (frame 153/348) /home/workspace/yolo/YOLOv10-Custom-Object-Detection/b.mp4: 384x640 3 licences, 10.3ms\n",
      "video 1/1 (frame 154/348) /home/workspace/yolo/YOLOv10-Custom-Object-Detection/b.mp4: 384x640 5 licences, 10.4ms\n",
      "video 1/1 (frame 155/348) /home/workspace/yolo/YOLOv10-Custom-Object-Detection/b.mp4: 384x640 4 licences, 10.2ms\n",
      "video 1/1 (frame 156/348) /home/workspace/yolo/YOLOv10-Custom-Object-Detection/b.mp4: 384x640 3 licences, 10.1ms\n",
      "video 1/1 (frame 157/348) /home/workspace/yolo/YOLOv10-Custom-Object-Detection/b.mp4: 384x640 3 licences, 10.2ms\n",
      "video 1/1 (frame 158/348) /home/workspace/yolo/YOLOv10-Custom-Object-Detection/b.mp4: 384x640 4 licences, 10.2ms\n",
      "video 1/1 (frame 159/348) /home/workspace/yolo/YOLOv10-Custom-Object-Detection/b.mp4: 384x640 5 licences, 10.1ms\n",
      "video 1/1 (frame 160/348) /home/workspace/yolo/YOLOv10-Custom-Object-Detection/b.mp4: 384x640 4 licences, 10.1ms\n",
      "video 1/1 (frame 161/348) /home/workspace/yolo/YOLOv10-Custom-Object-Detection/b.mp4: 384x640 4 licences, 10.1ms\n",
      "video 1/1 (frame 162/348) /home/workspace/yolo/YOLOv10-Custom-Object-Detection/b.mp4: 384x640 3 licences, 10.1ms\n",
      "video 1/1 (frame 163/348) /home/workspace/yolo/YOLOv10-Custom-Object-Detection/b.mp4: 384x640 3 licences, 10.1ms\n",
      "video 1/1 (frame 164/348) /home/workspace/yolo/YOLOv10-Custom-Object-Detection/b.mp4: 384x640 5 licences, 10.1ms\n",
      "video 1/1 (frame 165/348) /home/workspace/yolo/YOLOv10-Custom-Object-Detection/b.mp4: 384x640 4 licences, 10.2ms\n",
      "video 1/1 (frame 166/348) /home/workspace/yolo/YOLOv10-Custom-Object-Detection/b.mp4: 384x640 3 licences, 10.1ms\n",
      "video 1/1 (frame 167/348) /home/workspace/yolo/YOLOv10-Custom-Object-Detection/b.mp4: 384x640 5 licences, 10.1ms\n",
      "video 1/1 (frame 168/348) /home/workspace/yolo/YOLOv10-Custom-Object-Detection/b.mp4: 384x640 4 licences, 10.3ms\n",
      "video 1/1 (frame 169/348) /home/workspace/yolo/YOLOv10-Custom-Object-Detection/b.mp4: 384x640 3 licences, 10.2ms\n",
      "video 1/1 (frame 170/348) /home/workspace/yolo/YOLOv10-Custom-Object-Detection/b.mp4: 384x640 3 licences, 10.1ms\n",
      "video 1/1 (frame 171/348) /home/workspace/yolo/YOLOv10-Custom-Object-Detection/b.mp4: 384x640 2 licences, 10.0ms\n",
      "video 1/1 (frame 172/348) /home/workspace/yolo/YOLOv10-Custom-Object-Detection/b.mp4: 384x640 3 licences, 10.1ms\n",
      "video 1/1 (frame 173/348) /home/workspace/yolo/YOLOv10-Custom-Object-Detection/b.mp4: 384x640 2 licences, 10.2ms\n",
      "video 1/1 (frame 174/348) /home/workspace/yolo/YOLOv10-Custom-Object-Detection/b.mp4: 384x640 4 licences, 10.1ms\n",
      "video 1/1 (frame 175/348) /home/workspace/yolo/YOLOv10-Custom-Object-Detection/b.mp4: 384x640 2 licences, 10.1ms\n",
      "video 1/1 (frame 176/348) /home/workspace/yolo/YOLOv10-Custom-Object-Detection/b.mp4: 384x640 2 licences, 10.0ms\n",
      "video 1/1 (frame 177/348) /home/workspace/yolo/YOLOv10-Custom-Object-Detection/b.mp4: 384x640 3 licences, 10.1ms\n",
      "video 1/1 (frame 178/348) /home/workspace/yolo/YOLOv10-Custom-Object-Detection/b.mp4: 384x640 3 licences, 10.1ms\n",
      "video 1/1 (frame 179/348) /home/workspace/yolo/YOLOv10-Custom-Object-Detection/b.mp4: 384x640 4 licences, 10.1ms\n",
      "video 1/1 (frame 180/348) /home/workspace/yolo/YOLOv10-Custom-Object-Detection/b.mp4: 384x640 5 licences, 10.1ms\n",
      "video 1/1 (frame 181/348) /home/workspace/yolo/YOLOv10-Custom-Object-Detection/b.mp4: 384x640 4 licences, 10.4ms\n",
      "video 1/1 (frame 182/348) /home/workspace/yolo/YOLOv10-Custom-Object-Detection/b.mp4: 384x640 5 licences, 10.5ms\n",
      "video 1/1 (frame 183/348) /home/workspace/yolo/YOLOv10-Custom-Object-Detection/b.mp4: 384x640 5 licences, 10.4ms\n",
      "video 1/1 (frame 184/348) /home/workspace/yolo/YOLOv10-Custom-Object-Detection/b.mp4: 384x640 6 licences, 10.3ms\n",
      "video 1/1 (frame 185/348) /home/workspace/yolo/YOLOv10-Custom-Object-Detection/b.mp4: 384x640 5 licences, 10.2ms\n",
      "video 1/1 (frame 186/348) /home/workspace/yolo/YOLOv10-Custom-Object-Detection/b.mp4: 384x640 5 licences, 10.1ms\n",
      "video 1/1 (frame 187/348) /home/workspace/yolo/YOLOv10-Custom-Object-Detection/b.mp4: 384x640 6 licences, 10.0ms\n",
      "video 1/1 (frame 188/348) /home/workspace/yolo/YOLOv10-Custom-Object-Detection/b.mp4: 384x640 5 licences, 10.1ms\n",
      "video 1/1 (frame 189/348) /home/workspace/yolo/YOLOv10-Custom-Object-Detection/b.mp4: 384x640 7 licences, 10.1ms\n",
      "video 1/1 (frame 190/348) /home/workspace/yolo/YOLOv10-Custom-Object-Detection/b.mp4: 384x640 6 licences, 10.0ms\n",
      "video 1/1 (frame 191/348) /home/workspace/yolo/YOLOv10-Custom-Object-Detection/b.mp4: 384x640 8 licences, 10.0ms\n",
      "video 1/1 (frame 192/348) /home/workspace/yolo/YOLOv10-Custom-Object-Detection/b.mp4: 384x640 7 licences, 10.1ms\n",
      "video 1/1 (frame 193/348) /home/workspace/yolo/YOLOv10-Custom-Object-Detection/b.mp4: 384x640 6 licences, 10.1ms\n",
      "video 1/1 (frame 194/348) /home/workspace/yolo/YOLOv10-Custom-Object-Detection/b.mp4: 384x640 5 licences, 10.0ms\n",
      "video 1/1 (frame 195/348) /home/workspace/yolo/YOLOv10-Custom-Object-Detection/b.mp4: 384x640 5 licences, 10.0ms\n",
      "video 1/1 (frame 196/348) /home/workspace/yolo/YOLOv10-Custom-Object-Detection/b.mp4: 384x640 5 licences, 10.1ms\n",
      "video 1/1 (frame 197/348) /home/workspace/yolo/YOLOv10-Custom-Object-Detection/b.mp4: 384x640 5 licences, 10.3ms\n",
      "video 1/1 (frame 198/348) /home/workspace/yolo/YOLOv10-Custom-Object-Detection/b.mp4: 384x640 7 licences, 10.2ms\n",
      "video 1/1 (frame 199/348) /home/workspace/yolo/YOLOv10-Custom-Object-Detection/b.mp4: 384x640 4 licences, 10.1ms\n",
      "video 1/1 (frame 200/348) /home/workspace/yolo/YOLOv10-Custom-Object-Detection/b.mp4: 384x640 7 licences, 10.3ms\n",
      "video 1/1 (frame 201/348) /home/workspace/yolo/YOLOv10-Custom-Object-Detection/b.mp4: 384x640 7 licences, 10.2ms\n",
      "video 1/1 (frame 202/348) /home/workspace/yolo/YOLOv10-Custom-Object-Detection/b.mp4: 384x640 4 licences, 10.1ms\n",
      "video 1/1 (frame 203/348) /home/workspace/yolo/YOLOv10-Custom-Object-Detection/b.mp4: 384x640 8 licences, 10.1ms\n",
      "video 1/1 (frame 204/348) /home/workspace/yolo/YOLOv10-Custom-Object-Detection/b.mp4: 384x640 5 licences, 10.2ms\n",
      "video 1/1 (frame 205/348) /home/workspace/yolo/YOLOv10-Custom-Object-Detection/b.mp4: 384x640 4 licences, 10.1ms\n",
      "video 1/1 (frame 206/348) /home/workspace/yolo/YOLOv10-Custom-Object-Detection/b.mp4: 384x640 6 licences, 10.1ms\n",
      "video 1/1 (frame 207/348) /home/workspace/yolo/YOLOv10-Custom-Object-Detection/b.mp4: 384x640 3 licences, 10.1ms\n",
      "video 1/1 (frame 208/348) /home/workspace/yolo/YOLOv10-Custom-Object-Detection/b.mp4: 384x640 4 licences, 10.2ms\n",
      "video 1/1 (frame 209/348) /home/workspace/yolo/YOLOv10-Custom-Object-Detection/b.mp4: 384x640 3 licences, 10.1ms\n",
      "video 1/1 (frame 210/348) /home/workspace/yolo/YOLOv10-Custom-Object-Detection/b.mp4: 384x640 3 licences, 10.1ms\n",
      "video 1/1 (frame 211/348) /home/workspace/yolo/YOLOv10-Custom-Object-Detection/b.mp4: 384x640 2 licences, 10.2ms\n",
      "video 1/1 (frame 212/348) /home/workspace/yolo/YOLOv10-Custom-Object-Detection/b.mp4: 384x640 2 licences, 10.0ms\n",
      "video 1/1 (frame 213/348) /home/workspace/yolo/YOLOv10-Custom-Object-Detection/b.mp4: 384x640 3 licences, 10.0ms\n",
      "video 1/1 (frame 214/348) /home/workspace/yolo/YOLOv10-Custom-Object-Detection/b.mp4: 384x640 2 licences, 10.1ms\n",
      "video 1/1 (frame 215/348) /home/workspace/yolo/YOLOv10-Custom-Object-Detection/b.mp4: 384x640 2 licences, 10.2ms\n",
      "video 1/1 (frame 216/348) /home/workspace/yolo/YOLOv10-Custom-Object-Detection/b.mp4: 384x640 1 licence, 10.0ms\n",
      "video 1/1 (frame 217/348) /home/workspace/yolo/YOLOv10-Custom-Object-Detection/b.mp4: 384x640 1 licence, 10.2ms\n",
      "video 1/1 (frame 218/348) /home/workspace/yolo/YOLOv10-Custom-Object-Detection/b.mp4: 384x640 1 licence, 10.2ms\n",
      "video 1/1 (frame 219/348) /home/workspace/yolo/YOLOv10-Custom-Object-Detection/b.mp4: 384x640 1 licence, 10.2ms\n",
      "video 1/1 (frame 220/348) /home/workspace/yolo/YOLOv10-Custom-Object-Detection/b.mp4: 384x640 1 licence, 10.1ms\n",
      "video 1/1 (frame 221/348) /home/workspace/yolo/YOLOv10-Custom-Object-Detection/b.mp4: 384x640 3 licences, 10.1ms\n",
      "video 1/1 (frame 222/348) /home/workspace/yolo/YOLOv10-Custom-Object-Detection/b.mp4: 384x640 2 licences, 10.2ms\n",
      "video 1/1 (frame 223/348) /home/workspace/yolo/YOLOv10-Custom-Object-Detection/b.mp4: 384x640 3 licences, 10.1ms\n",
      "video 1/1 (frame 224/348) /home/workspace/yolo/YOLOv10-Custom-Object-Detection/b.mp4: 384x640 2 licences, 10.1ms\n",
      "video 1/1 (frame 225/348) /home/workspace/yolo/YOLOv10-Custom-Object-Detection/b.mp4: 384x640 2 licences, 10.1ms\n",
      "video 1/1 (frame 226/348) /home/workspace/yolo/YOLOv10-Custom-Object-Detection/b.mp4: 384x640 3 licences, 10.1ms\n",
      "video 1/1 (frame 227/348) /home/workspace/yolo/YOLOv10-Custom-Object-Detection/b.mp4: 384x640 2 licences, 10.2ms\n",
      "video 1/1 (frame 228/348) /home/workspace/yolo/YOLOv10-Custom-Object-Detection/b.mp4: 384x640 2 licences, 10.1ms\n",
      "video 1/1 (frame 229/348) /home/workspace/yolo/YOLOv10-Custom-Object-Detection/b.mp4: 384x640 2 licences, 10.1ms\n",
      "video 1/1 (frame 230/348) /home/workspace/yolo/YOLOv10-Custom-Object-Detection/b.mp4: 384x640 2 licences, 10.1ms\n",
      "video 1/1 (frame 231/348) /home/workspace/yolo/YOLOv10-Custom-Object-Detection/b.mp4: 384x640 2 licences, 10.1ms\n",
      "video 1/1 (frame 232/348) /home/workspace/yolo/YOLOv10-Custom-Object-Detection/b.mp4: 384x640 2 licences, 10.1ms\n",
      "video 1/1 (frame 233/348) /home/workspace/yolo/YOLOv10-Custom-Object-Detection/b.mp4: 384x640 2 licences, 10.2ms\n",
      "video 1/1 (frame 234/348) /home/workspace/yolo/YOLOv10-Custom-Object-Detection/b.mp4: 384x640 4 licences, 10.1ms\n",
      "video 1/1 (frame 235/348) /home/workspace/yolo/YOLOv10-Custom-Object-Detection/b.mp4: 384x640 2 licences, 10.3ms\n",
      "video 1/1 (frame 236/348) /home/workspace/yolo/YOLOv10-Custom-Object-Detection/b.mp4: 384x640 3 licences, 10.1ms\n",
      "video 1/1 (frame 237/348) /home/workspace/yolo/YOLOv10-Custom-Object-Detection/b.mp4: 384x640 3 licences, 10.1ms\n",
      "video 1/1 (frame 238/348) /home/workspace/yolo/YOLOv10-Custom-Object-Detection/b.mp4: 384x640 2 licences, 10.1ms\n",
      "video 1/1 (frame 239/348) /home/workspace/yolo/YOLOv10-Custom-Object-Detection/b.mp4: 384x640 2 licences, 10.1ms\n",
      "video 1/1 (frame 240/348) /home/workspace/yolo/YOLOv10-Custom-Object-Detection/b.mp4: 384x640 2 licences, 10.1ms\n",
      "video 1/1 (frame 241/348) /home/workspace/yolo/YOLOv10-Custom-Object-Detection/b.mp4: 384x640 2 licences, 10.1ms\n",
      "video 1/1 (frame 242/348) /home/workspace/yolo/YOLOv10-Custom-Object-Detection/b.mp4: 384x640 2 licences, 10.1ms\n",
      "video 1/1 (frame 243/348) /home/workspace/yolo/YOLOv10-Custom-Object-Detection/b.mp4: 384x640 2 licences, 10.3ms\n",
      "video 1/1 (frame 244/348) /home/workspace/yolo/YOLOv10-Custom-Object-Detection/b.mp4: 384x640 3 licences, 10.1ms\n",
      "video 1/1 (frame 245/348) /home/workspace/yolo/YOLOv10-Custom-Object-Detection/b.mp4: 384x640 2 licences, 10.1ms\n",
      "video 1/1 (frame 246/348) /home/workspace/yolo/YOLOv10-Custom-Object-Detection/b.mp4: 384x640 2 licences, 10.0ms\n",
      "video 1/1 (frame 247/348) /home/workspace/yolo/YOLOv10-Custom-Object-Detection/b.mp4: 384x640 2 licences, 10.2ms\n",
      "video 1/1 (frame 248/348) /home/workspace/yolo/YOLOv10-Custom-Object-Detection/b.mp4: 384x640 3 licences, 10.0ms\n",
      "video 1/1 (frame 249/348) /home/workspace/yolo/YOLOv10-Custom-Object-Detection/b.mp4: 384x640 2 licences, 10.1ms\n",
      "video 1/1 (frame 250/348) /home/workspace/yolo/YOLOv10-Custom-Object-Detection/b.mp4: 384x640 3 licences, 10.1ms\n",
      "video 1/1 (frame 251/348) /home/workspace/yolo/YOLOv10-Custom-Object-Detection/b.mp4: 384x640 3 licences, 10.1ms\n",
      "video 1/1 (frame 252/348) /home/workspace/yolo/YOLOv10-Custom-Object-Detection/b.mp4: 384x640 3 licences, 10.1ms\n",
      "video 1/1 (frame 253/348) /home/workspace/yolo/YOLOv10-Custom-Object-Detection/b.mp4: 384x640 3 licences, 10.1ms\n",
      "video 1/1 (frame 254/348) /home/workspace/yolo/YOLOv10-Custom-Object-Detection/b.mp4: 384x640 3 licences, 10.1ms\n",
      "video 1/1 (frame 255/348) /home/workspace/yolo/YOLOv10-Custom-Object-Detection/b.mp4: 384x640 2 licences, 10.1ms\n",
      "video 1/1 (frame 256/348) /home/workspace/yolo/YOLOv10-Custom-Object-Detection/b.mp4: 384x640 2 licences, 10.2ms\n",
      "video 1/1 (frame 257/348) /home/workspace/yolo/YOLOv10-Custom-Object-Detection/b.mp4: 384x640 2 licences, 10.8ms\n",
      "video 1/1 (frame 258/348) /home/workspace/yolo/YOLOv10-Custom-Object-Detection/b.mp4: 384x640 3 licences, 10.3ms\n",
      "video 1/1 (frame 259/348) /home/workspace/yolo/YOLOv10-Custom-Object-Detection/b.mp4: 384x640 2 licences, 10.3ms\n",
      "video 1/1 (frame 260/348) /home/workspace/yolo/YOLOv10-Custom-Object-Detection/b.mp4: 384x640 3 licences, 10.2ms\n",
      "video 1/1 (frame 261/348) /home/workspace/yolo/YOLOv10-Custom-Object-Detection/b.mp4: 384x640 2 licences, 10.1ms\n",
      "video 1/1 (frame 262/348) /home/workspace/yolo/YOLOv10-Custom-Object-Detection/b.mp4: 384x640 2 licences, 10.3ms\n",
      "video 1/1 (frame 263/348) /home/workspace/yolo/YOLOv10-Custom-Object-Detection/b.mp4: 384x640 3 licences, 10.1ms\n",
      "video 1/1 (frame 264/348) /home/workspace/yolo/YOLOv10-Custom-Object-Detection/b.mp4: 384x640 3 licences, 10.2ms\n",
      "video 1/1 (frame 265/348) /home/workspace/yolo/YOLOv10-Custom-Object-Detection/b.mp4: 384x640 3 licences, 10.1ms\n",
      "video 1/1 (frame 266/348) /home/workspace/yolo/YOLOv10-Custom-Object-Detection/b.mp4: 384x640 3 licences, 10.1ms\n",
      "video 1/1 (frame 267/348) /home/workspace/yolo/YOLOv10-Custom-Object-Detection/b.mp4: 384x640 3 licences, 10.4ms\n",
      "video 1/1 (frame 268/348) /home/workspace/yolo/YOLOv10-Custom-Object-Detection/b.mp4: 384x640 3 licences, 10.2ms\n",
      "video 1/1 (frame 269/348) /home/workspace/yolo/YOLOv10-Custom-Object-Detection/b.mp4: 384x640 4 licences, 10.2ms\n",
      "video 1/1 (frame 270/348) /home/workspace/yolo/YOLOv10-Custom-Object-Detection/b.mp4: 384x640 3 licences, 10.0ms\n",
      "video 1/1 (frame 271/348) /home/workspace/yolo/YOLOv10-Custom-Object-Detection/b.mp4: 384x640 3 licences, 10.0ms\n",
      "video 1/1 (frame 272/348) /home/workspace/yolo/YOLOv10-Custom-Object-Detection/b.mp4: 384x640 3 licences, 10.0ms\n",
      "video 1/1 (frame 273/348) /home/workspace/yolo/YOLOv10-Custom-Object-Detection/b.mp4: 384x640 4 licences, 10.4ms\n",
      "video 1/1 (frame 274/348) /home/workspace/yolo/YOLOv10-Custom-Object-Detection/b.mp4: 384x640 2 licences, 10.1ms\n",
      "video 1/1 (frame 275/348) /home/workspace/yolo/YOLOv10-Custom-Object-Detection/b.mp4: 384x640 2 licences, 10.1ms\n",
      "video 1/1 (frame 276/348) /home/workspace/yolo/YOLOv10-Custom-Object-Detection/b.mp4: 384x640 3 licences, 10.0ms\n",
      "video 1/1 (frame 277/348) /home/workspace/yolo/YOLOv10-Custom-Object-Detection/b.mp4: 384x640 3 licences, 10.0ms\n",
      "video 1/1 (frame 278/348) /home/workspace/yolo/YOLOv10-Custom-Object-Detection/b.mp4: 384x640 4 licences, 10.2ms\n",
      "video 1/1 (frame 279/348) /home/workspace/yolo/YOLOv10-Custom-Object-Detection/b.mp4: 384x640 3 licences, 10.2ms\n",
      "video 1/1 (frame 280/348) /home/workspace/yolo/YOLOv10-Custom-Object-Detection/b.mp4: 384x640 4 licences, 10.0ms\n",
      "video 1/1 (frame 281/348) /home/workspace/yolo/YOLOv10-Custom-Object-Detection/b.mp4: 384x640 3 licences, 10.1ms\n",
      "video 1/1 (frame 282/348) /home/workspace/yolo/YOLOv10-Custom-Object-Detection/b.mp4: 384x640 3 licences, 10.1ms\n",
      "video 1/1 (frame 283/348) /home/workspace/yolo/YOLOv10-Custom-Object-Detection/b.mp4: 384x640 3 licences, 10.2ms\n",
      "video 1/1 (frame 284/348) /home/workspace/yolo/YOLOv10-Custom-Object-Detection/b.mp4: 384x640 3 licences, 10.1ms\n",
      "video 1/1 (frame 285/348) /home/workspace/yolo/YOLOv10-Custom-Object-Detection/b.mp4: 384x640 3 licences, 10.1ms\n",
      "video 1/1 (frame 286/348) /home/workspace/yolo/YOLOv10-Custom-Object-Detection/b.mp4: 384x640 3 licences, 10.1ms\n",
      "video 1/1 (frame 287/348) /home/workspace/yolo/YOLOv10-Custom-Object-Detection/b.mp4: 384x640 3 licences, 10.1ms\n",
      "video 1/1 (frame 288/348) /home/workspace/yolo/YOLOv10-Custom-Object-Detection/b.mp4: 384x640 4 licences, 10.4ms\n",
      "video 1/1 (frame 289/348) /home/workspace/yolo/YOLOv10-Custom-Object-Detection/b.mp4: 384x640 3 licences, 10.6ms\n",
      "video 1/1 (frame 290/348) /home/workspace/yolo/YOLOv10-Custom-Object-Detection/b.mp4: 384x640 4 licences, 10.7ms\n",
      "video 1/1 (frame 291/348) /home/workspace/yolo/YOLOv10-Custom-Object-Detection/b.mp4: 384x640 3 licences, 10.5ms\n",
      "video 1/1 (frame 292/348) /home/workspace/yolo/YOLOv10-Custom-Object-Detection/b.mp4: 384x640 3 licences, 10.4ms\n",
      "video 1/1 (frame 293/348) /home/workspace/yolo/YOLOv10-Custom-Object-Detection/b.mp4: 384x640 3 licences, 10.3ms\n",
      "video 1/1 (frame 294/348) /home/workspace/yolo/YOLOv10-Custom-Object-Detection/b.mp4: 384x640 3 licences, 10.2ms\n",
      "video 1/1 (frame 295/348) /home/workspace/yolo/YOLOv10-Custom-Object-Detection/b.mp4: 384x640 3 licences, 10.1ms\n",
      "video 1/1 (frame 296/348) /home/workspace/yolo/YOLOv10-Custom-Object-Detection/b.mp4: 384x640 3 licences, 10.1ms\n",
      "video 1/1 (frame 297/348) /home/workspace/yolo/YOLOv10-Custom-Object-Detection/b.mp4: 384x640 3 licences, 10.1ms\n",
      "video 1/1 (frame 298/348) /home/workspace/yolo/YOLOv10-Custom-Object-Detection/b.mp4: 384x640 3 licences, 10.2ms\n",
      "video 1/1 (frame 299/348) /home/workspace/yolo/YOLOv10-Custom-Object-Detection/b.mp4: 384x640 3 licences, 10.1ms\n",
      "video 1/1 (frame 300/348) /home/workspace/yolo/YOLOv10-Custom-Object-Detection/b.mp4: 384x640 4 licences, 10.1ms\n",
      "video 1/1 (frame 301/348) /home/workspace/yolo/YOLOv10-Custom-Object-Detection/b.mp4: 384x640 5 licences, 10.1ms\n",
      "video 1/1 (frame 302/348) /home/workspace/yolo/YOLOv10-Custom-Object-Detection/b.mp4: 384x640 4 licences, 10.1ms\n",
      "video 1/1 (frame 303/348) /home/workspace/yolo/YOLOv10-Custom-Object-Detection/b.mp4: 384x640 3 licences, 10.0ms\n",
      "video 1/1 (frame 304/348) /home/workspace/yolo/YOLOv10-Custom-Object-Detection/b.mp4: 384x640 4 licences, 10.1ms\n",
      "video 1/1 (frame 305/348) /home/workspace/yolo/YOLOv10-Custom-Object-Detection/b.mp4: 384x640 3 licences, 10.2ms\n",
      "video 1/1 (frame 306/348) /home/workspace/yolo/YOLOv10-Custom-Object-Detection/b.mp4: 384x640 4 licences, 10.0ms\n",
      "video 1/1 (frame 307/348) /home/workspace/yolo/YOLOv10-Custom-Object-Detection/b.mp4: 384x640 4 licences, 10.1ms\n",
      "video 1/1 (frame 308/348) /home/workspace/yolo/YOLOv10-Custom-Object-Detection/b.mp4: 384x640 3 licences, 10.2ms\n",
      "video 1/1 (frame 309/348) /home/workspace/yolo/YOLOv10-Custom-Object-Detection/b.mp4: 384x640 3 licences, 10.1ms\n",
      "video 1/1 (frame 310/348) /home/workspace/yolo/YOLOv10-Custom-Object-Detection/b.mp4: 384x640 3 licences, 10.1ms\n",
      "video 1/1 (frame 311/348) /home/workspace/yolo/YOLOv10-Custom-Object-Detection/b.mp4: 384x640 4 licences, 10.1ms\n",
      "video 1/1 (frame 312/348) /home/workspace/yolo/YOLOv10-Custom-Object-Detection/b.mp4: 384x640 4 licences, 10.1ms\n",
      "video 1/1 (frame 313/348) /home/workspace/yolo/YOLOv10-Custom-Object-Detection/b.mp4: 384x640 5 licences, 10.1ms\n",
      "video 1/1 (frame 314/348) /home/workspace/yolo/YOLOv10-Custom-Object-Detection/b.mp4: 384x640 5 licences, 10.3ms\n",
      "video 1/1 (frame 315/348) /home/workspace/yolo/YOLOv10-Custom-Object-Detection/b.mp4: 384x640 5 licences, 10.1ms\n",
      "video 1/1 (frame 316/348) /home/workspace/yolo/YOLOv10-Custom-Object-Detection/b.mp4: 384x640 3 licences, 10.1ms\n",
      "video 1/1 (frame 317/348) /home/workspace/yolo/YOLOv10-Custom-Object-Detection/b.mp4: 384x640 3 licences, 10.2ms\n",
      "video 1/1 (frame 318/348) /home/workspace/yolo/YOLOv10-Custom-Object-Detection/b.mp4: 384x640 2 licences, 10.1ms\n",
      "video 1/1 (frame 319/348) /home/workspace/yolo/YOLOv10-Custom-Object-Detection/b.mp4: 384x640 2 licences, 10.1ms\n",
      "video 1/1 (frame 320/348) /home/workspace/yolo/YOLOv10-Custom-Object-Detection/b.mp4: 384x640 2 licences, 10.1ms\n",
      "video 1/1 (frame 321/348) /home/workspace/yolo/YOLOv10-Custom-Object-Detection/b.mp4: 384x640 3 licences, 10.3ms\n",
      "video 1/1 (frame 322/348) /home/workspace/yolo/YOLOv10-Custom-Object-Detection/b.mp4: 384x640 4 licences, 10.1ms\n",
      "video 1/1 (frame 323/348) /home/workspace/yolo/YOLOv10-Custom-Object-Detection/b.mp4: 384x640 2 licences, 10.1ms\n",
      "video 1/1 (frame 324/348) /home/workspace/yolo/YOLOv10-Custom-Object-Detection/b.mp4: 384x640 1 licence, 10.0ms\n",
      "video 1/1 (frame 325/348) /home/workspace/yolo/YOLOv10-Custom-Object-Detection/b.mp4: 384x640 1 licence, 10.3ms\n",
      "video 1/1 (frame 326/348) /home/workspace/yolo/YOLOv10-Custom-Object-Detection/b.mp4: 384x640 1 licence, 10.0ms\n",
      "video 1/1 (frame 327/348) /home/workspace/yolo/YOLOv10-Custom-Object-Detection/b.mp4: 384x640 1 licence, 10.0ms\n",
      "video 1/1 (frame 328/348) /home/workspace/yolo/YOLOv10-Custom-Object-Detection/b.mp4: 384x640 1 licence, 10.0ms\n",
      "video 1/1 (frame 329/348) /home/workspace/yolo/YOLOv10-Custom-Object-Detection/b.mp4: 384x640 1 licence, 10.1ms\n",
      "video 1/1 (frame 330/348) /home/workspace/yolo/YOLOv10-Custom-Object-Detection/b.mp4: 384x640 2 licences, 10.1ms\n",
      "video 1/1 (frame 331/348) /home/workspace/yolo/YOLOv10-Custom-Object-Detection/b.mp4: 384x640 1 licence, 10.0ms\n",
      "video 1/1 (frame 332/348) /home/workspace/yolo/YOLOv10-Custom-Object-Detection/b.mp4: 384x640 1 licence, 10.0ms\n",
      "video 1/1 (frame 333/348) /home/workspace/yolo/YOLOv10-Custom-Object-Detection/b.mp4: 384x640 2 licences, 10.0ms\n",
      "video 1/1 (frame 334/348) /home/workspace/yolo/YOLOv10-Custom-Object-Detection/b.mp4: 384x640 2 licences, 10.1ms\n",
      "video 1/1 (frame 335/348) /home/workspace/yolo/YOLOv10-Custom-Object-Detection/b.mp4: 384x640 2 licences, 10.1ms\n",
      "video 1/1 (frame 336/348) /home/workspace/yolo/YOLOv10-Custom-Object-Detection/b.mp4: 384x640 2 licences, 10.0ms\n",
      "video 1/1 (frame 337/348) /home/workspace/yolo/YOLOv10-Custom-Object-Detection/b.mp4: 384x640 2 licences, 10.0ms\n",
      "video 1/1 (frame 338/348) /home/workspace/yolo/YOLOv10-Custom-Object-Detection/b.mp4: 384x640 1 licence, 10.3ms\n",
      "video 1/1 (frame 339/348) /home/workspace/yolo/YOLOv10-Custom-Object-Detection/b.mp4: 384x640 2 licences, 10.0ms\n",
      "video 1/1 (frame 340/348) /home/workspace/yolo/YOLOv10-Custom-Object-Detection/b.mp4: 384x640 2 licences, 10.1ms\n",
      "video 1/1 (frame 341/348) /home/workspace/yolo/YOLOv10-Custom-Object-Detection/b.mp4: 384x640 2 licences, 10.1ms\n",
      "video 1/1 (frame 342/348) /home/workspace/yolo/YOLOv10-Custom-Object-Detection/b.mp4: 384x640 2 licences, 10.0ms\n",
      "video 1/1 (frame 343/348) /home/workspace/yolo/YOLOv10-Custom-Object-Detection/b.mp4: 384x640 2 licences, 10.0ms\n",
      "video 1/1 (frame 344/348) /home/workspace/yolo/YOLOv10-Custom-Object-Detection/b.mp4: 384x640 2 licences, 10.0ms\n",
      "video 1/1 (frame 345/348) /home/workspace/yolo/YOLOv10-Custom-Object-Detection/b.mp4: 384x640 3 licences, 10.0ms\n",
      "video 1/1 (frame 346/348) /home/workspace/yolo/YOLOv10-Custom-Object-Detection/b.mp4: 384x640 2 licences, 10.2ms\n",
      "video 1/1 (frame 347/348) /home/workspace/yolo/YOLOv10-Custom-Object-Detection/b.mp4: 384x640 2 licences, 10.0ms\n",
      "video 1/1 (frame 348/348) /home/workspace/yolo/YOLOv10-Custom-Object-Detection/b.mp4: 384x640 3 licences, 10.0ms\n",
      "Speed: 0.9ms preprocess, 10.3ms inference, 0.6ms postprocess per image at shape (1, 3, 384, 640)\n",
      "Results saved to \u001b[1mruns/detect/predict2\u001b[0m\n"
     ]
    }
   ],
   "source": [
    "video_result = trained_model.predict(source=\"./b.mp4\", conf=0.25, save=True)"
   ]
  },
  {
   "cell_type": "code",
   "execution_count": null,
   "id": "ed1460e2-06ea-4dfa-92f5-1f363c0c8e2d",
   "metadata": {},
   "outputs": [],
   "source": []
  }
 ],
 "metadata": {
  "kernelspec": {
   "display_name": "base",
   "language": "python",
   "name": "python3"
  },
  "language_info": {
   "codemirror_mode": {
    "name": "ipython",
    "version": 3
   },
   "file_extension": ".py",
   "mimetype": "text/x-python",
   "name": "python",
   "nbconvert_exporter": "python",
   "pygments_lexer": "ipython3",
   "version": "3.11.9"
  }
 },
 "nbformat": 4,
 "nbformat_minor": 5
}
